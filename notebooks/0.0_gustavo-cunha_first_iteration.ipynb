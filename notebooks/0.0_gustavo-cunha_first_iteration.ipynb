{
 "cells": [
  {
   "attachments": {},
   "cell_type": "markdown",
   "id": "cce72a6a",
   "metadata": {},
   "source": [
    "# **SCOPE AND BUSINESS ASSUMPTIONS**\n",
    "\n",
    "- **...**\n",
    "\n",
    "- **...**"
   ]
  },
  {
   "attachments": {},
   "cell_type": "markdown",
   "id": "aa8ba4f7",
   "metadata": {},
   "source": [
    "---\n",
    "---\n",
    "---"
   ]
  },
  {
   "attachments": {},
   "cell_type": "markdown",
   "id": "cfb7b1da",
   "metadata": {
    "heading_collapsed": true
   },
   "source": [
    "# **0 - HELPERS**"
   ]
  },
  {
   "attachments": {},
   "cell_type": "markdown",
   "id": "f73c6dcd",
   "metadata": {
    "heading_collapsed": true,
    "hidden": true
   },
   "source": [
    "## 0.1 - Libraries"
   ]
  },
  {
   "attachments": {},
   "cell_type": "markdown",
   "id": "3a213f9e",
   "metadata": {},
   "source": [
    "*Import required libraries*"
   ]
  },
  {
   "cell_type": "code",
   "execution_count": 1,
   "id": "6bef9efa",
   "metadata": {},
   "outputs": [],
   "source": [
    "# don't cache libraries (especially project library)\n",
    "%load_ext autoreload\n",
    "%autoreload 2"
   ]
  },
  {
   "cell_type": "code",
   "execution_count": 34,
   "id": "2d066e75",
   "metadata": {},
   "outputs": [],
   "source": [
    "# setup and environment\n",
    "import os\n",
    "from   pathlib import Path\n",
    "\n",
    "# data manipulation\n",
    "import re\n",
    "import numpy as np\n",
    "import pandas as pd\n",
    "\n",
    "# data viz\n",
    "import matplotlib.pyplot as plt\n",
    "import seaborn as sns\n",
    "\n",
    "# project library\n",
    "from project_lib.initial_config import initial_settings\n",
    "from project_lib.data_description import (\n",
    "    check_dataframe, inspect_dtypes, check_na_unique_dtypes,\n",
    "    summary_statistics, categorical_summary, datetime_summary\n",
    "    )\n"
   ]
  },
  {
   "attachments": {},
   "cell_type": "markdown",
   "id": "66efdb94",
   "metadata": {
    "ExecuteTime": {
     "end_time": "2021-11-08T11:06:42.870317Z",
     "start_time": "2021-11-08T11:06:42.862040Z"
    },
    "heading_collapsed": true,
    "hidden": true
   },
   "source": [
    "## 0.2 - Functions"
   ]
  },
  {
   "attachments": {},
   "cell_type": "markdown",
   "id": "8e94d8f7",
   "metadata": {},
   "source": [
    "*Define functions that will be used on the project*"
   ]
  },
  {
   "attachments": {},
   "cell_type": "markdown",
   "id": "005d90e2",
   "metadata": {
    "ExecuteTime": {
     "end_time": "2021-12-10T14:13:12.396952Z",
     "start_time": "2021-12-10T14:13:12.316411Z"
    },
    "hidden": true
   },
   "source": [
    "NOTE: Most functions made for this project are inside the project library. That is, **a package called \"project_lib\" was created to hold all functions that will be needed for this project.**\n",
    "\n",
    "\n",
    "For further details, please check the modules inside \"project_lib\" package [in other words, check .py files inside project_lib folder]"
   ]
  },
  {
   "cell_type": "code",
   "execution_count": 12,
   "id": "0166e669",
   "metadata": {},
   "outputs": [
    {
     "name": "stdout",
     "output_type": "stream",
     "text": [
      "Help on function check_dataframe in module project_lib.data_description:\n",
      "\n",
      "check_dataframe(dataframe: pandas.core.frame.DataFrame, summary_stats=False, head: bool = False, size: int = 5) -> None\n",
      "    It displays the number of NAs, the percentage of NA, the number of unique values and\n",
      "    the data type for each column.\n",
      "    It can (depending on summary_stats param) also displays dataframe shape and\n",
      "    also displays statistics for numerical variables.\n",
      "    Finally, it displays the dataframe head or a random sample of dataframe according to user choice.\n",
      "    \n",
      "    Args\n",
      "        dataframe: the pandas dataframe that the user wants to check.\n",
      "        summary_stats: a boolean to indicate if user wants to see summary statistic\n",
      "            for numerical features.\n",
      "        head: boolean that indicate if user wants to see\n",
      "            the head of the dataframe (True) or\n",
      "            a sample of the dataframe (False)\n",
      "        size: size of the dataframe.head() or dataframe.sample() function .\n",
      "    \n",
      "    Return\n",
      "        None: a none type object\n",
      "\n"
     ]
    }
   ],
   "source": [
    "# example of function created for this project\n",
    "help(check_dataframe)"
   ]
  },
  {
   "attachments": {},
   "cell_type": "markdown",
   "id": "31bfa06e",
   "metadata": {},
   "source": [
    "## 0.3 - Setup"
   ]
  },
  {
   "attachments": {},
   "cell_type": "markdown",
   "id": "7dc1ec1d",
   "metadata": {},
   "source": [
    "*Define basic configurations*"
   ]
  },
  {
   "cell_type": "code",
   "execution_count": 14,
   "id": "66009c14",
   "metadata": {},
   "outputs": [
    {
     "data": {
      "text/html": [
       "<style>.container { width:100% !important; }</style>"
      ],
      "text/plain": [
       "<IPython.core.display.HTML object>"
      ]
     },
     "metadata": {},
     "output_type": "display_data"
    }
   ],
   "source": [
    "# initial setup of dataframes and plots\n",
    "initial_settings(storytelling=False)"
   ]
  },
  {
   "attachments": {},
   "cell_type": "markdown",
   "id": "fa085249",
   "metadata": {},
   "source": [
    "## 0.4 - Constants"
   ]
  },
  {
   "attachments": {},
   "cell_type": "markdown",
   "id": "059932be",
   "metadata": {},
   "source": [
    "*Define reusuable constants*"
   ]
  },
  {
   "cell_type": "code",
   "execution_count": 15,
   "id": "ad9f83e2",
   "metadata": {},
   "outputs": [
    {
     "data": {
      "text/plain": [
       "PosixPath('/home/ds-gustavo-cunha/Projects/indicium_case')"
      ]
     },
     "execution_count": 15,
     "metadata": {},
     "output_type": "execute_result"
    }
   ],
   "source": [
    "# define the project root path that will be the \"baseline\" for all paths in the notebook\n",
    "PROJECT_ROOT_PATH = Path.cwd().parent\n",
    "PROJECT_ROOT_PATH"
   ]
  },
  {
   "attachments": {},
   "cell_type": "markdown",
   "id": "71c139dd",
   "metadata": {
    "ExecuteTime": {
     "end_time": "2021-11-04T23:09:51.772110Z",
     "start_time": "2021-11-04T23:09:51.767141Z"
    }
   },
   "source": [
    "# **1 - DATA EXTRACTION**"
   ]
  },
  {
   "attachments": {},
   "cell_type": "markdown",
   "id": "870fc960",
   "metadata": {},
   "source": [
    "## 1.1 - Entity Relationship Diagram"
   ]
  },
  {
   "attachments": {},
   "cell_type": "markdown",
   "id": "52b1c61e",
   "metadata": {},
   "source": [
    "*Display Entity-Relationship Diagram to a better data understanding*"
   ]
  },
  {
   "cell_type": "code",
   "execution_count": 16,
   "id": "aee358fe",
   "metadata": {},
   "outputs": [],
   "source": [
    "# NOT AVAILABLE"
   ]
  },
  {
   "attachments": {},
   "cell_type": "markdown",
   "id": "eddb0851",
   "metadata": {
    "ExecuteTime": {
     "end_time": "2021-11-08T11:11:43.415835Z",
     "start_time": "2021-11-08T11:11:43.409069Z"
    }
   },
   "source": [
    "## 1.2 - Data Fields Description"
   ]
  },
  {
   "attachments": {},
   "cell_type": "markdown",
   "id": "6ef925d8",
   "metadata": {},
   "source": [
    "*Describe available data in regard to database information*\n"
   ]
  },
  {
   "cell_type": "code",
   "execution_count": 17,
   "id": "e7516f45",
   "metadata": {
    "ExecuteTime": {
     "end_time": "2021-11-04T23:10:12.465759Z",
     "start_time": "2021-11-04T23:10:12.443121Z"
    },
    "heading_collapsed": true
   },
   "outputs": [],
   "source": [
    "# NOT AVAILABLE"
   ]
  },
  {
   "attachments": {},
   "cell_type": "markdown",
   "id": "425ae4b4",
   "metadata": {},
   "source": [
    "## 1.3 - Data Loading"
   ]
  },
  {
   "attachments": {},
   "cell_type": "markdown",
   "id": "98e6ffec",
   "metadata": {},
   "source": [
    "*Load data from required files*"
   ]
  },
  {
   "cell_type": "code",
   "execution_count": 18,
   "id": "5c1b6096",
   "metadata": {},
   "outputs": [
    {
     "data": {
      "text/html": [
       "<div>\n",
       "<style scoped>\n",
       "    .dataframe tbody tr th:only-of-type {\n",
       "        vertical-align: middle;\n",
       "    }\n",
       "\n",
       "    .dataframe tbody tr th {\n",
       "        vertical-align: top;\n",
       "    }\n",
       "\n",
       "    .dataframe thead th {\n",
       "        text-align: right;\n",
       "    }\n",
       "</style>\n",
       "<table border=\"1\" class=\"dataframe\">\n",
       "  <thead>\n",
       "    <tr style=\"text-align: right;\">\n",
       "      <th></th>\n",
       "      <th>RowNumber</th>\n",
       "      <th>CustomerId</th>\n",
       "      <th>Surname</th>\n",
       "      <th>CreditScore</th>\n",
       "      <th>Geography</th>\n",
       "      <th>Gender</th>\n",
       "      <th>Age</th>\n",
       "      <th>Tenure</th>\n",
       "      <th>Balance</th>\n",
       "      <th>NumOfProducts</th>\n",
       "      <th>HasCrCard</th>\n",
       "      <th>IsActiveMember</th>\n",
       "      <th>EstimatedSalary</th>\n",
       "      <th>Exited</th>\n",
       "    </tr>\n",
       "  </thead>\n",
       "  <tbody>\n",
       "    <tr>\n",
       "      <th>0</th>\n",
       "      <td>1</td>\n",
       "      <td>15634602</td>\n",
       "      <td>Hargrave</td>\n",
       "      <td>619</td>\n",
       "      <td>France</td>\n",
       "      <td>Female</td>\n",
       "      <td>42</td>\n",
       "      <td>2</td>\n",
       "      <td>0.000</td>\n",
       "      <td>1</td>\n",
       "      <td>1</td>\n",
       "      <td>1</td>\n",
       "      <td>101,348.880</td>\n",
       "      <td>1</td>\n",
       "    </tr>\n",
       "    <tr>\n",
       "      <th>1</th>\n",
       "      <td>2</td>\n",
       "      <td>15647311</td>\n",
       "      <td>Hill</td>\n",
       "      <td>608</td>\n",
       "      <td>Spain</td>\n",
       "      <td>Female</td>\n",
       "      <td>41</td>\n",
       "      <td>1</td>\n",
       "      <td>83,807.860</td>\n",
       "      <td>1</td>\n",
       "      <td>0</td>\n",
       "      <td>1</td>\n",
       "      <td>112,542.580</td>\n",
       "      <td>0</td>\n",
       "    </tr>\n",
       "    <tr>\n",
       "      <th>2</th>\n",
       "      <td>3</td>\n",
       "      <td>15619304</td>\n",
       "      <td>Onio</td>\n",
       "      <td>502</td>\n",
       "      <td>France</td>\n",
       "      <td>Female</td>\n",
       "      <td>42</td>\n",
       "      <td>8</td>\n",
       "      <td>159,660.800</td>\n",
       "      <td>3</td>\n",
       "      <td>1</td>\n",
       "      <td>0</td>\n",
       "      <td>113,931.570</td>\n",
       "      <td>1</td>\n",
       "    </tr>\n",
       "    <tr>\n",
       "      <th>3</th>\n",
       "      <td>4</td>\n",
       "      <td>15701354</td>\n",
       "      <td>Boni</td>\n",
       "      <td>699</td>\n",
       "      <td>France</td>\n",
       "      <td>Female</td>\n",
       "      <td>39</td>\n",
       "      <td>1</td>\n",
       "      <td>0.000</td>\n",
       "      <td>2</td>\n",
       "      <td>0</td>\n",
       "      <td>0</td>\n",
       "      <td>93,826.630</td>\n",
       "      <td>0</td>\n",
       "    </tr>\n",
       "    <tr>\n",
       "      <th>4</th>\n",
       "      <td>5</td>\n",
       "      <td>15737888</td>\n",
       "      <td>Mitchell</td>\n",
       "      <td>850</td>\n",
       "      <td>Spain</td>\n",
       "      <td>Female</td>\n",
       "      <td>43</td>\n",
       "      <td>2</td>\n",
       "      <td>125,510.820</td>\n",
       "      <td>1</td>\n",
       "      <td>1</td>\n",
       "      <td>1</td>\n",
       "      <td>79,084.100</td>\n",
       "      <td>0</td>\n",
       "    </tr>\n",
       "    <tr>\n",
       "      <th>...</th>\n",
       "      <td>...</td>\n",
       "      <td>...</td>\n",
       "      <td>...</td>\n",
       "      <td>...</td>\n",
       "      <td>...</td>\n",
       "      <td>...</td>\n",
       "      <td>...</td>\n",
       "      <td>...</td>\n",
       "      <td>...</td>\n",
       "      <td>...</td>\n",
       "      <td>...</td>\n",
       "      <td>...</td>\n",
       "      <td>...</td>\n",
       "      <td>...</td>\n",
       "    </tr>\n",
       "    <tr>\n",
       "      <th>9995</th>\n",
       "      <td>9996</td>\n",
       "      <td>15606229</td>\n",
       "      <td>Obijiaku</td>\n",
       "      <td>771</td>\n",
       "      <td>France</td>\n",
       "      <td>Male</td>\n",
       "      <td>39</td>\n",
       "      <td>5</td>\n",
       "      <td>0.000</td>\n",
       "      <td>2</td>\n",
       "      <td>1</td>\n",
       "      <td>0</td>\n",
       "      <td>96,270.640</td>\n",
       "      <td>0</td>\n",
       "    </tr>\n",
       "    <tr>\n",
       "      <th>9996</th>\n",
       "      <td>9997</td>\n",
       "      <td>15569892</td>\n",
       "      <td>Johnstone</td>\n",
       "      <td>516</td>\n",
       "      <td>France</td>\n",
       "      <td>Male</td>\n",
       "      <td>35</td>\n",
       "      <td>10</td>\n",
       "      <td>57,369.610</td>\n",
       "      <td>1</td>\n",
       "      <td>1</td>\n",
       "      <td>1</td>\n",
       "      <td>101,699.770</td>\n",
       "      <td>0</td>\n",
       "    </tr>\n",
       "    <tr>\n",
       "      <th>9997</th>\n",
       "      <td>9998</td>\n",
       "      <td>15584532</td>\n",
       "      <td>Liu</td>\n",
       "      <td>709</td>\n",
       "      <td>France</td>\n",
       "      <td>Female</td>\n",
       "      <td>36</td>\n",
       "      <td>7</td>\n",
       "      <td>0.000</td>\n",
       "      <td>1</td>\n",
       "      <td>0</td>\n",
       "      <td>1</td>\n",
       "      <td>42,085.580</td>\n",
       "      <td>1</td>\n",
       "    </tr>\n",
       "    <tr>\n",
       "      <th>9998</th>\n",
       "      <td>9999</td>\n",
       "      <td>15682355</td>\n",
       "      <td>Sabbatini</td>\n",
       "      <td>772</td>\n",
       "      <td>Germany</td>\n",
       "      <td>Male</td>\n",
       "      <td>42</td>\n",
       "      <td>3</td>\n",
       "      <td>75,075.310</td>\n",
       "      <td>2</td>\n",
       "      <td>1</td>\n",
       "      <td>0</td>\n",
       "      <td>92,888.520</td>\n",
       "      <td>1</td>\n",
       "    </tr>\n",
       "    <tr>\n",
       "      <th>9999</th>\n",
       "      <td>10000</td>\n",
       "      <td>15628319</td>\n",
       "      <td>Walker</td>\n",
       "      <td>792</td>\n",
       "      <td>France</td>\n",
       "      <td>Female</td>\n",
       "      <td>28</td>\n",
       "      <td>4</td>\n",
       "      <td>130,142.790</td>\n",
       "      <td>1</td>\n",
       "      <td>1</td>\n",
       "      <td>0</td>\n",
       "      <td>38,190.780</td>\n",
       "      <td>0</td>\n",
       "    </tr>\n",
       "  </tbody>\n",
       "</table>\n",
       "<p>10000 rows × 14 columns</p>\n",
       "</div>"
      ],
      "text/plain": [
       "      RowNumber  CustomerId    Surname  CreditScore Geography  Gender  Age   \n",
       "0             1    15634602   Hargrave          619    France  Female   42  \\\n",
       "1             2    15647311       Hill          608     Spain  Female   41   \n",
       "2             3    15619304       Onio          502    France  Female   42   \n",
       "3             4    15701354       Boni          699    France  Female   39   \n",
       "4             5    15737888   Mitchell          850     Spain  Female   43   \n",
       "...         ...         ...        ...          ...       ...     ...  ...   \n",
       "9995       9996    15606229   Obijiaku          771    France    Male   39   \n",
       "9996       9997    15569892  Johnstone          516    France    Male   35   \n",
       "9997       9998    15584532        Liu          709    France  Female   36   \n",
       "9998       9999    15682355  Sabbatini          772   Germany    Male   42   \n",
       "9999      10000    15628319     Walker          792    France  Female   28   \n",
       "\n",
       "      Tenure     Balance  NumOfProducts  HasCrCard  IsActiveMember   \n",
       "0          2       0.000              1          1               1  \\\n",
       "1          1  83,807.860              1          0               1   \n",
       "2          8 159,660.800              3          1               0   \n",
       "3          1       0.000              2          0               0   \n",
       "4          2 125,510.820              1          1               1   \n",
       "...      ...         ...            ...        ...             ...   \n",
       "9995       5       0.000              2          1               0   \n",
       "9996      10  57,369.610              1          1               1   \n",
       "9997       7       0.000              1          0               1   \n",
       "9998       3  75,075.310              2          1               0   \n",
       "9999       4 130,142.790              1          1               0   \n",
       "\n",
       "      EstimatedSalary  Exited  \n",
       "0         101,348.880       1  \n",
       "1         112,542.580       0  \n",
       "2         113,931.570       1  \n",
       "3          93,826.630       0  \n",
       "4          79,084.100       0  \n",
       "...               ...     ...  \n",
       "9995       96,270.640       0  \n",
       "9996      101,699.770       0  \n",
       "9997       42,085.580       1  \n",
       "9998       92,888.520       1  \n",
       "9999       38,190.780       0  \n",
       "\n",
       "[10000 rows x 14 columns]"
      ]
     },
     "execution_count": 18,
     "metadata": {},
     "output_type": "execute_result"
    }
   ],
   "source": [
    "# load data from source\n",
    "df_extraction = pd.read_csv(\n",
    "    os.path.join(PROJECT_ROOT_PATH, \"data\", \"raw_data\", \"Abandono_clientes.csv\")\n",
    "    )\n",
    "\n",
    "# inspect loaded data\n",
    "df_extraction"
   ]
  },
  {
   "attachments": {},
   "cell_type": "markdown",
   "id": "fab65071",
   "metadata": {
    "heading_collapsed": true
   },
   "source": [
    "# **2 - DATA DESCRIPTION**"
   ]
  },
  {
   "attachments": {},
   "cell_type": "markdown",
   "id": "4baca2ad",
   "metadata": {
    "ExecuteTime": {
     "end_time": "2021-11-08T11:33:34.436022Z",
     "start_time": "2021-11-08T11:33:34.433283Z"
    },
    "heading_collapsed": true,
    "hidden": true
   },
   "source": [
    "## 2.1 - Restore Point"
   ]
  },
  {
   "attachments": {},
   "cell_type": "markdown",
   "id": "d8fff667",
   "metadata": {},
   "source": [
    "*Create a checkpoint of the last dataframe from previous section*"
   ]
  },
  {
   "cell_type": "code",
   "execution_count": 45,
   "id": "5798a081",
   "metadata": {
    "ExecuteTime": {
     "end_time": "2021-11-22T11:35:09.995864Z",
     "start_time": "2021-11-22T11:35:09.300194Z"
    },
    "hidden": true
   },
   "outputs": [
    {
     "name": "stdout",
     "output_type": "stream",
     "text": [
      "*************************************************\n",
      "Dataframe size in memory: 2.764 MB \n",
      "\n",
      "-----------------------------\n",
      "Dataframe overview:\n"
     ]
    },
    {
     "data": {
      "text/html": [
       "<style type=\"text/css\">\n",
       "#T_6a51b_row0_col1, #T_6a51b_row0_col3, #T_6a51b_row1_col1, #T_6a51b_row1_col3, #T_6a51b_row2_col1, #T_6a51b_row2_col3, #T_6a51b_row3_col1, #T_6a51b_row3_col3, #T_6a51b_row4_col1, #T_6a51b_row4_col3, #T_6a51b_row5_col1, #T_6a51b_row5_col3, #T_6a51b_row6_col1, #T_6a51b_row6_col3, #T_6a51b_row7_col1, #T_6a51b_row7_col3, #T_6a51b_row8_col1, #T_6a51b_row8_col3, #T_6a51b_row9_col1, #T_6a51b_row9_col3, #T_6a51b_row10_col1, #T_6a51b_row10_col3, #T_6a51b_row11_col1, #T_6a51b_row11_col3, #T_6a51b_row12_col1, #T_6a51b_row12_col3, #T_6a51b_row13_col1, #T_6a51b_row13_col3 {\n",
       "  background-color: Navy;\n",
       "  color: White;\n",
       "}\n",
       "</style>\n",
       "<table id=\"T_6a51b\">\n",
       "  <thead>\n",
       "    <tr>\n",
       "      <th class=\"blank level0\" >&nbsp;</th>\n",
       "      <th id=\"T_6a51b_level0_col0\" class=\"col_heading level0 col0\" >Num NAs</th>\n",
       "      <th id=\"T_6a51b_level0_col1\" class=\"col_heading level0 col1\" >Percent NAs</th>\n",
       "      <th id=\"T_6a51b_level0_col2\" class=\"col_heading level0 col2\" >Num unique [include NAs]</th>\n",
       "      <th id=\"T_6a51b_level0_col3\" class=\"col_heading level0 col3\" >Data Type</th>\n",
       "    </tr>\n",
       "  </thead>\n",
       "  <tbody>\n",
       "    <tr>\n",
       "      <th id=\"T_6a51b_level0_row0\" class=\"row_heading level0 row0\" >RowNumber</th>\n",
       "      <td id=\"T_6a51b_row0_col0\" class=\"data row0 col0\" >0</td>\n",
       "      <td id=\"T_6a51b_row0_col1\" class=\"data row0 col1\" >0</td>\n",
       "      <td id=\"T_6a51b_row0_col2\" class=\"data row0 col2\" >10.000</td>\n",
       "      <td id=\"T_6a51b_row0_col3\" class=\"data row0 col3\" >int64</td>\n",
       "    </tr>\n",
       "    <tr>\n",
       "      <th id=\"T_6a51b_level0_row1\" class=\"row_heading level0 row1\" >CustomerId</th>\n",
       "      <td id=\"T_6a51b_row1_col0\" class=\"data row1 col0\" >0</td>\n",
       "      <td id=\"T_6a51b_row1_col1\" class=\"data row1 col1\" >0</td>\n",
       "      <td id=\"T_6a51b_row1_col2\" class=\"data row1 col2\" >10.000</td>\n",
       "      <td id=\"T_6a51b_row1_col3\" class=\"data row1 col3\" >int64</td>\n",
       "    </tr>\n",
       "    <tr>\n",
       "      <th id=\"T_6a51b_level0_row2\" class=\"row_heading level0 row2\" >Surname</th>\n",
       "      <td id=\"T_6a51b_row2_col0\" class=\"data row2 col0\" >0</td>\n",
       "      <td id=\"T_6a51b_row2_col1\" class=\"data row2 col1\" >0</td>\n",
       "      <td id=\"T_6a51b_row2_col2\" class=\"data row2 col2\" >2.932</td>\n",
       "      <td id=\"T_6a51b_row2_col3\" class=\"data row2 col3\" >object</td>\n",
       "    </tr>\n",
       "    <tr>\n",
       "      <th id=\"T_6a51b_level0_row3\" class=\"row_heading level0 row3\" >CreditScore</th>\n",
       "      <td id=\"T_6a51b_row3_col0\" class=\"data row3 col0\" >0</td>\n",
       "      <td id=\"T_6a51b_row3_col1\" class=\"data row3 col1\" >0</td>\n",
       "      <td id=\"T_6a51b_row3_col2\" class=\"data row3 col2\" >460</td>\n",
       "      <td id=\"T_6a51b_row3_col3\" class=\"data row3 col3\" >int64</td>\n",
       "    </tr>\n",
       "    <tr>\n",
       "      <th id=\"T_6a51b_level0_row4\" class=\"row_heading level0 row4\" >Geography</th>\n",
       "      <td id=\"T_6a51b_row4_col0\" class=\"data row4 col0\" >0</td>\n",
       "      <td id=\"T_6a51b_row4_col1\" class=\"data row4 col1\" >0</td>\n",
       "      <td id=\"T_6a51b_row4_col2\" class=\"data row4 col2\" >3</td>\n",
       "      <td id=\"T_6a51b_row4_col3\" class=\"data row4 col3\" >object</td>\n",
       "    </tr>\n",
       "    <tr>\n",
       "      <th id=\"T_6a51b_level0_row5\" class=\"row_heading level0 row5\" >Gender</th>\n",
       "      <td id=\"T_6a51b_row5_col0\" class=\"data row5 col0\" >0</td>\n",
       "      <td id=\"T_6a51b_row5_col1\" class=\"data row5 col1\" >0</td>\n",
       "      <td id=\"T_6a51b_row5_col2\" class=\"data row5 col2\" >2</td>\n",
       "      <td id=\"T_6a51b_row5_col3\" class=\"data row5 col3\" >object</td>\n",
       "    </tr>\n",
       "    <tr>\n",
       "      <th id=\"T_6a51b_level0_row6\" class=\"row_heading level0 row6\" >Age</th>\n",
       "      <td id=\"T_6a51b_row6_col0\" class=\"data row6 col0\" >0</td>\n",
       "      <td id=\"T_6a51b_row6_col1\" class=\"data row6 col1\" >0</td>\n",
       "      <td id=\"T_6a51b_row6_col2\" class=\"data row6 col2\" >70</td>\n",
       "      <td id=\"T_6a51b_row6_col3\" class=\"data row6 col3\" >int64</td>\n",
       "    </tr>\n",
       "    <tr>\n",
       "      <th id=\"T_6a51b_level0_row7\" class=\"row_heading level0 row7\" >Tenure</th>\n",
       "      <td id=\"T_6a51b_row7_col0\" class=\"data row7 col0\" >0</td>\n",
       "      <td id=\"T_6a51b_row7_col1\" class=\"data row7 col1\" >0</td>\n",
       "      <td id=\"T_6a51b_row7_col2\" class=\"data row7 col2\" >11</td>\n",
       "      <td id=\"T_6a51b_row7_col3\" class=\"data row7 col3\" >int64</td>\n",
       "    </tr>\n",
       "    <tr>\n",
       "      <th id=\"T_6a51b_level0_row8\" class=\"row_heading level0 row8\" >Balance</th>\n",
       "      <td id=\"T_6a51b_row8_col0\" class=\"data row8 col0\" >0</td>\n",
       "      <td id=\"T_6a51b_row8_col1\" class=\"data row8 col1\" >0</td>\n",
       "      <td id=\"T_6a51b_row8_col2\" class=\"data row8 col2\" >6.382</td>\n",
       "      <td id=\"T_6a51b_row8_col3\" class=\"data row8 col3\" >float64</td>\n",
       "    </tr>\n",
       "    <tr>\n",
       "      <th id=\"T_6a51b_level0_row9\" class=\"row_heading level0 row9\" >NumOfProducts</th>\n",
       "      <td id=\"T_6a51b_row9_col0\" class=\"data row9 col0\" >0</td>\n",
       "      <td id=\"T_6a51b_row9_col1\" class=\"data row9 col1\" >0</td>\n",
       "      <td id=\"T_6a51b_row9_col2\" class=\"data row9 col2\" >4</td>\n",
       "      <td id=\"T_6a51b_row9_col3\" class=\"data row9 col3\" >int64</td>\n",
       "    </tr>\n",
       "    <tr>\n",
       "      <th id=\"T_6a51b_level0_row10\" class=\"row_heading level0 row10\" >HasCrCard</th>\n",
       "      <td id=\"T_6a51b_row10_col0\" class=\"data row10 col0\" >0</td>\n",
       "      <td id=\"T_6a51b_row10_col1\" class=\"data row10 col1\" >0</td>\n",
       "      <td id=\"T_6a51b_row10_col2\" class=\"data row10 col2\" >2</td>\n",
       "      <td id=\"T_6a51b_row10_col3\" class=\"data row10 col3\" >int64</td>\n",
       "    </tr>\n",
       "    <tr>\n",
       "      <th id=\"T_6a51b_level0_row11\" class=\"row_heading level0 row11\" >IsActiveMember</th>\n",
       "      <td id=\"T_6a51b_row11_col0\" class=\"data row11 col0\" >0</td>\n",
       "      <td id=\"T_6a51b_row11_col1\" class=\"data row11 col1\" >0</td>\n",
       "      <td id=\"T_6a51b_row11_col2\" class=\"data row11 col2\" >2</td>\n",
       "      <td id=\"T_6a51b_row11_col3\" class=\"data row11 col3\" >int64</td>\n",
       "    </tr>\n",
       "    <tr>\n",
       "      <th id=\"T_6a51b_level0_row12\" class=\"row_heading level0 row12\" >EstimatedSalary</th>\n",
       "      <td id=\"T_6a51b_row12_col0\" class=\"data row12 col0\" >0</td>\n",
       "      <td id=\"T_6a51b_row12_col1\" class=\"data row12 col1\" >0</td>\n",
       "      <td id=\"T_6a51b_row12_col2\" class=\"data row12 col2\" >9.999</td>\n",
       "      <td id=\"T_6a51b_row12_col3\" class=\"data row12 col3\" >float64</td>\n",
       "    </tr>\n",
       "    <tr>\n",
       "      <th id=\"T_6a51b_level0_row13\" class=\"row_heading level0 row13\" >Exited</th>\n",
       "      <td id=\"T_6a51b_row13_col0\" class=\"data row13 col0\" >0</td>\n",
       "      <td id=\"T_6a51b_row13_col1\" class=\"data row13 col1\" >0</td>\n",
       "      <td id=\"T_6a51b_row13_col2\" class=\"data row13 col2\" >2</td>\n",
       "      <td id=\"T_6a51b_row13_col3\" class=\"data row13 col3\" >int64</td>\n",
       "    </tr>\n",
       "  </tbody>\n",
       "</table>\n"
      ],
      "text/plain": [
       "<pandas.io.formats.style.Styler at 0x7fcda96f47c0>"
      ]
     },
     "metadata": {},
     "output_type": "display_data"
    },
    {
     "name": "stdout",
     "output_type": "stream",
     "text": [
      "-----------------------------\n",
      "\n",
      " Dataframe shape is (10000, 14) \n",
      "\n",
      "-----------------------------\n",
      "\n",
      "\n",
      "dataframe.sample(5)\n"
     ]
    },
    {
     "data": {
      "text/html": [
       "<div>\n",
       "<style scoped>\n",
       "    .dataframe tbody tr th:only-of-type {\n",
       "        vertical-align: middle;\n",
       "    }\n",
       "\n",
       "    .dataframe tbody tr th {\n",
       "        vertical-align: top;\n",
       "    }\n",
       "\n",
       "    .dataframe thead th {\n",
       "        text-align: right;\n",
       "    }\n",
       "</style>\n",
       "<table border=\"1\" class=\"dataframe\">\n",
       "  <thead>\n",
       "    <tr style=\"text-align: right;\">\n",
       "      <th></th>\n",
       "      <th>RowNumber</th>\n",
       "      <th>CustomerId</th>\n",
       "      <th>Surname</th>\n",
       "      <th>CreditScore</th>\n",
       "      <th>Geography</th>\n",
       "      <th>Gender</th>\n",
       "      <th>Age</th>\n",
       "      <th>Tenure</th>\n",
       "      <th>Balance</th>\n",
       "      <th>NumOfProducts</th>\n",
       "      <th>HasCrCard</th>\n",
       "      <th>IsActiveMember</th>\n",
       "      <th>EstimatedSalary</th>\n",
       "      <th>Exited</th>\n",
       "    </tr>\n",
       "  </thead>\n",
       "  <tbody>\n",
       "    <tr>\n",
       "      <th>8791</th>\n",
       "      <td>8792</td>\n",
       "      <td>15783276</td>\n",
       "      <td>Forbes</td>\n",
       "      <td>725</td>\n",
       "      <td>France</td>\n",
       "      <td>Female</td>\n",
       "      <td>25</td>\n",
       "      <td>9</td>\n",
       "      <td>0.0</td>\n",
       "      <td>2</td>\n",
       "      <td>1</td>\n",
       "      <td>1</td>\n",
       "      <td>168,607.7</td>\n",
       "      <td>0</td>\n",
       "    </tr>\n",
       "    <tr>\n",
       "      <th>2447</th>\n",
       "      <td>2448</td>\n",
       "      <td>15715769</td>\n",
       "      <td>Hao</td>\n",
       "      <td>621</td>\n",
       "      <td>France</td>\n",
       "      <td>Male</td>\n",
       "      <td>26</td>\n",
       "      <td>2</td>\n",
       "      <td>75,237.5</td>\n",
       "      <td>1</td>\n",
       "      <td>0</td>\n",
       "      <td>1</td>\n",
       "      <td>44,220.4</td>\n",
       "      <td>0</td>\n",
       "    </tr>\n",
       "    <tr>\n",
       "      <th>9402</th>\n",
       "      <td>9403</td>\n",
       "      <td>15674156</td>\n",
       "      <td>Tretiakova</td>\n",
       "      <td>810</td>\n",
       "      <td>Germany</td>\n",
       "      <td>Male</td>\n",
       "      <td>69</td>\n",
       "      <td>3</td>\n",
       "      <td>27,288.4</td>\n",
       "      <td>1</td>\n",
       "      <td>1</td>\n",
       "      <td>1</td>\n",
       "      <td>110,509.9</td>\n",
       "      <td>0</td>\n",
       "    </tr>\n",
       "    <tr>\n",
       "      <th>8184</th>\n",
       "      <td>8185</td>\n",
       "      <td>15605916</td>\n",
       "      <td>Uvarova</td>\n",
       "      <td>659</td>\n",
       "      <td>France</td>\n",
       "      <td>Female</td>\n",
       "      <td>50</td>\n",
       "      <td>3</td>\n",
       "      <td>0.0</td>\n",
       "      <td>1</td>\n",
       "      <td>1</td>\n",
       "      <td>0</td>\n",
       "      <td>183,399.1</td>\n",
       "      <td>1</td>\n",
       "    </tr>\n",
       "    <tr>\n",
       "      <th>2457</th>\n",
       "      <td>2458</td>\n",
       "      <td>15641629</td>\n",
       "      <td>P'eng</td>\n",
       "      <td>537</td>\n",
       "      <td>Spain</td>\n",
       "      <td>Female</td>\n",
       "      <td>38</td>\n",
       "      <td>1</td>\n",
       "      <td>0.0</td>\n",
       "      <td>2</td>\n",
       "      <td>0</td>\n",
       "      <td>1</td>\n",
       "      <td>41,234.0</td>\n",
       "      <td>0</td>\n",
       "    </tr>\n",
       "  </tbody>\n",
       "</table>\n",
       "<p>5 rows × 14 columns</p>\n",
       "</div>"
      ],
      "text/plain": [
       "      RowNumber  CustomerId     Surname  CreditScore Geography  Gender  Age   \n",
       "8791       8792    15783276      Forbes          725    France  Female   25  \\\n",
       "2447       2448    15715769         Hao          621    France    Male   26   \n",
       "9402       9403    15674156  Tretiakova          810   Germany    Male   69   \n",
       "8184       8185    15605916     Uvarova          659    France  Female   50   \n",
       "2457       2458    15641629       P'eng          537     Spain  Female   38   \n",
       "\n",
       "      Tenure  Balance  NumOfProducts  HasCrCard  IsActiveMember   \n",
       "8791       9      0.0              2          1               1  \\\n",
       "2447       2 75,237.5              1          0               1   \n",
       "9402       3 27,288.4              1          1               1   \n",
       "8184       3      0.0              1          1               0   \n",
       "2457       1      0.0              2          0               1   \n",
       "\n",
       "      EstimatedSalary  Exited  \n",
       "8791        168,607.7       0  \n",
       "2447         44,220.4       0  \n",
       "9402        110,509.9       0  \n",
       "8184        183,399.1       1  \n",
       "2457         41,234.0       0  \n",
       "\n",
       "[5 rows x 14 columns]"
      ]
     },
     "metadata": {},
     "output_type": "display_data"
    },
    {
     "name": "stdout",
     "output_type": "stream",
     "text": [
      "*************************************************\n"
     ]
    }
   ],
   "source": [
    "# create a restore point of the previous section\n",
    "df_description = df_extraction.copy()\n",
    "\n",
    "# check dataframe for this new section\n",
    "check_dataframe( df_description )"
   ]
  },
  {
   "attachments": {},
   "cell_type": "markdown",
   "id": "3f1557c5",
   "metadata": {
    "ExecuteTime": {
     "end_time": "2021-11-08T11:35:57.560444Z",
     "start_time": "2021-11-08T11:35:57.552443Z"
    },
    "heading_collapsed": true,
    "hidden": true
   },
   "source": [
    "## 2.2 - Rename Columns"
   ]
  },
  {
   "attachments": {},
   "cell_type": "markdown",
   "id": "300574e9",
   "metadata": {},
   "source": [
    "*Search for misleading or error-prone column names*"
   ]
  },
  {
   "cell_type": "code",
   "execution_count": 46,
   "id": "84b35f8a",
   "metadata": {
    "ExecuteTime": {
     "end_time": "2021-11-22T11:35:10.018834Z",
     "start_time": "2021-11-22T11:35:10.014437Z"
    },
    "hidden": true,
    "scrolled": true
   },
   "outputs": [
    {
     "data": {
      "text/plain": [
       "Index(['row_number', 'customer_id', 'surname', 'credit_score', 'geography',\n",
       "       'gender', 'age', 'tenure', 'balance', 'num_of_products', 'has_cr_card',\n",
       "       'is_active_member', 'estimated_salary', 'exited'],\n",
       "      dtype='object')"
      ]
     },
     "execution_count": 46,
     "metadata": {},
     "output_type": "execute_result"
    }
   ],
   "source": [
    "# compile regex to change column names to snake case\n",
    "pattern = re.compile(r'(?<!^)(?=[A-Z])')\n",
    "\n",
    "# convert to snake case\n",
    "df_description.columns = [ pattern.sub('_', col).lower() for col in df_description.columns ];\n",
    "\n",
    "# inspect results\n",
    "df_description.columns"
   ]
  },
  {
   "attachments": {},
   "cell_type": "markdown",
   "id": "2cbdc1b6",
   "metadata": {
    "heading_collapsed": true,
    "hidden": true
   },
   "source": [
    "## 2.3 - Check Data Dimensions"
   ]
  },
  {
   "attachments": {},
   "cell_type": "markdown",
   "id": "ee1a1d9f",
   "metadata": {},
   "source": [
    "*Check dataframe dimensions to know if pandas will be enough to handle such data size or we will need Big Data tools like Spark*"
   ]
  },
  {
   "cell_type": "code",
   "execution_count": 47,
   "id": "f88b4e12",
   "metadata": {
    "ExecuteTime": {
     "end_time": "2021-11-22T11:35:10.025219Z",
     "start_time": "2021-11-22T11:35:10.020770Z"
    },
    "hidden": true
   },
   "outputs": [
    {
     "name": "stdout",
     "output_type": "stream",
     "text": [
      "Dataframe has 10,000 rows and 14 columns\n"
     ]
    }
   ],
   "source": [
    "# check number of rows and columns\n",
    "print( f'\\\n",
    "Dataframe has {df_description.shape[0]:,} \\\n",
    "rows and {df_description.shape[1]} columns' )"
   ]
  },
  {
   "attachments": {},
   "cell_type": "markdown",
   "id": "5a2f8863",
   "metadata": {},
   "source": [
    "## 2.4 - Data Types"
   ]
  },
  {
   "attachments": {},
   "cell_type": "markdown",
   "id": "2018dc53",
   "metadata": {},
   "source": [
    "*Check if data types on dataframe makes sense according to database information*"
   ]
  },
  {
   "cell_type": "code",
   "execution_count": 48,
   "id": "bf87e28c",
   "metadata": {},
   "outputs": [
    {
     "data": {
      "text/html": [
       "<style type=\"text/css\">\n",
       "#T_37790_row0_col0, #T_37790_row1_col0, #T_37790_row2_col0, #T_37790_row3_col0, #T_37790_row4_col0, #T_37790_row5_col0, #T_37790_row6_col0, #T_37790_row7_col0, #T_37790_row8_col0, #T_37790_row9_col0, #T_37790_row10_col0, #T_37790_row11_col0, #T_37790_row12_col0, #T_37790_row13_col0 {\n",
       "  background-color: Navy;\n",
       "  color: White;\n",
       "}\n",
       "</style>\n",
       "<table id=\"T_37790\">\n",
       "  <thead>\n",
       "    <tr>\n",
       "      <th class=\"blank level0\" >&nbsp;</th>\n",
       "      <th id=\"T_37790_level0_col0\" class=\"col_heading level0 col0\" >types</th>\n",
       "      <th id=\"T_37790_level0_col1\" class=\"col_heading level0 col1\" >random row: 1</th>\n",
       "      <th id=\"T_37790_level0_col2\" class=\"col_heading level0 col2\" >random row: 2</th>\n",
       "      <th id=\"T_37790_level0_col3\" class=\"col_heading level0 col3\" >random row: 3</th>\n",
       "      <th id=\"T_37790_level0_col4\" class=\"col_heading level0 col4\" >random row: 4</th>\n",
       "      <th id=\"T_37790_level0_col5\" class=\"col_heading level0 col5\" >random row: 5</th>\n",
       "      <th id=\"T_37790_level0_col6\" class=\"col_heading level0 col6\" >random row: 6</th>\n",
       "      <th id=\"T_37790_level0_col7\" class=\"col_heading level0 col7\" >random row: 7</th>\n",
       "      <th id=\"T_37790_level0_col8\" class=\"col_heading level0 col8\" >random row: 8</th>\n",
       "      <th id=\"T_37790_level0_col9\" class=\"col_heading level0 col9\" >random row: 9</th>\n",
       "      <th id=\"T_37790_level0_col10\" class=\"col_heading level0 col10\" >random row: 10</th>\n",
       "      <th id=\"T_37790_level0_col11\" class=\"col_heading level0 col11\" >random row: 11</th>\n",
       "      <th id=\"T_37790_level0_col12\" class=\"col_heading level0 col12\" >random row: 12</th>\n",
       "      <th id=\"T_37790_level0_col13\" class=\"col_heading level0 col13\" >random row: 13</th>\n",
       "      <th id=\"T_37790_level0_col14\" class=\"col_heading level0 col14\" >random row: 14</th>\n",
       "      <th id=\"T_37790_level0_col15\" class=\"col_heading level0 col15\" >random row: 15</th>\n",
       "    </tr>\n",
       "  </thead>\n",
       "  <tbody>\n",
       "    <tr>\n",
       "      <th id=\"T_37790_level0_row0\" class=\"row_heading level0 row0\" >row_number</th>\n",
       "      <td id=\"T_37790_row0_col0\" class=\"data row0 col0\" >int64</td>\n",
       "      <td id=\"T_37790_row0_col1\" class=\"data row0 col1\" >4.067</td>\n",
       "      <td id=\"T_37790_row0_col2\" class=\"data row0 col2\" >6.645</td>\n",
       "      <td id=\"T_37790_row0_col3\" class=\"data row0 col3\" >7.520</td>\n",
       "      <td id=\"T_37790_row0_col4\" class=\"data row0 col4\" >75</td>\n",
       "      <td id=\"T_37790_row0_col5\" class=\"data row0 col5\" >7.922</td>\n",
       "      <td id=\"T_37790_row0_col6\" class=\"data row0 col6\" >4.290</td>\n",
       "      <td id=\"T_37790_row0_col7\" class=\"data row0 col7\" >5.708</td>\n",
       "      <td id=\"T_37790_row0_col8\" class=\"data row0 col8\" >1.865</td>\n",
       "      <td id=\"T_37790_row0_col9\" class=\"data row0 col9\" >3.649</td>\n",
       "      <td id=\"T_37790_row0_col10\" class=\"data row0 col10\" >5.663</td>\n",
       "      <td id=\"T_37790_row0_col11\" class=\"data row0 col11\" >1.309</td>\n",
       "      <td id=\"T_37790_row0_col12\" class=\"data row0 col12\" >4.052</td>\n",
       "      <td id=\"T_37790_row0_col13\" class=\"data row0 col13\" >2.146</td>\n",
       "      <td id=\"T_37790_row0_col14\" class=\"data row0 col14\" >8.549</td>\n",
       "      <td id=\"T_37790_row0_col15\" class=\"data row0 col15\" >899</td>\n",
       "    </tr>\n",
       "    <tr>\n",
       "      <th id=\"T_37790_level0_row1\" class=\"row_heading level0 row1\" >customer_id</th>\n",
       "      <td id=\"T_37790_row1_col0\" class=\"data row1 col0\" >int64</td>\n",
       "      <td id=\"T_37790_row1_col1\" class=\"data row1 col1\" >15.736.154</td>\n",
       "      <td id=\"T_37790_row1_col2\" class=\"data row1 col2\" >15.567.893</td>\n",
       "      <td id=\"T_37790_row1_col3\" class=\"data row1 col3\" >15.814.116</td>\n",
       "      <td id=\"T_37790_row1_col4\" class=\"data row1 col4\" >15.770.811</td>\n",
       "      <td id=\"T_37790_row1_col5\" class=\"data row1 col5\" >15.702.293</td>\n",
       "      <td id=\"T_37790_row1_col6\" class=\"data row1 col6\" >15.642.579</td>\n",
       "      <td id=\"T_37790_row1_col7\" class=\"data row1 col7\" >15.649.451</td>\n",
       "      <td id=\"T_37790_row1_col8\" class=\"data row1 col8\" >15.805.312</td>\n",
       "      <td id=\"T_37790_row1_col9\" class=\"data row1 col9\" >15.691.703</td>\n",
       "      <td id=\"T_37790_row1_col10\" class=\"data row1 col10\" >15.659.937</td>\n",
       "      <td id=\"T_37790_row1_col11\" class=\"data row1 col11\" >15.662.294</td>\n",
       "      <td id=\"T_37790_row1_col12\" class=\"data row1 col12\" >15.725.639</td>\n",
       "      <td id=\"T_37790_row1_col13\" class=\"data row1 col13\" >15.639.322</td>\n",
       "      <td id=\"T_37790_row1_col14\" class=\"data row1 col14\" >15.806.546</td>\n",
       "      <td id=\"T_37790_row1_col15\" class=\"data row1 col15\" >15.654.700</td>\n",
       "    </tr>\n",
       "    <tr>\n",
       "      <th id=\"T_37790_level0_row2\" class=\"row_heading level0 row2\" >surname</th>\n",
       "      <td id=\"T_37790_row2_col0\" class=\"data row2 col0\" >object</td>\n",
       "      <td id=\"T_37790_row2_col1\" class=\"data row2 col1\" >Gallo</td>\n",
       "      <td id=\"T_37790_row2_col2\" class=\"data row2 col2\" >Lei</td>\n",
       "      <td id=\"T_37790_row2_col3\" class=\"data row2 col3\" >Castiglione</td>\n",
       "      <td id=\"T_37790_row2_col4\" class=\"data row2 col4\" >Wallace</td>\n",
       "      <td id=\"T_37790_row2_col5\" class=\"data row2 col5\" >Medvedeva</td>\n",
       "      <td id=\"T_37790_row2_col6\" class=\"data row2 col6\" >Chang</td>\n",
       "      <td id=\"T_37790_row2_col7\" class=\"data row2 col7\" >Yates</td>\n",
       "      <td id=\"T_37790_row2_col8\" class=\"data row2 col8\" >Bellucci</td>\n",
       "      <td id=\"T_37790_row2_col9\" class=\"data row2 col9\" >Shih</td>\n",
       "      <td id=\"T_37790_row2_col10\" class=\"data row2 col10\" >Otutodilinna</td>\n",
       "      <td id=\"T_37790_row2_col11\" class=\"data row2 col11\" >Bennett</td>\n",
       "      <td id=\"T_37790_row2_col12\" class=\"data row2 col12\" >Ignatyev</td>\n",
       "      <td id=\"T_37790_row2_col13\" class=\"data row2 col13\" >Grave</td>\n",
       "      <td id=\"T_37790_row2_col14\" class=\"data row2 col14\" >Lucas</td>\n",
       "      <td id=\"T_37790_row2_col15\" class=\"data row2 col15\" >Fallaci</td>\n",
       "    </tr>\n",
       "    <tr>\n",
       "      <th id=\"T_37790_level0_row3\" class=\"row_heading level0 row3\" >credit_score</th>\n",
       "      <td id=\"T_37790_row3_col0\" class=\"data row3 col0\" >int64</td>\n",
       "      <td id=\"T_37790_row3_col1\" class=\"data row3 col1\" >823</td>\n",
       "      <td id=\"T_37790_row3_col2\" class=\"data row3 col2\" >556</td>\n",
       "      <td id=\"T_37790_row3_col3\" class=\"data row3 col3\" >583</td>\n",
       "      <td id=\"T_37790_row3_col4\" class=\"data row3 col4\" >519</td>\n",
       "      <td id=\"T_37790_row3_col5\" class=\"data row3 col5\" >588</td>\n",
       "      <td id=\"T_37790_row3_col6\" class=\"data row3 col6\" >731</td>\n",
       "      <td id=\"T_37790_row3_col7\" class=\"data row3 col7\" >746</td>\n",
       "      <td id=\"T_37790_row3_col8\" class=\"data row3 col8\" >607</td>\n",
       "      <td id=\"T_37790_row3_col9\" class=\"data row3 col9\" >545</td>\n",
       "      <td id=\"T_37790_row3_col10\" class=\"data row3 col10\" >703</td>\n",
       "      <td id=\"T_37790_row3_col11\" class=\"data row3 col11\" >710</td>\n",
       "      <td id=\"T_37790_row3_col12\" class=\"data row3 col12\" >793</td>\n",
       "      <td id=\"T_37790_row3_col13\" class=\"data row3 col13\" >633</td>\n",
       "      <td id=\"T_37790_row3_col14\" class=\"data row3 col14\" >517</td>\n",
       "      <td id=\"T_37790_row3_col15\" class=\"data row3 col15\" >523</td>\n",
       "    </tr>\n",
       "    <tr>\n",
       "      <th id=\"T_37790_level0_row4\" class=\"row_heading level0 row4\" >geography</th>\n",
       "      <td id=\"T_37790_row4_col0\" class=\"data row4 col0\" >object</td>\n",
       "      <td id=\"T_37790_row4_col1\" class=\"data row4 col1\" >France</td>\n",
       "      <td id=\"T_37790_row4_col2\" class=\"data row4 col2\" >Germany</td>\n",
       "      <td id=\"T_37790_row4_col3\" class=\"data row4 col3\" >France</td>\n",
       "      <td id=\"T_37790_row4_col4\" class=\"data row4 col4\" >France</td>\n",
       "      <td id=\"T_37790_row4_col5\" class=\"data row4 col5\" >Spain</td>\n",
       "      <td id=\"T_37790_row4_col6\" class=\"data row4 col6\" >Spain</td>\n",
       "      <td id=\"T_37790_row4_col7\" class=\"data row4 col7\" >France</td>\n",
       "      <td id=\"T_37790_row4_col8\" class=\"data row4 col8\" >France</td>\n",
       "      <td id=\"T_37790_row4_col9\" class=\"data row4 col9\" >France</td>\n",
       "      <td id=\"T_37790_row4_col10\" class=\"data row4 col10\" >France</td>\n",
       "      <td id=\"T_37790_row4_col11\" class=\"data row4 col11\" >France</td>\n",
       "      <td id=\"T_37790_row4_col12\" class=\"data row4 col12\" >France</td>\n",
       "      <td id=\"T_37790_row4_col13\" class=\"data row4 col13\" >Spain</td>\n",
       "      <td id=\"T_37790_row4_col14\" class=\"data row4 col14\" >Spain</td>\n",
       "      <td id=\"T_37790_row4_col15\" class=\"data row4 col15\" >France</td>\n",
       "    </tr>\n",
       "    <tr>\n",
       "      <th id=\"T_37790_level0_row5\" class=\"row_heading level0 row5\" >gender</th>\n",
       "      <td id=\"T_37790_row5_col0\" class=\"data row5 col0\" >object</td>\n",
       "      <td id=\"T_37790_row5_col1\" class=\"data row5 col1\" >Female</td>\n",
       "      <td id=\"T_37790_row5_col2\" class=\"data row5 col2\" >Male</td>\n",
       "      <td id=\"T_37790_row5_col3\" class=\"data row5 col3\" >Female</td>\n",
       "      <td id=\"T_37790_row5_col4\" class=\"data row5 col4\" >Male</td>\n",
       "      <td id=\"T_37790_row5_col5\" class=\"data row5 col5\" >Female</td>\n",
       "      <td id=\"T_37790_row5_col6\" class=\"data row5 col6\" >Female</td>\n",
       "      <td id=\"T_37790_row5_col7\" class=\"data row5 col7\" >Male</td>\n",
       "      <td id=\"T_37790_row5_col8\" class=\"data row5 col8\" >Male</td>\n",
       "      <td id=\"T_37790_row5_col9\" class=\"data row5 col9\" >Male</td>\n",
       "      <td id=\"T_37790_row5_col10\" class=\"data row5 col10\" >Female</td>\n",
       "      <td id=\"T_37790_row5_col11\" class=\"data row5 col11\" >Male</td>\n",
       "      <td id=\"T_37790_row5_col12\" class=\"data row5 col12\" >Female</td>\n",
       "      <td id=\"T_37790_row5_col13\" class=\"data row5 col13\" >Male</td>\n",
       "      <td id=\"T_37790_row5_col14\" class=\"data row5 col14\" >Male</td>\n",
       "      <td id=\"T_37790_row5_col15\" class=\"data row5 col15\" >Female</td>\n",
       "    </tr>\n",
       "    <tr>\n",
       "      <th id=\"T_37790_level0_row6\" class=\"row_heading level0 row6\" >age</th>\n",
       "      <td id=\"T_37790_row6_col0\" class=\"data row6 col0\" >int64</td>\n",
       "      <td id=\"T_37790_row6_col1\" class=\"data row6 col1\" >44</td>\n",
       "      <td id=\"T_37790_row6_col2\" class=\"data row6 col2\" >33</td>\n",
       "      <td id=\"T_37790_row6_col3\" class=\"data row6 col3\" >42</td>\n",
       "      <td id=\"T_37790_row6_col4\" class=\"data row6 col4\" >36</td>\n",
       "      <td id=\"T_37790_row6_col5\" class=\"data row6 col5\" >35</td>\n",
       "      <td id=\"T_37790_row6_col6\" class=\"data row6 col6\" >37</td>\n",
       "      <td id=\"T_37790_row6_col7\" class=\"data row6 col7\" >25</td>\n",
       "      <td id=\"T_37790_row6_col8\" class=\"data row6 col8\" >45</td>\n",
       "      <td id=\"T_37790_row6_col9\" class=\"data row6 col9\" >47</td>\n",
       "      <td id=\"T_37790_row6_col10\" class=\"data row6 col10\" >40</td>\n",
       "      <td id=\"T_37790_row6_col11\" class=\"data row6 col11\" >33</td>\n",
       "      <td id=\"T_37790_row6_col12\" class=\"data row6 col12\" >63</td>\n",
       "      <td id=\"T_37790_row6_col13\" class=\"data row6 col13\" >33</td>\n",
       "      <td id=\"T_37790_row6_col14\" class=\"data row6 col14\" >46</td>\n",
       "      <td id=\"T_37790_row6_col15\" class=\"data row6 col15\" >40</td>\n",
       "    </tr>\n",
       "    <tr>\n",
       "      <th id=\"T_37790_level0_row7\" class=\"row_heading level0 row7\" >tenure</th>\n",
       "      <td id=\"T_37790_row7_col0\" class=\"data row7 col0\" >int64</td>\n",
       "      <td id=\"T_37790_row7_col1\" class=\"data row7 col1\" >1</td>\n",
       "      <td id=\"T_37790_row7_col2\" class=\"data row7 col2\" >3</td>\n",
       "      <td id=\"T_37790_row7_col3\" class=\"data row7 col3\" >7</td>\n",
       "      <td id=\"T_37790_row7_col4\" class=\"data row7 col4\" >9</td>\n",
       "      <td id=\"T_37790_row7_col5\" class=\"data row7 col5\" >7</td>\n",
       "      <td id=\"T_37790_row7_col6\" class=\"data row7 col6\" >1</td>\n",
       "      <td id=\"T_37790_row7_col7\" class=\"data row7 col7\" >9</td>\n",
       "      <td id=\"T_37790_row7_col8\" class=\"data row7 col8\" >7</td>\n",
       "      <td id=\"T_37790_row7_col9\" class=\"data row7 col9\" >8</td>\n",
       "      <td id=\"T_37790_row7_col10\" class=\"data row7 col10\" >7</td>\n",
       "      <td id=\"T_37790_row7_col11\" class=\"data row7 col11\" >10</td>\n",
       "      <td id=\"T_37790_row7_col12\" class=\"data row7 col12\" >9</td>\n",
       "      <td id=\"T_37790_row7_col13\" class=\"data row7 col13\" >4</td>\n",
       "      <td id=\"T_37790_row7_col14\" class=\"data row7 col14\" >4</td>\n",
       "      <td id=\"T_37790_row7_col15\" class=\"data row7 col15\" >2</td>\n",
       "    </tr>\n",
       "    <tr>\n",
       "      <th id=\"T_37790_level0_row8\" class=\"row_heading level0 row8\" >balance</th>\n",
       "      <td id=\"T_37790_row8_col0\" class=\"data row8 col0\" >float64</td>\n",
       "      <td id=\"T_37790_row8_col1\" class=\"data row8 col1\" >0,000</td>\n",
       "      <td id=\"T_37790_row8_col2\" class=\"data row8 col2\" >124.213,360</td>\n",
       "      <td id=\"T_37790_row8_col3\" class=\"data row8 col3\" >0,000</td>\n",
       "      <td id=\"T_37790_row8_col4\" class=\"data row8 col4\" >0,000</td>\n",
       "      <td id=\"T_37790_row8_col5\" class=\"data row8 col5\" >0,000</td>\n",
       "      <td id=\"T_37790_row8_col6\" class=\"data row8 col6\" >128.932,400</td>\n",
       "      <td id=\"T_37790_row8_col7\" class=\"data row8 col7\" >0,000</td>\n",
       "      <td id=\"T_37790_row8_col8\" class=\"data row8 col8\" >123.859,600</td>\n",
       "      <td id=\"T_37790_row8_col9\" class=\"data row8 col9\" >105.792,490</td>\n",
       "      <td id=\"T_37790_row8_col10\" class=\"data row8 col10\" >0,000</td>\n",
       "      <td id=\"T_37790_row8_col11\" class=\"data row8 col11\" >118.327,170</td>\n",
       "      <td id=\"T_37790_row8_col12\" class=\"data row8 col12\" >116.270,720</td>\n",
       "      <td id=\"T_37790_row8_col13\" class=\"data row8 col13\" >137.847,410</td>\n",
       "      <td id=\"T_37790_row8_col14\" class=\"data row8 col14\" >0,000</td>\n",
       "      <td id=\"T_37790_row8_col15\" class=\"data row8 col15\" >102.967,410</td>\n",
       "    </tr>\n",
       "    <tr>\n",
       "      <th id=\"T_37790_level0_row9\" class=\"row_heading level0 row9\" >num_of_products</th>\n",
       "      <td id=\"T_37790_row9_col0\" class=\"data row9 col0\" >int64</td>\n",
       "      <td id=\"T_37790_row9_col1\" class=\"data row9 col1\" >2</td>\n",
       "      <td id=\"T_37790_row9_col2\" class=\"data row9 col2\" >2</td>\n",
       "      <td id=\"T_37790_row9_col3\" class=\"data row9 col3\" >2</td>\n",
       "      <td id=\"T_37790_row9_col4\" class=\"data row9 col4\" >2</td>\n",
       "      <td id=\"T_37790_row9_col5\" class=\"data row9 col5\" >2</td>\n",
       "      <td id=\"T_37790_row9_col6\" class=\"data row9 col6\" >1</td>\n",
       "      <td id=\"T_37790_row9_col7\" class=\"data row9 col7\" >2</td>\n",
       "      <td id=\"T_37790_row9_col8\" class=\"data row9 col8\" >1</td>\n",
       "      <td id=\"T_37790_row9_col9\" class=\"data row9 col9\" >1</td>\n",
       "      <td id=\"T_37790_row9_col10\" class=\"data row9 col10\" >2</td>\n",
       "      <td id=\"T_37790_row9_col11\" class=\"data row9 col11\" >2</td>\n",
       "      <td id=\"T_37790_row9_col12\" class=\"data row9 col12\" >1</td>\n",
       "      <td id=\"T_37790_row9_col13\" class=\"data row9 col13\" >2</td>\n",
       "      <td id=\"T_37790_row9_col14\" class=\"data row9 col14\" >1</td>\n",
       "      <td id=\"T_37790_row9_col15\" class=\"data row9 col15\" >1</td>\n",
       "    </tr>\n",
       "    <tr>\n",
       "      <th id=\"T_37790_level0_row10\" class=\"row_heading level0 row10\" >has_cr_card</th>\n",
       "      <td id=\"T_37790_row10_col0\" class=\"data row10 col0\" >int64</td>\n",
       "      <td id=\"T_37790_row10_col1\" class=\"data row10 col1\" >0</td>\n",
       "      <td id=\"T_37790_row10_col2\" class=\"data row10 col2\" >1</td>\n",
       "      <td id=\"T_37790_row10_col3\" class=\"data row10 col3\" >1</td>\n",
       "      <td id=\"T_37790_row10_col4\" class=\"data row10 col4\" >0</td>\n",
       "      <td id=\"T_37790_row10_col5\" class=\"data row10 col5\" >1</td>\n",
       "      <td id=\"T_37790_row10_col6\" class=\"data row10 col6\" >1</td>\n",
       "      <td id=\"T_37790_row10_col7\" class=\"data row10 col7\" >0</td>\n",
       "      <td id=\"T_37790_row10_col8\" class=\"data row10 col8\" >0</td>\n",
       "      <td id=\"T_37790_row10_col9\" class=\"data row10 col9\" >0</td>\n",
       "      <td id=\"T_37790_row10_col10\" class=\"data row10 col10\" >0</td>\n",
       "      <td id=\"T_37790_row10_col11\" class=\"data row10 col11\" >1</td>\n",
       "      <td id=\"T_37790_row10_col12\" class=\"data row10 col12\" >1</td>\n",
       "      <td id=\"T_37790_row10_col13\" class=\"data row10 col13\" >1</td>\n",
       "      <td id=\"T_37790_row10_col14\" class=\"data row10 col14\" >1</td>\n",
       "      <td id=\"T_37790_row10_col15\" class=\"data row10 col15\" >1</td>\n",
       "    </tr>\n",
       "    <tr>\n",
       "      <th id=\"T_37790_level0_row11\" class=\"row_heading level0 row11\" >is_active_member</th>\n",
       "      <td id=\"T_37790_row11_col0\" class=\"data row11 col0\" >int64</td>\n",
       "      <td id=\"T_37790_row11_col1\" class=\"data row11 col1\" >1</td>\n",
       "      <td id=\"T_37790_row11_col2\" class=\"data row11 col2\" >0</td>\n",
       "      <td id=\"T_37790_row11_col3\" class=\"data row11 col3\" >0</td>\n",
       "      <td id=\"T_37790_row11_col4\" class=\"data row11 col4\" >1</td>\n",
       "      <td id=\"T_37790_row11_col5\" class=\"data row11 col5\" >1</td>\n",
       "      <td id=\"T_37790_row11_col6\" class=\"data row11 col6\" >1</td>\n",
       "      <td id=\"T_37790_row11_col7\" class=\"data row11 col7\" >1</td>\n",
       "      <td id=\"T_37790_row11_col8\" class=\"data row11 col8\" >1</td>\n",
       "      <td id=\"T_37790_row11_col9\" class=\"data row11 col9\" >1</td>\n",
       "      <td id=\"T_37790_row11_col10\" class=\"data row11 col10\" >1</td>\n",
       "      <td id=\"T_37790_row11_col11\" class=\"data row11 col11\" >1</td>\n",
       "      <td id=\"T_37790_row11_col12\" class=\"data row11 col12\" >1</td>\n",
       "      <td id=\"T_37790_row11_col13\" class=\"data row11 col13\" >0</td>\n",
       "      <td id=\"T_37790_row11_col14\" class=\"data row11 col14\" >0</td>\n",
       "      <td id=\"T_37790_row11_col15\" class=\"data row11 col15\" >0</td>\n",
       "    </tr>\n",
       "    <tr>\n",
       "      <th id=\"T_37790_level0_row12\" class=\"row_heading level0 row12\" >estimated_salary</th>\n",
       "      <td id=\"T_37790_row12_col0\" class=\"data row12 col0\" >float64</td>\n",
       "      <td id=\"T_37790_row12_col1\" class=\"data row12 col1\" >182.495,700</td>\n",
       "      <td id=\"T_37790_row12_col2\" class=\"data row12 col2\" >62.627,550</td>\n",
       "      <td id=\"T_37790_row12_col3\" class=\"data row12 col3\" >144.039,050</td>\n",
       "      <td id=\"T_37790_row12_col4\" class=\"data row12 col4\" >145.562,400</td>\n",
       "      <td id=\"T_37790_row12_col5\" class=\"data row12 col5\" >108.739,150</td>\n",
       "      <td id=\"T_37790_row12_col6\" class=\"data row12 col6\" >180.712,520</td>\n",
       "      <td id=\"T_37790_row12_col7\" class=\"data row12 col7\" >88.728,470</td>\n",
       "      <td id=\"T_37790_row12_col8\" class=\"data row12 col8\" >113.051,570</td>\n",
       "      <td id=\"T_37790_row12_col9\" class=\"data row12 col9\" >67.830,200</td>\n",
       "      <td id=\"T_37790_row12_col10\" class=\"data row12 col10\" >122.518,500</td>\n",
       "      <td id=\"T_37790_row12_col11\" class=\"data row12 col11\" >192.928,820</td>\n",
       "      <td id=\"T_37790_row12_col12\" class=\"data row12 col12\" >184.243,250</td>\n",
       "      <td id=\"T_37790_row12_col13\" class=\"data row12 col13\" >98.349,130</td>\n",
       "      <td id=\"T_37790_row12_col14\" class=\"data row12 col14\" >22.372,780</td>\n",
       "      <td id=\"T_37790_row12_col15\" class=\"data row12 col15\" >128.702,100</td>\n",
       "    </tr>\n",
       "    <tr>\n",
       "      <th id=\"T_37790_level0_row13\" class=\"row_heading level0 row13\" >exited</th>\n",
       "      <td id=\"T_37790_row13_col0\" class=\"data row13 col0\" >int64</td>\n",
       "      <td id=\"T_37790_row13_col1\" class=\"data row13 col1\" >0</td>\n",
       "      <td id=\"T_37790_row13_col2\" class=\"data row13 col2\" >0</td>\n",
       "      <td id=\"T_37790_row13_col3\" class=\"data row13 col3\" >0</td>\n",
       "      <td id=\"T_37790_row13_col4\" class=\"data row13 col4\" >0</td>\n",
       "      <td id=\"T_37790_row13_col5\" class=\"data row13 col5\" >0</td>\n",
       "      <td id=\"T_37790_row13_col6\" class=\"data row13 col6\" >0</td>\n",
       "      <td id=\"T_37790_row13_col7\" class=\"data row13 col7\" >0</td>\n",
       "      <td id=\"T_37790_row13_col8\" class=\"data row13 col8\" >0</td>\n",
       "      <td id=\"T_37790_row13_col9\" class=\"data row13 col9\" >1</td>\n",
       "      <td id=\"T_37790_row13_col10\" class=\"data row13 col10\" >0</td>\n",
       "      <td id=\"T_37790_row13_col11\" class=\"data row13 col11\" >0</td>\n",
       "      <td id=\"T_37790_row13_col12\" class=\"data row13 col12\" >0</td>\n",
       "      <td id=\"T_37790_row13_col13\" class=\"data row13 col13\" >0</td>\n",
       "      <td id=\"T_37790_row13_col14\" class=\"data row13 col14\" >0</td>\n",
       "      <td id=\"T_37790_row13_col15\" class=\"data row13 col15\" >1</td>\n",
       "    </tr>\n",
       "  </tbody>\n",
       "</table>\n"
      ],
      "text/plain": [
       "<pandas.io.formats.style.Styler at 0x7fcde94f4e50>"
      ]
     },
     "metadata": {},
     "output_type": "display_data"
    }
   ],
   "source": [
    "# inspect dataframe types\n",
    "inspect_dtypes(df_description, 15)"
   ]
  },
  {
   "attachments": {},
   "cell_type": "markdown",
   "id": "aaf6f518",
   "metadata": {},
   "source": [
    "## 2.5 - Data Validation"
   ]
  },
  {
   "attachments": {},
   "cell_type": "markdown",
   "id": "e9b811b1",
   "metadata": {},
   "source": [
    "*Check if columns make sense in regard to business understanding*"
   ]
  },
  {
   "cell_type": "code",
   "execution_count": 49,
   "id": "3dd4270a",
   "metadata": {},
   "outputs": [],
   "source": [
    "# Not possible due to lack of data source information"
   ]
  },
  {
   "attachments": {},
   "cell_type": "markdown",
   "id": "e0d5576b",
   "metadata": {},
   "source": [
    "## 2.6 - Check Duplicated Rows"
   ]
  },
  {
   "attachments": {},
   "cell_type": "markdown",
   "id": "d9a70dc0",
   "metadata": {},
   "source": [
    "*Inspect duplicated rows and handle them properly*"
   ]
  },
  {
   "cell_type": "code",
   "execution_count": 50,
   "id": "4df49971",
   "metadata": {},
   "outputs": [
    {
     "name": "stdout",
     "output_type": "stream",
     "text": [
      "*************************************************\n",
      "\n",
      "There are 0 duplicated rows [0.00%] based on all columns. Duplicated rows are double counted.\n",
      "\n",
      "*************************************************\n",
      "\n",
      "There are 0 duplicated rows [0.00%] based on table granularity. Duplicated rows are double counted.\n",
      "\n",
      "*************************************************\n"
     ]
    }
   ],
   "source": [
    "# define dataframe granularity\n",
    "grain = [\"customer_id\"]\n",
    "\n",
    "# check duplicated rows\n",
    "print(\n",
    "    f'{\"*\"*49}\\n\\n'\n",
    "    f'There are {df_description.duplicated(keep=False).sum():,} \\\n",
    "duplicated rows [{df_description.duplicated(keep=False).mean()*100:.2f}%] based on all columns. \\\n",
    "Duplicated rows are double counted.'\n",
    "    f'\\n\\n{\"*\"*49}\\n\\n'\n",
    "    f'There are {df_description.duplicated(subset=grain, keep=False).sum():,} duplicated rows [{df_description.duplicated(subset=grain, keep=False).mean()*100:.2f}%] based on table granularity. \\\n",
    "Duplicated rows are double counted.'\n",
    "    f'\\n\\n{\"*\"*49}'\n",
    ")"
   ]
  },
  {
   "attachments": {},
   "cell_type": "markdown",
   "id": "4627b5a2",
   "metadata": {
    "ExecuteTime": {
     "end_time": "2021-11-08T11:40:01.154007Z",
     "start_time": "2021-11-08T11:40:01.126048Z"
    },
    "heading_collapsed": true,
    "hidden": true
   },
   "source": [
    "## 2.7 - Check Missing Values"
   ]
  },
  {
   "attachments": {},
   "cell_type": "markdown",
   "id": "9d8c1102",
   "metadata": {},
   "source": [
    "*Inspect number and percentage of missing value per column to decide what to do with them*"
   ]
  },
  {
   "cell_type": "code",
   "execution_count": 51,
   "id": "792f5e02",
   "metadata": {},
   "outputs": [
    {
     "name": "stdout",
     "output_type": "stream",
     "text": [
      "*************************************************\n",
      "Dataframe size in memory: 2.764 MB \n",
      "\n",
      "-----------------------------\n",
      "Dataframe overview:\n"
     ]
    },
    {
     "data": {
      "text/html": [
       "<style type=\"text/css\">\n",
       "#T_8ea90_row0_col1, #T_8ea90_row0_col3, #T_8ea90_row1_col1, #T_8ea90_row1_col3, #T_8ea90_row2_col1, #T_8ea90_row2_col3, #T_8ea90_row3_col1, #T_8ea90_row3_col3, #T_8ea90_row4_col1, #T_8ea90_row4_col3, #T_8ea90_row5_col1, #T_8ea90_row5_col3, #T_8ea90_row6_col1, #T_8ea90_row6_col3, #T_8ea90_row7_col1, #T_8ea90_row7_col3, #T_8ea90_row8_col1, #T_8ea90_row8_col3, #T_8ea90_row9_col1, #T_8ea90_row9_col3, #T_8ea90_row10_col1, #T_8ea90_row10_col3, #T_8ea90_row11_col1, #T_8ea90_row11_col3, #T_8ea90_row12_col1, #T_8ea90_row12_col3, #T_8ea90_row13_col1, #T_8ea90_row13_col3 {\n",
       "  background-color: Navy;\n",
       "  color: White;\n",
       "}\n",
       "</style>\n",
       "<table id=\"T_8ea90\">\n",
       "  <thead>\n",
       "    <tr>\n",
       "      <th class=\"blank level0\" >&nbsp;</th>\n",
       "      <th id=\"T_8ea90_level0_col0\" class=\"col_heading level0 col0\" >Num NAs</th>\n",
       "      <th id=\"T_8ea90_level0_col1\" class=\"col_heading level0 col1\" >Percent NAs</th>\n",
       "      <th id=\"T_8ea90_level0_col2\" class=\"col_heading level0 col2\" >Num unique [include NAs]</th>\n",
       "      <th id=\"T_8ea90_level0_col3\" class=\"col_heading level0 col3\" >Data Type</th>\n",
       "    </tr>\n",
       "  </thead>\n",
       "  <tbody>\n",
       "    <tr>\n",
       "      <th id=\"T_8ea90_level0_row0\" class=\"row_heading level0 row0\" >row_number</th>\n",
       "      <td id=\"T_8ea90_row0_col0\" class=\"data row0 col0\" >0</td>\n",
       "      <td id=\"T_8ea90_row0_col1\" class=\"data row0 col1\" >0</td>\n",
       "      <td id=\"T_8ea90_row0_col2\" class=\"data row0 col2\" >10.000</td>\n",
       "      <td id=\"T_8ea90_row0_col3\" class=\"data row0 col3\" >int64</td>\n",
       "    </tr>\n",
       "    <tr>\n",
       "      <th id=\"T_8ea90_level0_row1\" class=\"row_heading level0 row1\" >customer_id</th>\n",
       "      <td id=\"T_8ea90_row1_col0\" class=\"data row1 col0\" >0</td>\n",
       "      <td id=\"T_8ea90_row1_col1\" class=\"data row1 col1\" >0</td>\n",
       "      <td id=\"T_8ea90_row1_col2\" class=\"data row1 col2\" >10.000</td>\n",
       "      <td id=\"T_8ea90_row1_col3\" class=\"data row1 col3\" >int64</td>\n",
       "    </tr>\n",
       "    <tr>\n",
       "      <th id=\"T_8ea90_level0_row2\" class=\"row_heading level0 row2\" >surname</th>\n",
       "      <td id=\"T_8ea90_row2_col0\" class=\"data row2 col0\" >0</td>\n",
       "      <td id=\"T_8ea90_row2_col1\" class=\"data row2 col1\" >0</td>\n",
       "      <td id=\"T_8ea90_row2_col2\" class=\"data row2 col2\" >2.932</td>\n",
       "      <td id=\"T_8ea90_row2_col3\" class=\"data row2 col3\" >object</td>\n",
       "    </tr>\n",
       "    <tr>\n",
       "      <th id=\"T_8ea90_level0_row3\" class=\"row_heading level0 row3\" >credit_score</th>\n",
       "      <td id=\"T_8ea90_row3_col0\" class=\"data row3 col0\" >0</td>\n",
       "      <td id=\"T_8ea90_row3_col1\" class=\"data row3 col1\" >0</td>\n",
       "      <td id=\"T_8ea90_row3_col2\" class=\"data row3 col2\" >460</td>\n",
       "      <td id=\"T_8ea90_row3_col3\" class=\"data row3 col3\" >int64</td>\n",
       "    </tr>\n",
       "    <tr>\n",
       "      <th id=\"T_8ea90_level0_row4\" class=\"row_heading level0 row4\" >geography</th>\n",
       "      <td id=\"T_8ea90_row4_col0\" class=\"data row4 col0\" >0</td>\n",
       "      <td id=\"T_8ea90_row4_col1\" class=\"data row4 col1\" >0</td>\n",
       "      <td id=\"T_8ea90_row4_col2\" class=\"data row4 col2\" >3</td>\n",
       "      <td id=\"T_8ea90_row4_col3\" class=\"data row4 col3\" >object</td>\n",
       "    </tr>\n",
       "    <tr>\n",
       "      <th id=\"T_8ea90_level0_row5\" class=\"row_heading level0 row5\" >gender</th>\n",
       "      <td id=\"T_8ea90_row5_col0\" class=\"data row5 col0\" >0</td>\n",
       "      <td id=\"T_8ea90_row5_col1\" class=\"data row5 col1\" >0</td>\n",
       "      <td id=\"T_8ea90_row5_col2\" class=\"data row5 col2\" >2</td>\n",
       "      <td id=\"T_8ea90_row5_col3\" class=\"data row5 col3\" >object</td>\n",
       "    </tr>\n",
       "    <tr>\n",
       "      <th id=\"T_8ea90_level0_row6\" class=\"row_heading level0 row6\" >age</th>\n",
       "      <td id=\"T_8ea90_row6_col0\" class=\"data row6 col0\" >0</td>\n",
       "      <td id=\"T_8ea90_row6_col1\" class=\"data row6 col1\" >0</td>\n",
       "      <td id=\"T_8ea90_row6_col2\" class=\"data row6 col2\" >70</td>\n",
       "      <td id=\"T_8ea90_row6_col3\" class=\"data row6 col3\" >int64</td>\n",
       "    </tr>\n",
       "    <tr>\n",
       "      <th id=\"T_8ea90_level0_row7\" class=\"row_heading level0 row7\" >tenure</th>\n",
       "      <td id=\"T_8ea90_row7_col0\" class=\"data row7 col0\" >0</td>\n",
       "      <td id=\"T_8ea90_row7_col1\" class=\"data row7 col1\" >0</td>\n",
       "      <td id=\"T_8ea90_row7_col2\" class=\"data row7 col2\" >11</td>\n",
       "      <td id=\"T_8ea90_row7_col3\" class=\"data row7 col3\" >int64</td>\n",
       "    </tr>\n",
       "    <tr>\n",
       "      <th id=\"T_8ea90_level0_row8\" class=\"row_heading level0 row8\" >balance</th>\n",
       "      <td id=\"T_8ea90_row8_col0\" class=\"data row8 col0\" >0</td>\n",
       "      <td id=\"T_8ea90_row8_col1\" class=\"data row8 col1\" >0</td>\n",
       "      <td id=\"T_8ea90_row8_col2\" class=\"data row8 col2\" >6.382</td>\n",
       "      <td id=\"T_8ea90_row8_col3\" class=\"data row8 col3\" >float64</td>\n",
       "    </tr>\n",
       "    <tr>\n",
       "      <th id=\"T_8ea90_level0_row9\" class=\"row_heading level0 row9\" >num_of_products</th>\n",
       "      <td id=\"T_8ea90_row9_col0\" class=\"data row9 col0\" >0</td>\n",
       "      <td id=\"T_8ea90_row9_col1\" class=\"data row9 col1\" >0</td>\n",
       "      <td id=\"T_8ea90_row9_col2\" class=\"data row9 col2\" >4</td>\n",
       "      <td id=\"T_8ea90_row9_col3\" class=\"data row9 col3\" >int64</td>\n",
       "    </tr>\n",
       "    <tr>\n",
       "      <th id=\"T_8ea90_level0_row10\" class=\"row_heading level0 row10\" >has_cr_card</th>\n",
       "      <td id=\"T_8ea90_row10_col0\" class=\"data row10 col0\" >0</td>\n",
       "      <td id=\"T_8ea90_row10_col1\" class=\"data row10 col1\" >0</td>\n",
       "      <td id=\"T_8ea90_row10_col2\" class=\"data row10 col2\" >2</td>\n",
       "      <td id=\"T_8ea90_row10_col3\" class=\"data row10 col3\" >int64</td>\n",
       "    </tr>\n",
       "    <tr>\n",
       "      <th id=\"T_8ea90_level0_row11\" class=\"row_heading level0 row11\" >is_active_member</th>\n",
       "      <td id=\"T_8ea90_row11_col0\" class=\"data row11 col0\" >0</td>\n",
       "      <td id=\"T_8ea90_row11_col1\" class=\"data row11 col1\" >0</td>\n",
       "      <td id=\"T_8ea90_row11_col2\" class=\"data row11 col2\" >2</td>\n",
       "      <td id=\"T_8ea90_row11_col3\" class=\"data row11 col3\" >int64</td>\n",
       "    </tr>\n",
       "    <tr>\n",
       "      <th id=\"T_8ea90_level0_row12\" class=\"row_heading level0 row12\" >estimated_salary</th>\n",
       "      <td id=\"T_8ea90_row12_col0\" class=\"data row12 col0\" >0</td>\n",
       "      <td id=\"T_8ea90_row12_col1\" class=\"data row12 col1\" >0</td>\n",
       "      <td id=\"T_8ea90_row12_col2\" class=\"data row12 col2\" >9.999</td>\n",
       "      <td id=\"T_8ea90_row12_col3\" class=\"data row12 col3\" >float64</td>\n",
       "    </tr>\n",
       "    <tr>\n",
       "      <th id=\"T_8ea90_level0_row13\" class=\"row_heading level0 row13\" >exited</th>\n",
       "      <td id=\"T_8ea90_row13_col0\" class=\"data row13 col0\" >0</td>\n",
       "      <td id=\"T_8ea90_row13_col1\" class=\"data row13 col1\" >0</td>\n",
       "      <td id=\"T_8ea90_row13_col2\" class=\"data row13 col2\" >2</td>\n",
       "      <td id=\"T_8ea90_row13_col3\" class=\"data row13 col3\" >int64</td>\n",
       "    </tr>\n",
       "  </tbody>\n",
       "</table>\n"
      ],
      "text/plain": [
       "<pandas.io.formats.style.Styler at 0x7fcda96f41c0>"
      ]
     },
     "metadata": {},
     "output_type": "display_data"
    },
    {
     "name": "stdout",
     "output_type": "stream",
     "text": [
      "-----------------------------\n",
      "\n",
      " Dataframe shape is (10000, 14) \n",
      "\n"
     ]
    }
   ],
   "source": [
    "#  get number of NA, percent of NA, number of unique and column type\n",
    "check_na_unique_dtypes(df_description);"
   ]
  },
  {
   "attachments": {},
   "cell_type": "markdown",
   "id": "99df2de1",
   "metadata": {
    "heading_collapsed": true,
    "hidden": true
   },
   "source": [
    "## 2.8 - Handle Missing Values"
   ]
  },
  {
   "attachments": {},
   "cell_type": "markdown",
   "id": "efea71d8",
   "metadata": {},
   "source": [
    "*Handle missing value for columns*"
   ]
  },
  {
   "cell_type": "code",
   "execution_count": 52,
   "id": "c2ebe4e0",
   "metadata": {},
   "outputs": [],
   "source": [
    "# Not needed"
   ]
  },
  {
   "attachments": {},
   "cell_type": "markdown",
   "id": "918bd63b",
   "metadata": {
    "heading_collapsed": true,
    "hidden": true
   },
   "source": [
    "## 2.9 - Descriptive Statistics"
   ]
  },
  {
   "attachments": {},
   "cell_type": "markdown",
   "id": "66576dc1",
   "metadata": {},
   "source": [
    "*Inspect some summary statistics for numerical columns*"
   ]
  },
  {
   "cell_type": "code",
   "execution_count": 53,
   "id": "ea18362e",
   "metadata": {},
   "outputs": [],
   "source": [
    "# split dataset into types of features\n",
    "df_number = df_description.select_dtypes(include=[\"number\", \"bool\"])\n",
    "df_date = df_description.select_dtypes(include=[\"datetime\"])\n",
    "df_string = df_description.select_dtypes(include=[\"object\"])\n",
    "\n",
    "# sanity check\n",
    "assert df_number.shape[1] + df_date.shape[1] + df_string.shape[1] == df_description.shape[1], \"\"\"Revise the previous split, something may be wrong!\"\"\""
   ]
  },
  {
   "attachments": {},
   "cell_type": "markdown",
   "id": "90cd3688",
   "metadata": {},
   "source": [
    "### 2.9.1 - Numerical Variables"
   ]
  },
  {
   "attachments": {},
   "cell_type": "markdown",
   "id": "21704db6",
   "metadata": {},
   "source": [
    "*Inspect numerical variables*"
   ]
  },
  {
   "cell_type": "code",
   "execution_count": 54,
   "id": "50ae4b5d",
   "metadata": {},
   "outputs": [
    {
     "name": "stdout",
     "output_type": "stream",
     "text": [
      "\n",
      "\n",
      "Statistics for Numerical Variables [NaNs are ignored]:\n"
     ]
    },
    {
     "data": {
      "text/html": [
       "<style type=\"text/css\">\n",
       "#T_a08f5_row0_col5, #T_a08f5_row0_col6, #T_a08f5_row1_col5, #T_a08f5_row1_col6, #T_a08f5_row2_col5, #T_a08f5_row2_col6, #T_a08f5_row3_col5, #T_a08f5_row3_col6, #T_a08f5_row4_col5, #T_a08f5_row4_col6, #T_a08f5_row5_col5, #T_a08f5_row5_col6, #T_a08f5_row6_col5, #T_a08f5_row6_col6, #T_a08f5_row7_col5, #T_a08f5_row7_col6, #T_a08f5_row8_col5, #T_a08f5_row8_col6, #T_a08f5_row9_col5, #T_a08f5_row9_col6, #T_a08f5_row10_col5, #T_a08f5_row10_col6 {\n",
       "  background-color: Navy;\n",
       "  color: White;\n",
       "}\n",
       "</style>\n",
       "<table id=\"T_a08f5\">\n",
       "  <thead>\n",
       "    <tr>\n",
       "      <th class=\"blank level0\" >&nbsp;</th>\n",
       "      <th id=\"T_a08f5_level0_col0\" class=\"col_heading level0 col0\" >attribute</th>\n",
       "      <th id=\"T_a08f5_level0_col1\" class=\"col_heading level0 col1\" >mean</th>\n",
       "      <th id=\"T_a08f5_level0_col2\" class=\"col_heading level0 col2\" >median</th>\n",
       "      <th id=\"T_a08f5_level0_col3\" class=\"col_heading level0 col3\" >std</th>\n",
       "      <th id=\"T_a08f5_level0_col4\" class=\"col_heading level0 col4\" >iqr</th>\n",
       "      <th id=\"T_a08f5_level0_col5\" class=\"col_heading level0 col5\" >min</th>\n",
       "      <th id=\"T_a08f5_level0_col6\" class=\"col_heading level0 col6\" >max</th>\n",
       "      <th id=\"T_a08f5_level0_col7\" class=\"col_heading level0 col7\" >range</th>\n",
       "      <th id=\"T_a08f5_level0_col8\" class=\"col_heading level0 col8\" >skew</th>\n",
       "      <th id=\"T_a08f5_level0_col9\" class=\"col_heading level0 col9\" >kurtosis</th>\n",
       "    </tr>\n",
       "  </thead>\n",
       "  <tbody>\n",
       "    <tr>\n",
       "      <th id=\"T_a08f5_level0_row0\" class=\"row_heading level0 row0\" >0</th>\n",
       "      <td id=\"T_a08f5_row0_col0\" class=\"data row0 col0\" >row_number</td>\n",
       "      <td id=\"T_a08f5_row0_col1\" class=\"data row0 col1\" >5.000,500</td>\n",
       "      <td id=\"T_a08f5_row0_col2\" class=\"data row0 col2\" >5.000,500</td>\n",
       "      <td id=\"T_a08f5_row0_col3\" class=\"data row0 col3\" >2.886,751</td>\n",
       "      <td id=\"T_a08f5_row0_col4\" class=\"data row0 col4\" >4.999,500</td>\n",
       "      <td id=\"T_a08f5_row0_col5\" class=\"data row0 col5\" >1,000</td>\n",
       "      <td id=\"T_a08f5_row0_col6\" class=\"data row0 col6\" >10.000,000</td>\n",
       "      <td id=\"T_a08f5_row0_col7\" class=\"data row0 col7\" >9.999,000</td>\n",
       "      <td id=\"T_a08f5_row0_col8\" class=\"data row0 col8\" >0,000</td>\n",
       "      <td id=\"T_a08f5_row0_col9\" class=\"data row0 col9\" >-1,200</td>\n",
       "    </tr>\n",
       "    <tr>\n",
       "      <th id=\"T_a08f5_level0_row1\" class=\"row_heading level0 row1\" >1</th>\n",
       "      <td id=\"T_a08f5_row1_col0\" class=\"data row1 col0\" >customer_id</td>\n",
       "      <td id=\"T_a08f5_row1_col1\" class=\"data row1 col1\" >15.690.940,569</td>\n",
       "      <td id=\"T_a08f5_row1_col2\" class=\"data row1 col2\" >15.690.738,000</td>\n",
       "      <td id=\"T_a08f5_row1_col3\" class=\"data row1 col3\" >71.932,589</td>\n",
       "      <td id=\"T_a08f5_row1_col4\" class=\"data row1 col4\" >124.705,500</td>\n",
       "      <td id=\"T_a08f5_row1_col5\" class=\"data row1 col5\" >15.565.701,000</td>\n",
       "      <td id=\"T_a08f5_row1_col6\" class=\"data row1 col6\" >15.815.690,000</td>\n",
       "      <td id=\"T_a08f5_row1_col7\" class=\"data row1 col7\" >249.989,000</td>\n",
       "      <td id=\"T_a08f5_row1_col8\" class=\"data row1 col8\" >0,001</td>\n",
       "      <td id=\"T_a08f5_row1_col9\" class=\"data row1 col9\" >-1,196</td>\n",
       "    </tr>\n",
       "    <tr>\n",
       "      <th id=\"T_a08f5_level0_row2\" class=\"row_heading level0 row2\" >2</th>\n",
       "      <td id=\"T_a08f5_row2_col0\" class=\"data row2 col0\" >credit_score</td>\n",
       "      <td id=\"T_a08f5_row2_col1\" class=\"data row2 col1\" >650,529</td>\n",
       "      <td id=\"T_a08f5_row2_col2\" class=\"data row2 col2\" >652,000</td>\n",
       "      <td id=\"T_a08f5_row2_col3\" class=\"data row2 col3\" >96,648</td>\n",
       "      <td id=\"T_a08f5_row2_col4\" class=\"data row2 col4\" >134,000</td>\n",
       "      <td id=\"T_a08f5_row2_col5\" class=\"data row2 col5\" >350,000</td>\n",
       "      <td id=\"T_a08f5_row2_col6\" class=\"data row2 col6\" >850,000</td>\n",
       "      <td id=\"T_a08f5_row2_col7\" class=\"data row2 col7\" >500,000</td>\n",
       "      <td id=\"T_a08f5_row2_col8\" class=\"data row2 col8\" >-0,072</td>\n",
       "      <td id=\"T_a08f5_row2_col9\" class=\"data row2 col9\" >-0,426</td>\n",
       "    </tr>\n",
       "    <tr>\n",
       "      <th id=\"T_a08f5_level0_row3\" class=\"row_heading level0 row3\" >3</th>\n",
       "      <td id=\"T_a08f5_row3_col0\" class=\"data row3 col0\" >age</td>\n",
       "      <td id=\"T_a08f5_row3_col1\" class=\"data row3 col1\" >38,922</td>\n",
       "      <td id=\"T_a08f5_row3_col2\" class=\"data row3 col2\" >37,000</td>\n",
       "      <td id=\"T_a08f5_row3_col3\" class=\"data row3 col3\" >10,487</td>\n",
       "      <td id=\"T_a08f5_row3_col4\" class=\"data row3 col4\" >12,000</td>\n",
       "      <td id=\"T_a08f5_row3_col5\" class=\"data row3 col5\" >18,000</td>\n",
       "      <td id=\"T_a08f5_row3_col6\" class=\"data row3 col6\" >92,000</td>\n",
       "      <td id=\"T_a08f5_row3_col7\" class=\"data row3 col7\" >74,000</td>\n",
       "      <td id=\"T_a08f5_row3_col8\" class=\"data row3 col8\" >1,011</td>\n",
       "      <td id=\"T_a08f5_row3_col9\" class=\"data row3 col9\" >1,395</td>\n",
       "    </tr>\n",
       "    <tr>\n",
       "      <th id=\"T_a08f5_level0_row4\" class=\"row_heading level0 row4\" >4</th>\n",
       "      <td id=\"T_a08f5_row4_col0\" class=\"data row4 col0\" >tenure</td>\n",
       "      <td id=\"T_a08f5_row4_col1\" class=\"data row4 col1\" >5,013</td>\n",
       "      <td id=\"T_a08f5_row4_col2\" class=\"data row4 col2\" >5,000</td>\n",
       "      <td id=\"T_a08f5_row4_col3\" class=\"data row4 col3\" >2,892</td>\n",
       "      <td id=\"T_a08f5_row4_col4\" class=\"data row4 col4\" >4,000</td>\n",
       "      <td id=\"T_a08f5_row4_col5\" class=\"data row4 col5\" >0,000</td>\n",
       "      <td id=\"T_a08f5_row4_col6\" class=\"data row4 col6\" >10,000</td>\n",
       "      <td id=\"T_a08f5_row4_col7\" class=\"data row4 col7\" >10,000</td>\n",
       "      <td id=\"T_a08f5_row4_col8\" class=\"data row4 col8\" >0,011</td>\n",
       "      <td id=\"T_a08f5_row4_col9\" class=\"data row4 col9\" >-1,165</td>\n",
       "    </tr>\n",
       "    <tr>\n",
       "      <th id=\"T_a08f5_level0_row5\" class=\"row_heading level0 row5\" >5</th>\n",
       "      <td id=\"T_a08f5_row5_col0\" class=\"data row5 col0\" >balance</td>\n",
       "      <td id=\"T_a08f5_row5_col1\" class=\"data row5 col1\" >76.485,889</td>\n",
       "      <td id=\"T_a08f5_row5_col2\" class=\"data row5 col2\" >97.198,540</td>\n",
       "      <td id=\"T_a08f5_row5_col3\" class=\"data row5 col3\" >62.394,285</td>\n",
       "      <td id=\"T_a08f5_row5_col4\" class=\"data row5 col4\" >127.644,240</td>\n",
       "      <td id=\"T_a08f5_row5_col5\" class=\"data row5 col5\" >0,000</td>\n",
       "      <td id=\"T_a08f5_row5_col6\" class=\"data row5 col6\" >250.898,090</td>\n",
       "      <td id=\"T_a08f5_row5_col7\" class=\"data row5 col7\" >250.898,090</td>\n",
       "      <td id=\"T_a08f5_row5_col8\" class=\"data row5 col8\" >-0,141</td>\n",
       "      <td id=\"T_a08f5_row5_col9\" class=\"data row5 col9\" >-1,489</td>\n",
       "    </tr>\n",
       "    <tr>\n",
       "      <th id=\"T_a08f5_level0_row6\" class=\"row_heading level0 row6\" >6</th>\n",
       "      <td id=\"T_a08f5_row6_col0\" class=\"data row6 col0\" >num_of_products</td>\n",
       "      <td id=\"T_a08f5_row6_col1\" class=\"data row6 col1\" >1,530</td>\n",
       "      <td id=\"T_a08f5_row6_col2\" class=\"data row6 col2\" >1,000</td>\n",
       "      <td id=\"T_a08f5_row6_col3\" class=\"data row6 col3\" >0,582</td>\n",
       "      <td id=\"T_a08f5_row6_col4\" class=\"data row6 col4\" >1,000</td>\n",
       "      <td id=\"T_a08f5_row6_col5\" class=\"data row6 col5\" >1,000</td>\n",
       "      <td id=\"T_a08f5_row6_col6\" class=\"data row6 col6\" >4,000</td>\n",
       "      <td id=\"T_a08f5_row6_col7\" class=\"data row6 col7\" >3,000</td>\n",
       "      <td id=\"T_a08f5_row6_col8\" class=\"data row6 col8\" >0,746</td>\n",
       "      <td id=\"T_a08f5_row6_col9\" class=\"data row6 col9\" >0,583</td>\n",
       "    </tr>\n",
       "    <tr>\n",
       "      <th id=\"T_a08f5_level0_row7\" class=\"row_heading level0 row7\" >7</th>\n",
       "      <td id=\"T_a08f5_row7_col0\" class=\"data row7 col0\" >has_cr_card</td>\n",
       "      <td id=\"T_a08f5_row7_col1\" class=\"data row7 col1\" >0,706</td>\n",
       "      <td id=\"T_a08f5_row7_col2\" class=\"data row7 col2\" >1,000</td>\n",
       "      <td id=\"T_a08f5_row7_col3\" class=\"data row7 col3\" >0,456</td>\n",
       "      <td id=\"T_a08f5_row7_col4\" class=\"data row7 col4\" >1,000</td>\n",
       "      <td id=\"T_a08f5_row7_col5\" class=\"data row7 col5\" >0,000</td>\n",
       "      <td id=\"T_a08f5_row7_col6\" class=\"data row7 col6\" >1,000</td>\n",
       "      <td id=\"T_a08f5_row7_col7\" class=\"data row7 col7\" >1,000</td>\n",
       "      <td id=\"T_a08f5_row7_col8\" class=\"data row7 col8\" >-0,902</td>\n",
       "      <td id=\"T_a08f5_row7_col9\" class=\"data row7 col9\" >-1,187</td>\n",
       "    </tr>\n",
       "    <tr>\n",
       "      <th id=\"T_a08f5_level0_row8\" class=\"row_heading level0 row8\" >8</th>\n",
       "      <td id=\"T_a08f5_row8_col0\" class=\"data row8 col0\" >is_active_member</td>\n",
       "      <td id=\"T_a08f5_row8_col1\" class=\"data row8 col1\" >0,515</td>\n",
       "      <td id=\"T_a08f5_row8_col2\" class=\"data row8 col2\" >1,000</td>\n",
       "      <td id=\"T_a08f5_row8_col3\" class=\"data row8 col3\" >0,500</td>\n",
       "      <td id=\"T_a08f5_row8_col4\" class=\"data row8 col4\" >1,000</td>\n",
       "      <td id=\"T_a08f5_row8_col5\" class=\"data row8 col5\" >0,000</td>\n",
       "      <td id=\"T_a08f5_row8_col6\" class=\"data row8 col6\" >1,000</td>\n",
       "      <td id=\"T_a08f5_row8_col7\" class=\"data row8 col7\" >1,000</td>\n",
       "      <td id=\"T_a08f5_row8_col8\" class=\"data row8 col8\" >-0,060</td>\n",
       "      <td id=\"T_a08f5_row8_col9\" class=\"data row8 col9\" >-1,997</td>\n",
       "    </tr>\n",
       "    <tr>\n",
       "      <th id=\"T_a08f5_level0_row9\" class=\"row_heading level0 row9\" >9</th>\n",
       "      <td id=\"T_a08f5_row9_col0\" class=\"data row9 col0\" >estimated_salary</td>\n",
       "      <td id=\"T_a08f5_row9_col1\" class=\"data row9 col1\" >100.090,240</td>\n",
       "      <td id=\"T_a08f5_row9_col2\" class=\"data row9 col2\" >100.193,915</td>\n",
       "      <td id=\"T_a08f5_row9_col3\" class=\"data row9 col3\" >57.507,617</td>\n",
       "      <td id=\"T_a08f5_row9_col4\" class=\"data row9 col4\" >98.386,137</td>\n",
       "      <td id=\"T_a08f5_row9_col5\" class=\"data row9 col5\" >11,580</td>\n",
       "      <td id=\"T_a08f5_row9_col6\" class=\"data row9 col6\" >199.992,480</td>\n",
       "      <td id=\"T_a08f5_row9_col7\" class=\"data row9 col7\" >199.980,900</td>\n",
       "      <td id=\"T_a08f5_row9_col8\" class=\"data row9 col8\" >0,002</td>\n",
       "      <td id=\"T_a08f5_row9_col9\" class=\"data row9 col9\" >-1,182</td>\n",
       "    </tr>\n",
       "    <tr>\n",
       "      <th id=\"T_a08f5_level0_row10\" class=\"row_heading level0 row10\" >10</th>\n",
       "      <td id=\"T_a08f5_row10_col0\" class=\"data row10 col0\" >exited</td>\n",
       "      <td id=\"T_a08f5_row10_col1\" class=\"data row10 col1\" >0,204</td>\n",
       "      <td id=\"T_a08f5_row10_col2\" class=\"data row10 col2\" >0,000</td>\n",
       "      <td id=\"T_a08f5_row10_col3\" class=\"data row10 col3\" >0,403</td>\n",
       "      <td id=\"T_a08f5_row10_col4\" class=\"data row10 col4\" >0,000</td>\n",
       "      <td id=\"T_a08f5_row10_col5\" class=\"data row10 col5\" >0,000</td>\n",
       "      <td id=\"T_a08f5_row10_col6\" class=\"data row10 col6\" >1,000</td>\n",
       "      <td id=\"T_a08f5_row10_col7\" class=\"data row10 col7\" >1,000</td>\n",
       "      <td id=\"T_a08f5_row10_col8\" class=\"data row10 col8\" >1,472</td>\n",
       "      <td id=\"T_a08f5_row10_col9\" class=\"data row10 col9\" >0,166</td>\n",
       "    </tr>\n",
       "  </tbody>\n",
       "</table>\n"
      ],
      "text/plain": [
       "<pandas.io.formats.style.Styler at 0x7fcda96f40d0>"
      ]
     },
     "metadata": {},
     "output_type": "display_data"
    }
   ],
   "source": [
    "# check summary statistics\n",
    "summary_statistics(df_number)"
   ]
  },
  {
   "attachments": {},
   "cell_type": "markdown",
   "id": "c5f415f3",
   "metadata": {},
   "source": [
    "### 2.9.2 - Categorical Variables"
   ]
  },
  {
   "attachments": {},
   "cell_type": "markdown",
   "id": "cd102a7d",
   "metadata": {},
   "source": [
    "*Inspect categorical variables*"
   ]
  },
  {
   "cell_type": "code",
   "execution_count": 55,
   "id": "3ad44e8e",
   "metadata": {},
   "outputs": [
    {
     "name": "stdout",
     "output_type": "stream",
     "text": [
      "Overview of string columns:\n"
     ]
    },
    {
     "data": {
      "text/html": [
       "<style type=\"text/css\">\n",
       "#T_3d304_row0_col1, #T_3d304_row1_col1, #T_3d304_row2_col1 {\n",
       "  background-color: Navy;\n",
       "  color: White;\n",
       "}\n",
       "</style>\n",
       "<table id=\"T_3d304\">\n",
       "  <thead>\n",
       "    <tr>\n",
       "      <th class=\"blank level0\" >&nbsp;</th>\n",
       "      <th id=\"T_3d304_level0_col0\" class=\"col_heading level0 col0\" >Num NAs</th>\n",
       "      <th id=\"T_3d304_level0_col1\" class=\"col_heading level0 col1\" >Percent NAs</th>\n",
       "      <th id=\"T_3d304_level0_col2\" class=\"col_heading level0 col2\" >Num unique [include NAs]</th>\n",
       "      <th id=\"T_3d304_level0_col3\" class=\"col_heading level0 col3\" >Data Type</th>\n",
       "    </tr>\n",
       "  </thead>\n",
       "  <tbody>\n",
       "    <tr>\n",
       "      <th id=\"T_3d304_level0_row0\" class=\"row_heading level0 row0\" >surname</th>\n",
       "      <td id=\"T_3d304_row0_col0\" class=\"data row0 col0\" >0</td>\n",
       "      <td id=\"T_3d304_row0_col1\" class=\"data row0 col1\" >0</td>\n",
       "      <td id=\"T_3d304_row0_col2\" class=\"data row0 col2\" >2.932</td>\n",
       "      <td id=\"T_3d304_row0_col3\" class=\"data row0 col3\" >object</td>\n",
       "    </tr>\n",
       "    <tr>\n",
       "      <th id=\"T_3d304_level0_row1\" class=\"row_heading level0 row1\" >geography</th>\n",
       "      <td id=\"T_3d304_row1_col0\" class=\"data row1 col0\" >0</td>\n",
       "      <td id=\"T_3d304_row1_col1\" class=\"data row1 col1\" >0</td>\n",
       "      <td id=\"T_3d304_row1_col2\" class=\"data row1 col2\" >3</td>\n",
       "      <td id=\"T_3d304_row1_col3\" class=\"data row1 col3\" >object</td>\n",
       "    </tr>\n",
       "    <tr>\n",
       "      <th id=\"T_3d304_level0_row2\" class=\"row_heading level0 row2\" >gender</th>\n",
       "      <td id=\"T_3d304_row2_col0\" class=\"data row2 col0\" >0</td>\n",
       "      <td id=\"T_3d304_row2_col1\" class=\"data row2 col1\" >0</td>\n",
       "      <td id=\"T_3d304_row2_col2\" class=\"data row2 col2\" >2</td>\n",
       "      <td id=\"T_3d304_row2_col3\" class=\"data row2 col3\" >object</td>\n",
       "    </tr>\n",
       "  </tbody>\n",
       "</table>\n"
      ],
      "text/plain": [
       "<pandas.io.formats.style.Styler at 0x7fcde94f4e50>"
      ]
     },
     "metadata": {},
     "output_type": "display_data"
    },
    {
     "name": "stdout",
     "output_type": "stream",
     "text": [
      "------------------------------------------------- \n",
      "\n",
      "\u001b[94m--->\u001b[0m The unique values for \u001b[94m\u001b[1msurname\u001b[0m\u001b[0m column are: [\u001b[1mvalues are truncated\u001b[0m] \n",
      "\n",
      "Column surname has more than 15 unique values. To avoid a noisy display, they weren't printed. You can change the nunique_threshold param if you do want to print them.\n",
      "------------------------------------------------- \n",
      "\n",
      "\u001b[94m--->\u001b[0m The unique values for \u001b[94m\u001b[1mgeography\u001b[0m\u001b[0m column are: [\u001b[1mvalues are truncated\u001b[0m] \n",
      "\n",
      "['France', 'Spain', 'Germany']\n",
      "------------------------------------------------- \n",
      "\n",
      "\u001b[94m--->\u001b[0m The unique values for \u001b[94m\u001b[1mgender\u001b[0m\u001b[0m column are: [\u001b[1mvalues are truncated\u001b[0m] \n",
      "\n",
      "['Female', 'Male']\n",
      "------------------------------------------------- \n",
      "\n"
     ]
    }
   ],
   "source": [
    "# check overview of categorical features\n",
    "categorical_summary(df_string)"
   ]
  },
  {
   "attachments": {},
   "cell_type": "markdown",
   "id": "429001da",
   "metadata": {},
   "source": [
    "### 2.9.3 - Datetime Variables"
   ]
  },
  {
   "attachments": {},
   "cell_type": "markdown",
   "id": "4ff30514",
   "metadata": {},
   "source": [
    "*Inspect datetime variables*"
   ]
  },
  {
   "cell_type": "code",
   "execution_count": 56,
   "id": "8e847fd4",
   "metadata": {},
   "outputs": [],
   "source": [
    "# # check an overview of datetime features\n",
    "# datetime_summary(df_date)\n",
    "\n",
    "# no datetime column!"
   ]
  },
  {
   "attachments": {},
   "cell_type": "markdown",
   "id": "fcba07f5",
   "metadata": {},
   "source": [
    "### 2.9.4 - Investigate further:"
   ]
  },
  {
   "attachments": {},
   "cell_type": "markdown",
   "id": "e66e2046",
   "metadata": {},
   "source": [
    "*Variables to inspect the real meaning*"
   ]
  },
  {
   "cell_type": "code",
   "execution_count": 57,
   "id": "995e384c",
   "metadata": {},
   "outputs": [],
   "source": [
    "# TO-DO"
   ]
  },
  {
   "attachments": {},
   "cell_type": "markdown",
   "id": "0782f000",
   "metadata": {},
   "source": [
    "# **3 - FEATURE ENGINEERING**"
   ]
  },
  {
   "attachments": {},
   "cell_type": "markdown",
   "id": "15c2eb92",
   "metadata": {},
   "source": [
    "## 3.1 - Restore Point"
   ]
  },
  {
   "attachments": {},
   "cell_type": "markdown",
   "id": "86ffb7ec",
   "metadata": {},
   "source": [
    "*Create a checkpoint of the last dataframe from previous section*"
   ]
  },
  {
   "cell_type": "code",
   "execution_count": 58,
   "id": "d48c0545",
   "metadata": {},
   "outputs": [
    {
     "name": "stdout",
     "output_type": "stream",
     "text": [
      "*************************************************\n",
      "Dataframe size in memory: 2.764 MB \n",
      "\n",
      "-----------------------------\n",
      "Dataframe overview:\n"
     ]
    },
    {
     "data": {
      "text/html": [
       "<style type=\"text/css\">\n",
       "#T_3dc73_row0_col1, #T_3dc73_row0_col3, #T_3dc73_row1_col1, #T_3dc73_row1_col3, #T_3dc73_row2_col1, #T_3dc73_row2_col3, #T_3dc73_row3_col1, #T_3dc73_row3_col3, #T_3dc73_row4_col1, #T_3dc73_row4_col3, #T_3dc73_row5_col1, #T_3dc73_row5_col3, #T_3dc73_row6_col1, #T_3dc73_row6_col3, #T_3dc73_row7_col1, #T_3dc73_row7_col3, #T_3dc73_row8_col1, #T_3dc73_row8_col3, #T_3dc73_row9_col1, #T_3dc73_row9_col3, #T_3dc73_row10_col1, #T_3dc73_row10_col3, #T_3dc73_row11_col1, #T_3dc73_row11_col3, #T_3dc73_row12_col1, #T_3dc73_row12_col3, #T_3dc73_row13_col1, #T_3dc73_row13_col3 {\n",
       "  background-color: Navy;\n",
       "  color: White;\n",
       "}\n",
       "</style>\n",
       "<table id=\"T_3dc73\">\n",
       "  <thead>\n",
       "    <tr>\n",
       "      <th class=\"blank level0\" >&nbsp;</th>\n",
       "      <th id=\"T_3dc73_level0_col0\" class=\"col_heading level0 col0\" >Num NAs</th>\n",
       "      <th id=\"T_3dc73_level0_col1\" class=\"col_heading level0 col1\" >Percent NAs</th>\n",
       "      <th id=\"T_3dc73_level0_col2\" class=\"col_heading level0 col2\" >Num unique [include NAs]</th>\n",
       "      <th id=\"T_3dc73_level0_col3\" class=\"col_heading level0 col3\" >Data Type</th>\n",
       "    </tr>\n",
       "  </thead>\n",
       "  <tbody>\n",
       "    <tr>\n",
       "      <th id=\"T_3dc73_level0_row0\" class=\"row_heading level0 row0\" >row_number</th>\n",
       "      <td id=\"T_3dc73_row0_col0\" class=\"data row0 col0\" >0</td>\n",
       "      <td id=\"T_3dc73_row0_col1\" class=\"data row0 col1\" >0</td>\n",
       "      <td id=\"T_3dc73_row0_col2\" class=\"data row0 col2\" >10.000</td>\n",
       "      <td id=\"T_3dc73_row0_col3\" class=\"data row0 col3\" >int64</td>\n",
       "    </tr>\n",
       "    <tr>\n",
       "      <th id=\"T_3dc73_level0_row1\" class=\"row_heading level0 row1\" >customer_id</th>\n",
       "      <td id=\"T_3dc73_row1_col0\" class=\"data row1 col0\" >0</td>\n",
       "      <td id=\"T_3dc73_row1_col1\" class=\"data row1 col1\" >0</td>\n",
       "      <td id=\"T_3dc73_row1_col2\" class=\"data row1 col2\" >10.000</td>\n",
       "      <td id=\"T_3dc73_row1_col3\" class=\"data row1 col3\" >int64</td>\n",
       "    </tr>\n",
       "    <tr>\n",
       "      <th id=\"T_3dc73_level0_row2\" class=\"row_heading level0 row2\" >surname</th>\n",
       "      <td id=\"T_3dc73_row2_col0\" class=\"data row2 col0\" >0</td>\n",
       "      <td id=\"T_3dc73_row2_col1\" class=\"data row2 col1\" >0</td>\n",
       "      <td id=\"T_3dc73_row2_col2\" class=\"data row2 col2\" >2.932</td>\n",
       "      <td id=\"T_3dc73_row2_col3\" class=\"data row2 col3\" >object</td>\n",
       "    </tr>\n",
       "    <tr>\n",
       "      <th id=\"T_3dc73_level0_row3\" class=\"row_heading level0 row3\" >credit_score</th>\n",
       "      <td id=\"T_3dc73_row3_col0\" class=\"data row3 col0\" >0</td>\n",
       "      <td id=\"T_3dc73_row3_col1\" class=\"data row3 col1\" >0</td>\n",
       "      <td id=\"T_3dc73_row3_col2\" class=\"data row3 col2\" >460</td>\n",
       "      <td id=\"T_3dc73_row3_col3\" class=\"data row3 col3\" >int64</td>\n",
       "    </tr>\n",
       "    <tr>\n",
       "      <th id=\"T_3dc73_level0_row4\" class=\"row_heading level0 row4\" >geography</th>\n",
       "      <td id=\"T_3dc73_row4_col0\" class=\"data row4 col0\" >0</td>\n",
       "      <td id=\"T_3dc73_row4_col1\" class=\"data row4 col1\" >0</td>\n",
       "      <td id=\"T_3dc73_row4_col2\" class=\"data row4 col2\" >3</td>\n",
       "      <td id=\"T_3dc73_row4_col3\" class=\"data row4 col3\" >object</td>\n",
       "    </tr>\n",
       "    <tr>\n",
       "      <th id=\"T_3dc73_level0_row5\" class=\"row_heading level0 row5\" >gender</th>\n",
       "      <td id=\"T_3dc73_row5_col0\" class=\"data row5 col0\" >0</td>\n",
       "      <td id=\"T_3dc73_row5_col1\" class=\"data row5 col1\" >0</td>\n",
       "      <td id=\"T_3dc73_row5_col2\" class=\"data row5 col2\" >2</td>\n",
       "      <td id=\"T_3dc73_row5_col3\" class=\"data row5 col3\" >object</td>\n",
       "    </tr>\n",
       "    <tr>\n",
       "      <th id=\"T_3dc73_level0_row6\" class=\"row_heading level0 row6\" >age</th>\n",
       "      <td id=\"T_3dc73_row6_col0\" class=\"data row6 col0\" >0</td>\n",
       "      <td id=\"T_3dc73_row6_col1\" class=\"data row6 col1\" >0</td>\n",
       "      <td id=\"T_3dc73_row6_col2\" class=\"data row6 col2\" >70</td>\n",
       "      <td id=\"T_3dc73_row6_col3\" class=\"data row6 col3\" >int64</td>\n",
       "    </tr>\n",
       "    <tr>\n",
       "      <th id=\"T_3dc73_level0_row7\" class=\"row_heading level0 row7\" >tenure</th>\n",
       "      <td id=\"T_3dc73_row7_col0\" class=\"data row7 col0\" >0</td>\n",
       "      <td id=\"T_3dc73_row7_col1\" class=\"data row7 col1\" >0</td>\n",
       "      <td id=\"T_3dc73_row7_col2\" class=\"data row7 col2\" >11</td>\n",
       "      <td id=\"T_3dc73_row7_col3\" class=\"data row7 col3\" >int64</td>\n",
       "    </tr>\n",
       "    <tr>\n",
       "      <th id=\"T_3dc73_level0_row8\" class=\"row_heading level0 row8\" >balance</th>\n",
       "      <td id=\"T_3dc73_row8_col0\" class=\"data row8 col0\" >0</td>\n",
       "      <td id=\"T_3dc73_row8_col1\" class=\"data row8 col1\" >0</td>\n",
       "      <td id=\"T_3dc73_row8_col2\" class=\"data row8 col2\" >6.382</td>\n",
       "      <td id=\"T_3dc73_row8_col3\" class=\"data row8 col3\" >float64</td>\n",
       "    </tr>\n",
       "    <tr>\n",
       "      <th id=\"T_3dc73_level0_row9\" class=\"row_heading level0 row9\" >num_of_products</th>\n",
       "      <td id=\"T_3dc73_row9_col0\" class=\"data row9 col0\" >0</td>\n",
       "      <td id=\"T_3dc73_row9_col1\" class=\"data row9 col1\" >0</td>\n",
       "      <td id=\"T_3dc73_row9_col2\" class=\"data row9 col2\" >4</td>\n",
       "      <td id=\"T_3dc73_row9_col3\" class=\"data row9 col3\" >int64</td>\n",
       "    </tr>\n",
       "    <tr>\n",
       "      <th id=\"T_3dc73_level0_row10\" class=\"row_heading level0 row10\" >has_cr_card</th>\n",
       "      <td id=\"T_3dc73_row10_col0\" class=\"data row10 col0\" >0</td>\n",
       "      <td id=\"T_3dc73_row10_col1\" class=\"data row10 col1\" >0</td>\n",
       "      <td id=\"T_3dc73_row10_col2\" class=\"data row10 col2\" >2</td>\n",
       "      <td id=\"T_3dc73_row10_col3\" class=\"data row10 col3\" >int64</td>\n",
       "    </tr>\n",
       "    <tr>\n",
       "      <th id=\"T_3dc73_level0_row11\" class=\"row_heading level0 row11\" >is_active_member</th>\n",
       "      <td id=\"T_3dc73_row11_col0\" class=\"data row11 col0\" >0</td>\n",
       "      <td id=\"T_3dc73_row11_col1\" class=\"data row11 col1\" >0</td>\n",
       "      <td id=\"T_3dc73_row11_col2\" class=\"data row11 col2\" >2</td>\n",
       "      <td id=\"T_3dc73_row11_col3\" class=\"data row11 col3\" >int64</td>\n",
       "    </tr>\n",
       "    <tr>\n",
       "      <th id=\"T_3dc73_level0_row12\" class=\"row_heading level0 row12\" >estimated_salary</th>\n",
       "      <td id=\"T_3dc73_row12_col0\" class=\"data row12 col0\" >0</td>\n",
       "      <td id=\"T_3dc73_row12_col1\" class=\"data row12 col1\" >0</td>\n",
       "      <td id=\"T_3dc73_row12_col2\" class=\"data row12 col2\" >9.999</td>\n",
       "      <td id=\"T_3dc73_row12_col3\" class=\"data row12 col3\" >float64</td>\n",
       "    </tr>\n",
       "    <tr>\n",
       "      <th id=\"T_3dc73_level0_row13\" class=\"row_heading level0 row13\" >exited</th>\n",
       "      <td id=\"T_3dc73_row13_col0\" class=\"data row13 col0\" >0</td>\n",
       "      <td id=\"T_3dc73_row13_col1\" class=\"data row13 col1\" >0</td>\n",
       "      <td id=\"T_3dc73_row13_col2\" class=\"data row13 col2\" >2</td>\n",
       "      <td id=\"T_3dc73_row13_col3\" class=\"data row13 col3\" >int64</td>\n",
       "    </tr>\n",
       "  </tbody>\n",
       "</table>\n"
      ],
      "text/plain": [
       "<pandas.io.formats.style.Styler at 0x7fcda96f42e0>"
      ]
     },
     "metadata": {},
     "output_type": "display_data"
    },
    {
     "name": "stdout",
     "output_type": "stream",
     "text": [
      "-----------------------------\n",
      "\n",
      " Dataframe shape is (10000, 14) \n",
      "\n",
      "-----------------------------\n",
      "\n",
      "\n",
      "dataframe.sample(5)\n"
     ]
    },
    {
     "data": {
      "text/html": [
       "<div>\n",
       "<style scoped>\n",
       "    .dataframe tbody tr th:only-of-type {\n",
       "        vertical-align: middle;\n",
       "    }\n",
       "\n",
       "    .dataframe tbody tr th {\n",
       "        vertical-align: top;\n",
       "    }\n",
       "\n",
       "    .dataframe thead th {\n",
       "        text-align: right;\n",
       "    }\n",
       "</style>\n",
       "<table border=\"1\" class=\"dataframe\">\n",
       "  <thead>\n",
       "    <tr style=\"text-align: right;\">\n",
       "      <th></th>\n",
       "      <th>row_number</th>\n",
       "      <th>customer_id</th>\n",
       "      <th>surname</th>\n",
       "      <th>credit_score</th>\n",
       "      <th>geography</th>\n",
       "      <th>gender</th>\n",
       "      <th>age</th>\n",
       "      <th>tenure</th>\n",
       "      <th>balance</th>\n",
       "      <th>num_of_products</th>\n",
       "      <th>has_cr_card</th>\n",
       "      <th>is_active_member</th>\n",
       "      <th>estimated_salary</th>\n",
       "      <th>exited</th>\n",
       "    </tr>\n",
       "  </thead>\n",
       "  <tbody>\n",
       "    <tr>\n",
       "      <th>5934</th>\n",
       "      <td>5935</td>\n",
       "      <td>15607065</td>\n",
       "      <td>Chinedum</td>\n",
       "      <td>765</td>\n",
       "      <td>France</td>\n",
       "      <td>Male</td>\n",
       "      <td>34</td>\n",
       "      <td>9</td>\n",
       "      <td>91,835.2</td>\n",
       "      <td>1</td>\n",
       "      <td>0</td>\n",
       "      <td>0</td>\n",
       "      <td>138,280.2</td>\n",
       "      <td>0</td>\n",
       "    </tr>\n",
       "    <tr>\n",
       "      <th>948</th>\n",
       "      <td>949</td>\n",
       "      <td>15783659</td>\n",
       "      <td>Blackburn</td>\n",
       "      <td>659</td>\n",
       "      <td>France</td>\n",
       "      <td>Male</td>\n",
       "      <td>67</td>\n",
       "      <td>4</td>\n",
       "      <td>145,981.9</td>\n",
       "      <td>1</td>\n",
       "      <td>1</td>\n",
       "      <td>1</td>\n",
       "      <td>131,043.2</td>\n",
       "      <td>0</td>\n",
       "    </tr>\n",
       "    <tr>\n",
       "      <th>7843</th>\n",
       "      <td>7844</td>\n",
       "      <td>15766288</td>\n",
       "      <td>Ikechukwu</td>\n",
       "      <td>586</td>\n",
       "      <td>Germany</td>\n",
       "      <td>Female</td>\n",
       "      <td>36</td>\n",
       "      <td>5</td>\n",
       "      <td>103,700.7</td>\n",
       "      <td>1</td>\n",
       "      <td>1</td>\n",
       "      <td>0</td>\n",
       "      <td>194,072.6</td>\n",
       "      <td>1</td>\n",
       "    </tr>\n",
       "    <tr>\n",
       "      <th>4072</th>\n",
       "      <td>4073</td>\n",
       "      <td>15741865</td>\n",
       "      <td>Ferrari</td>\n",
       "      <td>810</td>\n",
       "      <td>France</td>\n",
       "      <td>Female</td>\n",
       "      <td>38</td>\n",
       "      <td>9</td>\n",
       "      <td>153,166.2</td>\n",
       "      <td>1</td>\n",
       "      <td>1</td>\n",
       "      <td>1</td>\n",
       "      <td>93,261.7</td>\n",
       "      <td>0</td>\n",
       "    </tr>\n",
       "    <tr>\n",
       "      <th>8910</th>\n",
       "      <td>8911</td>\n",
       "      <td>15744873</td>\n",
       "      <td>Wright</td>\n",
       "      <td>657</td>\n",
       "      <td>Germany</td>\n",
       "      <td>Female</td>\n",
       "      <td>48</td>\n",
       "      <td>5</td>\n",
       "      <td>143,595.9</td>\n",
       "      <td>1</td>\n",
       "      <td>0</td>\n",
       "      <td>0</td>\n",
       "      <td>101,314.6</td>\n",
       "      <td>1</td>\n",
       "    </tr>\n",
       "  </tbody>\n",
       "</table>\n",
       "<p>5 rows × 14 columns</p>\n",
       "</div>"
      ],
      "text/plain": [
       "      row_number  customer_id    surname  credit_score geography  gender  age   \n",
       "5934        5935     15607065   Chinedum           765    France    Male   34  \\\n",
       "948          949     15783659  Blackburn           659    France    Male   67   \n",
       "7843        7844     15766288  Ikechukwu           586   Germany  Female   36   \n",
       "4072        4073     15741865    Ferrari           810    France  Female   38   \n",
       "8910        8911     15744873     Wright           657   Germany  Female   48   \n",
       "\n",
       "      tenure   balance  num_of_products  has_cr_card  is_active_member   \n",
       "5934       9  91,835.2                1            0                 0  \\\n",
       "948        4 145,981.9                1            1                 1   \n",
       "7843       5 103,700.7                1            1                 0   \n",
       "4072       9 153,166.2                1            1                 1   \n",
       "8910       5 143,595.9                1            0                 0   \n",
       "\n",
       "      estimated_salary  exited  \n",
       "5934         138,280.2       0  \n",
       "948          131,043.2       0  \n",
       "7843         194,072.6       1  \n",
       "4072          93,261.7       0  \n",
       "8910         101,314.6       1  \n",
       "\n",
       "[5 rows x 14 columns]"
      ]
     },
     "metadata": {},
     "output_type": "display_data"
    },
    {
     "name": "stdout",
     "output_type": "stream",
     "text": [
      "*************************************************\n"
     ]
    }
   ],
   "source": [
    "# create a restore point for the previous section dataframe\n",
    "df_f_eng = df_description.copy()\n",
    "\n",
    "# check dataframe\n",
    "check_dataframe( df_f_eng )"
   ]
  },
  {
   "attachments": {},
   "cell_type": "markdown",
   "id": "5fc8ce4a",
   "metadata": {},
   "source": [
    "## 3.2 - Hypothesis Testing List"
   ]
  },
  {
   "attachments": {},
   "cell_type": "markdown",
   "id": "1aeb871f",
   "metadata": {},
   "source": [
    "*Define the list of hypotheses that will be validated during Exploratory Data Analysis (EDA)*"
   ]
  },
  {
   "cell_type": "code",
   "execution_count": 59,
   "id": "6280f03f",
   "metadata": {},
   "outputs": [],
   "source": [
    "# No need according to case description"
   ]
  },
  {
   "attachments": {},
   "cell_type": "markdown",
   "id": "75ba067e",
   "metadata": {},
   "source": [
    "## 3.3 - Feature Creation"
   ]
  },
  {
   "attachments": {},
   "cell_type": "markdown",
   "id": "d4301622",
   "metadata": {},
   "source": [
    "*Create new features (columns) that can be meaningful for EDA and, especially, machine learning modelling.*"
   ]
  },
  {
   "cell_type": "code",
   "execution_count": 60,
   "id": "4406cabd",
   "metadata": {},
   "outputs": [],
   "source": [
    "# No need up to this point"
   ]
  },
  {
   "attachments": {},
   "cell_type": "markdown",
   "id": "755eba7c",
   "metadata": {
    "ExecuteTime": {
     "end_time": "2021-11-08T17:29:18.464606Z",
     "start_time": "2021-11-08T17:29:18.458947Z"
    },
    "heading_collapsed": true
   },
   "source": [
    "# **4 - DATA FILTERING**"
   ]
  },
  {
   "attachments": {},
   "cell_type": "markdown",
   "id": "026ae2aa",
   "metadata": {
    "hidden": true
   },
   "source": [
    "## 4.1 - Restore Point"
   ]
  },
  {
   "attachments": {},
   "cell_type": "markdown",
   "id": "cb4c9722",
   "metadata": {},
   "source": [
    "*Create a checkpoint of the last dataframe from previous section*"
   ]
  },
  {
   "cell_type": "code",
   "execution_count": 63,
   "id": "569c1ae8",
   "metadata": {
    "ExecuteTime": {
     "end_time": "2021-11-22T11:35:16.188448Z",
     "start_time": "2021-11-22T11:35:15.658676Z"
    },
    "hidden": true
   },
   "outputs": [
    {
     "name": "stdout",
     "output_type": "stream",
     "text": [
      "*************************************************\n",
      "Dataframe size in memory: 2.764 MB \n",
      "\n",
      "-----------------------------\n",
      "Dataframe overview:\n"
     ]
    },
    {
     "data": {
      "text/html": [
       "<style type=\"text/css\">\n",
       "#T_8d513_row0_col1, #T_8d513_row0_col3, #T_8d513_row1_col1, #T_8d513_row1_col3, #T_8d513_row2_col1, #T_8d513_row2_col3, #T_8d513_row3_col1, #T_8d513_row3_col3, #T_8d513_row4_col1, #T_8d513_row4_col3, #T_8d513_row5_col1, #T_8d513_row5_col3, #T_8d513_row6_col1, #T_8d513_row6_col3, #T_8d513_row7_col1, #T_8d513_row7_col3, #T_8d513_row8_col1, #T_8d513_row8_col3, #T_8d513_row9_col1, #T_8d513_row9_col3, #T_8d513_row10_col1, #T_8d513_row10_col3, #T_8d513_row11_col1, #T_8d513_row11_col3, #T_8d513_row12_col1, #T_8d513_row12_col3, #T_8d513_row13_col1, #T_8d513_row13_col3 {\n",
       "  background-color: Navy;\n",
       "  color: White;\n",
       "}\n",
       "</style>\n",
       "<table id=\"T_8d513\">\n",
       "  <thead>\n",
       "    <tr>\n",
       "      <th class=\"blank level0\" >&nbsp;</th>\n",
       "      <th id=\"T_8d513_level0_col0\" class=\"col_heading level0 col0\" >Num NAs</th>\n",
       "      <th id=\"T_8d513_level0_col1\" class=\"col_heading level0 col1\" >Percent NAs</th>\n",
       "      <th id=\"T_8d513_level0_col2\" class=\"col_heading level0 col2\" >Num unique [include NAs]</th>\n",
       "      <th id=\"T_8d513_level0_col3\" class=\"col_heading level0 col3\" >Data Type</th>\n",
       "    </tr>\n",
       "  </thead>\n",
       "  <tbody>\n",
       "    <tr>\n",
       "      <th id=\"T_8d513_level0_row0\" class=\"row_heading level0 row0\" >row_number</th>\n",
       "      <td id=\"T_8d513_row0_col0\" class=\"data row0 col0\" >0</td>\n",
       "      <td id=\"T_8d513_row0_col1\" class=\"data row0 col1\" >0</td>\n",
       "      <td id=\"T_8d513_row0_col2\" class=\"data row0 col2\" >10.000</td>\n",
       "      <td id=\"T_8d513_row0_col3\" class=\"data row0 col3\" >int64</td>\n",
       "    </tr>\n",
       "    <tr>\n",
       "      <th id=\"T_8d513_level0_row1\" class=\"row_heading level0 row1\" >customer_id</th>\n",
       "      <td id=\"T_8d513_row1_col0\" class=\"data row1 col0\" >0</td>\n",
       "      <td id=\"T_8d513_row1_col1\" class=\"data row1 col1\" >0</td>\n",
       "      <td id=\"T_8d513_row1_col2\" class=\"data row1 col2\" >10.000</td>\n",
       "      <td id=\"T_8d513_row1_col3\" class=\"data row1 col3\" >int64</td>\n",
       "    </tr>\n",
       "    <tr>\n",
       "      <th id=\"T_8d513_level0_row2\" class=\"row_heading level0 row2\" >surname</th>\n",
       "      <td id=\"T_8d513_row2_col0\" class=\"data row2 col0\" >0</td>\n",
       "      <td id=\"T_8d513_row2_col1\" class=\"data row2 col1\" >0</td>\n",
       "      <td id=\"T_8d513_row2_col2\" class=\"data row2 col2\" >2.932</td>\n",
       "      <td id=\"T_8d513_row2_col3\" class=\"data row2 col3\" >object</td>\n",
       "    </tr>\n",
       "    <tr>\n",
       "      <th id=\"T_8d513_level0_row3\" class=\"row_heading level0 row3\" >credit_score</th>\n",
       "      <td id=\"T_8d513_row3_col0\" class=\"data row3 col0\" >0</td>\n",
       "      <td id=\"T_8d513_row3_col1\" class=\"data row3 col1\" >0</td>\n",
       "      <td id=\"T_8d513_row3_col2\" class=\"data row3 col2\" >460</td>\n",
       "      <td id=\"T_8d513_row3_col3\" class=\"data row3 col3\" >int64</td>\n",
       "    </tr>\n",
       "    <tr>\n",
       "      <th id=\"T_8d513_level0_row4\" class=\"row_heading level0 row4\" >geography</th>\n",
       "      <td id=\"T_8d513_row4_col0\" class=\"data row4 col0\" >0</td>\n",
       "      <td id=\"T_8d513_row4_col1\" class=\"data row4 col1\" >0</td>\n",
       "      <td id=\"T_8d513_row4_col2\" class=\"data row4 col2\" >3</td>\n",
       "      <td id=\"T_8d513_row4_col3\" class=\"data row4 col3\" >object</td>\n",
       "    </tr>\n",
       "    <tr>\n",
       "      <th id=\"T_8d513_level0_row5\" class=\"row_heading level0 row5\" >gender</th>\n",
       "      <td id=\"T_8d513_row5_col0\" class=\"data row5 col0\" >0</td>\n",
       "      <td id=\"T_8d513_row5_col1\" class=\"data row5 col1\" >0</td>\n",
       "      <td id=\"T_8d513_row5_col2\" class=\"data row5 col2\" >2</td>\n",
       "      <td id=\"T_8d513_row5_col3\" class=\"data row5 col3\" >object</td>\n",
       "    </tr>\n",
       "    <tr>\n",
       "      <th id=\"T_8d513_level0_row6\" class=\"row_heading level0 row6\" >age</th>\n",
       "      <td id=\"T_8d513_row6_col0\" class=\"data row6 col0\" >0</td>\n",
       "      <td id=\"T_8d513_row6_col1\" class=\"data row6 col1\" >0</td>\n",
       "      <td id=\"T_8d513_row6_col2\" class=\"data row6 col2\" >70</td>\n",
       "      <td id=\"T_8d513_row6_col3\" class=\"data row6 col3\" >int64</td>\n",
       "    </tr>\n",
       "    <tr>\n",
       "      <th id=\"T_8d513_level0_row7\" class=\"row_heading level0 row7\" >tenure</th>\n",
       "      <td id=\"T_8d513_row7_col0\" class=\"data row7 col0\" >0</td>\n",
       "      <td id=\"T_8d513_row7_col1\" class=\"data row7 col1\" >0</td>\n",
       "      <td id=\"T_8d513_row7_col2\" class=\"data row7 col2\" >11</td>\n",
       "      <td id=\"T_8d513_row7_col3\" class=\"data row7 col3\" >int64</td>\n",
       "    </tr>\n",
       "    <tr>\n",
       "      <th id=\"T_8d513_level0_row8\" class=\"row_heading level0 row8\" >balance</th>\n",
       "      <td id=\"T_8d513_row8_col0\" class=\"data row8 col0\" >0</td>\n",
       "      <td id=\"T_8d513_row8_col1\" class=\"data row8 col1\" >0</td>\n",
       "      <td id=\"T_8d513_row8_col2\" class=\"data row8 col2\" >6.382</td>\n",
       "      <td id=\"T_8d513_row8_col3\" class=\"data row8 col3\" >float64</td>\n",
       "    </tr>\n",
       "    <tr>\n",
       "      <th id=\"T_8d513_level0_row9\" class=\"row_heading level0 row9\" >num_of_products</th>\n",
       "      <td id=\"T_8d513_row9_col0\" class=\"data row9 col0\" >0</td>\n",
       "      <td id=\"T_8d513_row9_col1\" class=\"data row9 col1\" >0</td>\n",
       "      <td id=\"T_8d513_row9_col2\" class=\"data row9 col2\" >4</td>\n",
       "      <td id=\"T_8d513_row9_col3\" class=\"data row9 col3\" >int64</td>\n",
       "    </tr>\n",
       "    <tr>\n",
       "      <th id=\"T_8d513_level0_row10\" class=\"row_heading level0 row10\" >has_cr_card</th>\n",
       "      <td id=\"T_8d513_row10_col0\" class=\"data row10 col0\" >0</td>\n",
       "      <td id=\"T_8d513_row10_col1\" class=\"data row10 col1\" >0</td>\n",
       "      <td id=\"T_8d513_row10_col2\" class=\"data row10 col2\" >2</td>\n",
       "      <td id=\"T_8d513_row10_col3\" class=\"data row10 col3\" >int64</td>\n",
       "    </tr>\n",
       "    <tr>\n",
       "      <th id=\"T_8d513_level0_row11\" class=\"row_heading level0 row11\" >is_active_member</th>\n",
       "      <td id=\"T_8d513_row11_col0\" class=\"data row11 col0\" >0</td>\n",
       "      <td id=\"T_8d513_row11_col1\" class=\"data row11 col1\" >0</td>\n",
       "      <td id=\"T_8d513_row11_col2\" class=\"data row11 col2\" >2</td>\n",
       "      <td id=\"T_8d513_row11_col3\" class=\"data row11 col3\" >int64</td>\n",
       "    </tr>\n",
       "    <tr>\n",
       "      <th id=\"T_8d513_level0_row12\" class=\"row_heading level0 row12\" >estimated_salary</th>\n",
       "      <td id=\"T_8d513_row12_col0\" class=\"data row12 col0\" >0</td>\n",
       "      <td id=\"T_8d513_row12_col1\" class=\"data row12 col1\" >0</td>\n",
       "      <td id=\"T_8d513_row12_col2\" class=\"data row12 col2\" >9.999</td>\n",
       "      <td id=\"T_8d513_row12_col3\" class=\"data row12 col3\" >float64</td>\n",
       "    </tr>\n",
       "    <tr>\n",
       "      <th id=\"T_8d513_level0_row13\" class=\"row_heading level0 row13\" >exited</th>\n",
       "      <td id=\"T_8d513_row13_col0\" class=\"data row13 col0\" >0</td>\n",
       "      <td id=\"T_8d513_row13_col1\" class=\"data row13 col1\" >0</td>\n",
       "      <td id=\"T_8d513_row13_col2\" class=\"data row13 col2\" >2</td>\n",
       "      <td id=\"T_8d513_row13_col3\" class=\"data row13 col3\" >int64</td>\n",
       "    </tr>\n",
       "  </tbody>\n",
       "</table>\n"
      ],
      "text/plain": [
       "<pandas.io.formats.style.Styler at 0x7fcda9cffdc0>"
      ]
     },
     "metadata": {},
     "output_type": "display_data"
    },
    {
     "name": "stdout",
     "output_type": "stream",
     "text": [
      "-----------------------------\n",
      "\n",
      " Dataframe shape is (10000, 14) \n",
      "\n",
      "-----------------------------\n",
      "\n",
      "\n",
      "Statistics for Numerical Variables [NaNs are ignored]:\n"
     ]
    },
    {
     "data": {
      "text/html": [
       "<style type=\"text/css\">\n",
       "#T_7194e_row0_col5, #T_7194e_row0_col6, #T_7194e_row1_col5, #T_7194e_row1_col6, #T_7194e_row2_col5, #T_7194e_row2_col6, #T_7194e_row3_col5, #T_7194e_row3_col6, #T_7194e_row4_col5, #T_7194e_row4_col6, #T_7194e_row5_col5, #T_7194e_row5_col6, #T_7194e_row6_col5, #T_7194e_row6_col6, #T_7194e_row7_col5, #T_7194e_row7_col6, #T_7194e_row8_col5, #T_7194e_row8_col6, #T_7194e_row9_col5, #T_7194e_row9_col6, #T_7194e_row10_col5, #T_7194e_row10_col6 {\n",
       "  background-color: Navy;\n",
       "  color: White;\n",
       "}\n",
       "</style>\n",
       "<table id=\"T_7194e\">\n",
       "  <thead>\n",
       "    <tr>\n",
       "      <th class=\"blank level0\" >&nbsp;</th>\n",
       "      <th id=\"T_7194e_level0_col0\" class=\"col_heading level0 col0\" >attribute</th>\n",
       "      <th id=\"T_7194e_level0_col1\" class=\"col_heading level0 col1\" >mean</th>\n",
       "      <th id=\"T_7194e_level0_col2\" class=\"col_heading level0 col2\" >median</th>\n",
       "      <th id=\"T_7194e_level0_col3\" class=\"col_heading level0 col3\" >std</th>\n",
       "      <th id=\"T_7194e_level0_col4\" class=\"col_heading level0 col4\" >iqr</th>\n",
       "      <th id=\"T_7194e_level0_col5\" class=\"col_heading level0 col5\" >min</th>\n",
       "      <th id=\"T_7194e_level0_col6\" class=\"col_heading level0 col6\" >max</th>\n",
       "      <th id=\"T_7194e_level0_col7\" class=\"col_heading level0 col7\" >range</th>\n",
       "      <th id=\"T_7194e_level0_col8\" class=\"col_heading level0 col8\" >skew</th>\n",
       "      <th id=\"T_7194e_level0_col9\" class=\"col_heading level0 col9\" >kurtosis</th>\n",
       "    </tr>\n",
       "  </thead>\n",
       "  <tbody>\n",
       "    <tr>\n",
       "      <th id=\"T_7194e_level0_row0\" class=\"row_heading level0 row0\" >0</th>\n",
       "      <td id=\"T_7194e_row0_col0\" class=\"data row0 col0\" >row_number</td>\n",
       "      <td id=\"T_7194e_row0_col1\" class=\"data row0 col1\" >5.000,500</td>\n",
       "      <td id=\"T_7194e_row0_col2\" class=\"data row0 col2\" >5.000,500</td>\n",
       "      <td id=\"T_7194e_row0_col3\" class=\"data row0 col3\" >2.886,751</td>\n",
       "      <td id=\"T_7194e_row0_col4\" class=\"data row0 col4\" >4.999,500</td>\n",
       "      <td id=\"T_7194e_row0_col5\" class=\"data row0 col5\" >1,000</td>\n",
       "      <td id=\"T_7194e_row0_col6\" class=\"data row0 col6\" >10.000,000</td>\n",
       "      <td id=\"T_7194e_row0_col7\" class=\"data row0 col7\" >9.999,000</td>\n",
       "      <td id=\"T_7194e_row0_col8\" class=\"data row0 col8\" >0,000</td>\n",
       "      <td id=\"T_7194e_row0_col9\" class=\"data row0 col9\" >-1,200</td>\n",
       "    </tr>\n",
       "    <tr>\n",
       "      <th id=\"T_7194e_level0_row1\" class=\"row_heading level0 row1\" >1</th>\n",
       "      <td id=\"T_7194e_row1_col0\" class=\"data row1 col0\" >customer_id</td>\n",
       "      <td id=\"T_7194e_row1_col1\" class=\"data row1 col1\" >15.690.940,569</td>\n",
       "      <td id=\"T_7194e_row1_col2\" class=\"data row1 col2\" >15.690.738,000</td>\n",
       "      <td id=\"T_7194e_row1_col3\" class=\"data row1 col3\" >71.932,589</td>\n",
       "      <td id=\"T_7194e_row1_col4\" class=\"data row1 col4\" >124.705,500</td>\n",
       "      <td id=\"T_7194e_row1_col5\" class=\"data row1 col5\" >15.565.701,000</td>\n",
       "      <td id=\"T_7194e_row1_col6\" class=\"data row1 col6\" >15.815.690,000</td>\n",
       "      <td id=\"T_7194e_row1_col7\" class=\"data row1 col7\" >249.989,000</td>\n",
       "      <td id=\"T_7194e_row1_col8\" class=\"data row1 col8\" >0,001</td>\n",
       "      <td id=\"T_7194e_row1_col9\" class=\"data row1 col9\" >-1,196</td>\n",
       "    </tr>\n",
       "    <tr>\n",
       "      <th id=\"T_7194e_level0_row2\" class=\"row_heading level0 row2\" >2</th>\n",
       "      <td id=\"T_7194e_row2_col0\" class=\"data row2 col0\" >credit_score</td>\n",
       "      <td id=\"T_7194e_row2_col1\" class=\"data row2 col1\" >650,529</td>\n",
       "      <td id=\"T_7194e_row2_col2\" class=\"data row2 col2\" >652,000</td>\n",
       "      <td id=\"T_7194e_row2_col3\" class=\"data row2 col3\" >96,648</td>\n",
       "      <td id=\"T_7194e_row2_col4\" class=\"data row2 col4\" >134,000</td>\n",
       "      <td id=\"T_7194e_row2_col5\" class=\"data row2 col5\" >350,000</td>\n",
       "      <td id=\"T_7194e_row2_col6\" class=\"data row2 col6\" >850,000</td>\n",
       "      <td id=\"T_7194e_row2_col7\" class=\"data row2 col7\" >500,000</td>\n",
       "      <td id=\"T_7194e_row2_col8\" class=\"data row2 col8\" >-0,072</td>\n",
       "      <td id=\"T_7194e_row2_col9\" class=\"data row2 col9\" >-0,426</td>\n",
       "    </tr>\n",
       "    <tr>\n",
       "      <th id=\"T_7194e_level0_row3\" class=\"row_heading level0 row3\" >3</th>\n",
       "      <td id=\"T_7194e_row3_col0\" class=\"data row3 col0\" >age</td>\n",
       "      <td id=\"T_7194e_row3_col1\" class=\"data row3 col1\" >38,922</td>\n",
       "      <td id=\"T_7194e_row3_col2\" class=\"data row3 col2\" >37,000</td>\n",
       "      <td id=\"T_7194e_row3_col3\" class=\"data row3 col3\" >10,487</td>\n",
       "      <td id=\"T_7194e_row3_col4\" class=\"data row3 col4\" >12,000</td>\n",
       "      <td id=\"T_7194e_row3_col5\" class=\"data row3 col5\" >18,000</td>\n",
       "      <td id=\"T_7194e_row3_col6\" class=\"data row3 col6\" >92,000</td>\n",
       "      <td id=\"T_7194e_row3_col7\" class=\"data row3 col7\" >74,000</td>\n",
       "      <td id=\"T_7194e_row3_col8\" class=\"data row3 col8\" >1,011</td>\n",
       "      <td id=\"T_7194e_row3_col9\" class=\"data row3 col9\" >1,395</td>\n",
       "    </tr>\n",
       "    <tr>\n",
       "      <th id=\"T_7194e_level0_row4\" class=\"row_heading level0 row4\" >4</th>\n",
       "      <td id=\"T_7194e_row4_col0\" class=\"data row4 col0\" >tenure</td>\n",
       "      <td id=\"T_7194e_row4_col1\" class=\"data row4 col1\" >5,013</td>\n",
       "      <td id=\"T_7194e_row4_col2\" class=\"data row4 col2\" >5,000</td>\n",
       "      <td id=\"T_7194e_row4_col3\" class=\"data row4 col3\" >2,892</td>\n",
       "      <td id=\"T_7194e_row4_col4\" class=\"data row4 col4\" >4,000</td>\n",
       "      <td id=\"T_7194e_row4_col5\" class=\"data row4 col5\" >0,000</td>\n",
       "      <td id=\"T_7194e_row4_col6\" class=\"data row4 col6\" >10,000</td>\n",
       "      <td id=\"T_7194e_row4_col7\" class=\"data row4 col7\" >10,000</td>\n",
       "      <td id=\"T_7194e_row4_col8\" class=\"data row4 col8\" >0,011</td>\n",
       "      <td id=\"T_7194e_row4_col9\" class=\"data row4 col9\" >-1,165</td>\n",
       "    </tr>\n",
       "    <tr>\n",
       "      <th id=\"T_7194e_level0_row5\" class=\"row_heading level0 row5\" >5</th>\n",
       "      <td id=\"T_7194e_row5_col0\" class=\"data row5 col0\" >balance</td>\n",
       "      <td id=\"T_7194e_row5_col1\" class=\"data row5 col1\" >76.485,889</td>\n",
       "      <td id=\"T_7194e_row5_col2\" class=\"data row5 col2\" >97.198,540</td>\n",
       "      <td id=\"T_7194e_row5_col3\" class=\"data row5 col3\" >62.394,285</td>\n",
       "      <td id=\"T_7194e_row5_col4\" class=\"data row5 col4\" >127.644,240</td>\n",
       "      <td id=\"T_7194e_row5_col5\" class=\"data row5 col5\" >0,000</td>\n",
       "      <td id=\"T_7194e_row5_col6\" class=\"data row5 col6\" >250.898,090</td>\n",
       "      <td id=\"T_7194e_row5_col7\" class=\"data row5 col7\" >250.898,090</td>\n",
       "      <td id=\"T_7194e_row5_col8\" class=\"data row5 col8\" >-0,141</td>\n",
       "      <td id=\"T_7194e_row5_col9\" class=\"data row5 col9\" >-1,489</td>\n",
       "    </tr>\n",
       "    <tr>\n",
       "      <th id=\"T_7194e_level0_row6\" class=\"row_heading level0 row6\" >6</th>\n",
       "      <td id=\"T_7194e_row6_col0\" class=\"data row6 col0\" >num_of_products</td>\n",
       "      <td id=\"T_7194e_row6_col1\" class=\"data row6 col1\" >1,530</td>\n",
       "      <td id=\"T_7194e_row6_col2\" class=\"data row6 col2\" >1,000</td>\n",
       "      <td id=\"T_7194e_row6_col3\" class=\"data row6 col3\" >0,582</td>\n",
       "      <td id=\"T_7194e_row6_col4\" class=\"data row6 col4\" >1,000</td>\n",
       "      <td id=\"T_7194e_row6_col5\" class=\"data row6 col5\" >1,000</td>\n",
       "      <td id=\"T_7194e_row6_col6\" class=\"data row6 col6\" >4,000</td>\n",
       "      <td id=\"T_7194e_row6_col7\" class=\"data row6 col7\" >3,000</td>\n",
       "      <td id=\"T_7194e_row6_col8\" class=\"data row6 col8\" >0,746</td>\n",
       "      <td id=\"T_7194e_row6_col9\" class=\"data row6 col9\" >0,583</td>\n",
       "    </tr>\n",
       "    <tr>\n",
       "      <th id=\"T_7194e_level0_row7\" class=\"row_heading level0 row7\" >7</th>\n",
       "      <td id=\"T_7194e_row7_col0\" class=\"data row7 col0\" >has_cr_card</td>\n",
       "      <td id=\"T_7194e_row7_col1\" class=\"data row7 col1\" >0,706</td>\n",
       "      <td id=\"T_7194e_row7_col2\" class=\"data row7 col2\" >1,000</td>\n",
       "      <td id=\"T_7194e_row7_col3\" class=\"data row7 col3\" >0,456</td>\n",
       "      <td id=\"T_7194e_row7_col4\" class=\"data row7 col4\" >1,000</td>\n",
       "      <td id=\"T_7194e_row7_col5\" class=\"data row7 col5\" >0,000</td>\n",
       "      <td id=\"T_7194e_row7_col6\" class=\"data row7 col6\" >1,000</td>\n",
       "      <td id=\"T_7194e_row7_col7\" class=\"data row7 col7\" >1,000</td>\n",
       "      <td id=\"T_7194e_row7_col8\" class=\"data row7 col8\" >-0,902</td>\n",
       "      <td id=\"T_7194e_row7_col9\" class=\"data row7 col9\" >-1,187</td>\n",
       "    </tr>\n",
       "    <tr>\n",
       "      <th id=\"T_7194e_level0_row8\" class=\"row_heading level0 row8\" >8</th>\n",
       "      <td id=\"T_7194e_row8_col0\" class=\"data row8 col0\" >is_active_member</td>\n",
       "      <td id=\"T_7194e_row8_col1\" class=\"data row8 col1\" >0,515</td>\n",
       "      <td id=\"T_7194e_row8_col2\" class=\"data row8 col2\" >1,000</td>\n",
       "      <td id=\"T_7194e_row8_col3\" class=\"data row8 col3\" >0,500</td>\n",
       "      <td id=\"T_7194e_row8_col4\" class=\"data row8 col4\" >1,000</td>\n",
       "      <td id=\"T_7194e_row8_col5\" class=\"data row8 col5\" >0,000</td>\n",
       "      <td id=\"T_7194e_row8_col6\" class=\"data row8 col6\" >1,000</td>\n",
       "      <td id=\"T_7194e_row8_col7\" class=\"data row8 col7\" >1,000</td>\n",
       "      <td id=\"T_7194e_row8_col8\" class=\"data row8 col8\" >-0,060</td>\n",
       "      <td id=\"T_7194e_row8_col9\" class=\"data row8 col9\" >-1,997</td>\n",
       "    </tr>\n",
       "    <tr>\n",
       "      <th id=\"T_7194e_level0_row9\" class=\"row_heading level0 row9\" >9</th>\n",
       "      <td id=\"T_7194e_row9_col0\" class=\"data row9 col0\" >estimated_salary</td>\n",
       "      <td id=\"T_7194e_row9_col1\" class=\"data row9 col1\" >100.090,240</td>\n",
       "      <td id=\"T_7194e_row9_col2\" class=\"data row9 col2\" >100.193,915</td>\n",
       "      <td id=\"T_7194e_row9_col3\" class=\"data row9 col3\" >57.507,617</td>\n",
       "      <td id=\"T_7194e_row9_col4\" class=\"data row9 col4\" >98.386,137</td>\n",
       "      <td id=\"T_7194e_row9_col5\" class=\"data row9 col5\" >11,580</td>\n",
       "      <td id=\"T_7194e_row9_col6\" class=\"data row9 col6\" >199.992,480</td>\n",
       "      <td id=\"T_7194e_row9_col7\" class=\"data row9 col7\" >199.980,900</td>\n",
       "      <td id=\"T_7194e_row9_col8\" class=\"data row9 col8\" >0,002</td>\n",
       "      <td id=\"T_7194e_row9_col9\" class=\"data row9 col9\" >-1,182</td>\n",
       "    </tr>\n",
       "    <tr>\n",
       "      <th id=\"T_7194e_level0_row10\" class=\"row_heading level0 row10\" >10</th>\n",
       "      <td id=\"T_7194e_row10_col0\" class=\"data row10 col0\" >exited</td>\n",
       "      <td id=\"T_7194e_row10_col1\" class=\"data row10 col1\" >0,204</td>\n",
       "      <td id=\"T_7194e_row10_col2\" class=\"data row10 col2\" >0,000</td>\n",
       "      <td id=\"T_7194e_row10_col3\" class=\"data row10 col3\" >0,403</td>\n",
       "      <td id=\"T_7194e_row10_col4\" class=\"data row10 col4\" >0,000</td>\n",
       "      <td id=\"T_7194e_row10_col5\" class=\"data row10 col5\" >0,000</td>\n",
       "      <td id=\"T_7194e_row10_col6\" class=\"data row10 col6\" >1,000</td>\n",
       "      <td id=\"T_7194e_row10_col7\" class=\"data row10 col7\" >1,000</td>\n",
       "      <td id=\"T_7194e_row10_col8\" class=\"data row10 col8\" >1,472</td>\n",
       "      <td id=\"T_7194e_row10_col9\" class=\"data row10 col9\" >0,166</td>\n",
       "    </tr>\n",
       "  </tbody>\n",
       "</table>\n"
      ],
      "text/plain": [
       "<pandas.io.formats.style.Styler at 0x7fcda983f3d0>"
      ]
     },
     "metadata": {},
     "output_type": "display_data"
    },
    {
     "name": "stdout",
     "output_type": "stream",
     "text": [
      "-----------------------------\n",
      "\n",
      "\n",
      "dataframe.sample(5)\n"
     ]
    },
    {
     "data": {
      "text/html": [
       "<div>\n",
       "<style scoped>\n",
       "    .dataframe tbody tr th:only-of-type {\n",
       "        vertical-align: middle;\n",
       "    }\n",
       "\n",
       "    .dataframe tbody tr th {\n",
       "        vertical-align: top;\n",
       "    }\n",
       "\n",
       "    .dataframe thead th {\n",
       "        text-align: right;\n",
       "    }\n",
       "</style>\n",
       "<table border=\"1\" class=\"dataframe\">\n",
       "  <thead>\n",
       "    <tr style=\"text-align: right;\">\n",
       "      <th></th>\n",
       "      <th>row_number</th>\n",
       "      <th>customer_id</th>\n",
       "      <th>surname</th>\n",
       "      <th>credit_score</th>\n",
       "      <th>geography</th>\n",
       "      <th>gender</th>\n",
       "      <th>age</th>\n",
       "      <th>tenure</th>\n",
       "      <th>balance</th>\n",
       "      <th>num_of_products</th>\n",
       "      <th>has_cr_card</th>\n",
       "      <th>is_active_member</th>\n",
       "      <th>estimated_salary</th>\n",
       "      <th>exited</th>\n",
       "    </tr>\n",
       "  </thead>\n",
       "  <tbody>\n",
       "    <tr>\n",
       "      <th>9967</th>\n",
       "      <td>9968</td>\n",
       "      <td>15603794</td>\n",
       "      <td>Pugliesi</td>\n",
       "      <td>623</td>\n",
       "      <td>France</td>\n",
       "      <td>Male</td>\n",
       "      <td>48</td>\n",
       "      <td>5</td>\n",
       "      <td>118,469.4</td>\n",
       "      <td>1</td>\n",
       "      <td>1</td>\n",
       "      <td>1</td>\n",
       "      <td>158,590.2</td>\n",
       "      <td>0</td>\n",
       "    </tr>\n",
       "    <tr>\n",
       "      <th>2495</th>\n",
       "      <td>2496</td>\n",
       "      <td>15666548</td>\n",
       "      <td>Chung</td>\n",
       "      <td>466</td>\n",
       "      <td>Germany</td>\n",
       "      <td>Female</td>\n",
       "      <td>56</td>\n",
       "      <td>2</td>\n",
       "      <td>111,920.1</td>\n",
       "      <td>3</td>\n",
       "      <td>1</td>\n",
       "      <td>0</td>\n",
       "      <td>197,634.1</td>\n",
       "      <td>1</td>\n",
       "    </tr>\n",
       "    <tr>\n",
       "      <th>1160</th>\n",
       "      <td>1161</td>\n",
       "      <td>15719348</td>\n",
       "      <td>Tsao</td>\n",
       "      <td>513</td>\n",
       "      <td>France</td>\n",
       "      <td>Male</td>\n",
       "      <td>35</td>\n",
       "      <td>8</td>\n",
       "      <td>0.0</td>\n",
       "      <td>1</td>\n",
       "      <td>1</td>\n",
       "      <td>0</td>\n",
       "      <td>76,640.3</td>\n",
       "      <td>1</td>\n",
       "    </tr>\n",
       "    <tr>\n",
       "      <th>8783</th>\n",
       "      <td>8784</td>\n",
       "      <td>15617052</td>\n",
       "      <td>Watson</td>\n",
       "      <td>782</td>\n",
       "      <td>France</td>\n",
       "      <td>Male</td>\n",
       "      <td>34</td>\n",
       "      <td>9</td>\n",
       "      <td>0.0</td>\n",
       "      <td>1</td>\n",
       "      <td>1</td>\n",
       "      <td>0</td>\n",
       "      <td>183,021.1</td>\n",
       "      <td>1</td>\n",
       "    </tr>\n",
       "    <tr>\n",
       "      <th>9350</th>\n",
       "      <td>9351</td>\n",
       "      <td>15689344</td>\n",
       "      <td>Montgomery</td>\n",
       "      <td>615</td>\n",
       "      <td>Spain</td>\n",
       "      <td>Male</td>\n",
       "      <td>42</td>\n",
       "      <td>4</td>\n",
       "      <td>0.0</td>\n",
       "      <td>3</td>\n",
       "      <td>0</td>\n",
       "      <td>1</td>\n",
       "      <td>120,321.1</td>\n",
       "      <td>0</td>\n",
       "    </tr>\n",
       "  </tbody>\n",
       "</table>\n",
       "<p>5 rows × 14 columns</p>\n",
       "</div>"
      ],
      "text/plain": [
       "      row_number  customer_id     surname  credit_score geography  gender   \n",
       "9967        9968     15603794    Pugliesi           623    France    Male  \\\n",
       "2495        2496     15666548       Chung           466   Germany  Female   \n",
       "1160        1161     15719348        Tsao           513    France    Male   \n",
       "8783        8784     15617052      Watson           782    France    Male   \n",
       "9350        9351     15689344  Montgomery           615     Spain    Male   \n",
       "\n",
       "      age  tenure   balance  num_of_products  has_cr_card  is_active_member   \n",
       "9967   48       5 118,469.4                1            1                 1  \\\n",
       "2495   56       2 111,920.1                3            1                 0   \n",
       "1160   35       8       0.0                1            1                 0   \n",
       "8783   34       9       0.0                1            1                 0   \n",
       "9350   42       4       0.0                3            0                 1   \n",
       "\n",
       "      estimated_salary  exited  \n",
       "9967         158,590.2       0  \n",
       "2495         197,634.1       1  \n",
       "1160          76,640.3       1  \n",
       "8783         183,021.1       1  \n",
       "9350         120,321.1       0  \n",
       "\n",
       "[5 rows x 14 columns]"
      ]
     },
     "metadata": {},
     "output_type": "display_data"
    },
    {
     "name": "stdout",
     "output_type": "stream",
     "text": [
      "*************************************************\n"
     ]
    }
   ],
   "source": [
    "# create a restore point for the previous section dataframe\n",
    "df_filter = df_f_eng.copy()\n",
    "\n",
    "# check dataframe\n",
    "check_dataframe( df_filter, summary_stats=True )"
   ]
  },
  {
   "attachments": {},
   "cell_type": "markdown",
   "id": "196cddb7",
   "metadata": {
    "ExecuteTime": {
     "end_time": "2021-11-08T18:08:30.512496Z",
     "start_time": "2021-11-08T18:08:30.507268Z"
    },
    "heading_collapsed": true,
    "hidden": true
   },
   "source": [
    "## 4.2 Rows Filtering"
   ]
  },
  {
   "attachments": {},
   "cell_type": "markdown",
   "id": "8253646d",
   "metadata": {},
   "source": [
    "*Remove rows with meaningless (or unimportant) data*"
   ]
  },
  {
   "cell_type": "code",
   "execution_count": 62,
   "id": "457347a6",
   "metadata": {
    "ExecuteTime": {
     "end_time": "2021-11-22T11:35:16.193901Z",
     "start_time": "2021-11-22T11:35:16.190106Z"
    },
    "hidden": true,
    "scrolled": true
   },
   "outputs": [],
   "source": [
    "# No rows to filter up to this point"
   ]
  },
  {
   "attachments": {},
   "cell_type": "markdown",
   "id": "1ca35d9b",
   "metadata": {},
   "source": [
    "## 4.3 - Columns Filtering"
   ]
  },
  {
   "attachments": {},
   "cell_type": "markdown",
   "id": "9acd7efd",
   "metadata": {},
   "source": [
    "*Remove auxiliary columns or columns that won't be available in the prediction moment*"
   ]
  },
  {
   "attachments": {},
   "cell_type": "markdown",
   "id": "f82ec41a",
   "metadata": {},
   "source": [
    "### row_number"
   ]
  },
  {
   "cell_type": "code",
   "execution_count": 65,
   "id": "bfd86022",
   "metadata": {},
   "outputs": [
    {
     "data": {
      "text/html": [
       "<div>\n",
       "<style scoped>\n",
       "    .dataframe tbody tr th:only-of-type {\n",
       "        vertical-align: middle;\n",
       "    }\n",
       "\n",
       "    .dataframe tbody tr th {\n",
       "        vertical-align: top;\n",
       "    }\n",
       "\n",
       "    .dataframe thead th {\n",
       "        text-align: right;\n",
       "    }\n",
       "</style>\n",
       "<table border=\"1\" class=\"dataframe\">\n",
       "  <thead>\n",
       "    <tr style=\"text-align: right;\">\n",
       "      <th></th>\n",
       "      <th>customer_id</th>\n",
       "      <th>surname</th>\n",
       "      <th>credit_score</th>\n",
       "      <th>geography</th>\n",
       "      <th>gender</th>\n",
       "      <th>age</th>\n",
       "      <th>tenure</th>\n",
       "      <th>balance</th>\n",
       "      <th>num_of_products</th>\n",
       "      <th>has_cr_card</th>\n",
       "      <th>is_active_member</th>\n",
       "      <th>estimated_salary</th>\n",
       "      <th>exited</th>\n",
       "    </tr>\n",
       "  </thead>\n",
       "  <tbody>\n",
       "    <tr>\n",
       "      <th>0</th>\n",
       "      <td>15634602</td>\n",
       "      <td>Hargrave</td>\n",
       "      <td>619</td>\n",
       "      <td>France</td>\n",
       "      <td>Female</td>\n",
       "      <td>42</td>\n",
       "      <td>2</td>\n",
       "      <td>0.0</td>\n",
       "      <td>1</td>\n",
       "      <td>1</td>\n",
       "      <td>1</td>\n",
       "      <td>101,348.9</td>\n",
       "      <td>1</td>\n",
       "    </tr>\n",
       "    <tr>\n",
       "      <th>1</th>\n",
       "      <td>15647311</td>\n",
       "      <td>Hill</td>\n",
       "      <td>608</td>\n",
       "      <td>Spain</td>\n",
       "      <td>Female</td>\n",
       "      <td>41</td>\n",
       "      <td>1</td>\n",
       "      <td>83,807.9</td>\n",
       "      <td>1</td>\n",
       "      <td>0</td>\n",
       "      <td>1</td>\n",
       "      <td>112,542.6</td>\n",
       "      <td>0</td>\n",
       "    </tr>\n",
       "    <tr>\n",
       "      <th>2</th>\n",
       "      <td>15619304</td>\n",
       "      <td>Onio</td>\n",
       "      <td>502</td>\n",
       "      <td>France</td>\n",
       "      <td>Female</td>\n",
       "      <td>42</td>\n",
       "      <td>8</td>\n",
       "      <td>159,660.8</td>\n",
       "      <td>3</td>\n",
       "      <td>1</td>\n",
       "      <td>0</td>\n",
       "      <td>113,931.6</td>\n",
       "      <td>1</td>\n",
       "    </tr>\n",
       "    <tr>\n",
       "      <th>3</th>\n",
       "      <td>15701354</td>\n",
       "      <td>Boni</td>\n",
       "      <td>699</td>\n",
       "      <td>France</td>\n",
       "      <td>Female</td>\n",
       "      <td>39</td>\n",
       "      <td>1</td>\n",
       "      <td>0.0</td>\n",
       "      <td>2</td>\n",
       "      <td>0</td>\n",
       "      <td>0</td>\n",
       "      <td>93,826.6</td>\n",
       "      <td>0</td>\n",
       "    </tr>\n",
       "    <tr>\n",
       "      <th>4</th>\n",
       "      <td>15737888</td>\n",
       "      <td>Mitchell</td>\n",
       "      <td>850</td>\n",
       "      <td>Spain</td>\n",
       "      <td>Female</td>\n",
       "      <td>43</td>\n",
       "      <td>2</td>\n",
       "      <td>125,510.8</td>\n",
       "      <td>1</td>\n",
       "      <td>1</td>\n",
       "      <td>1</td>\n",
       "      <td>79,084.1</td>\n",
       "      <td>0</td>\n",
       "    </tr>\n",
       "  </tbody>\n",
       "</table>\n",
       "<p>5 rows × 13 columns</p>\n",
       "</div>"
      ],
      "text/plain": [
       "   customer_id   surname  credit_score geography  gender  age  tenure   \n",
       "0     15634602  Hargrave           619    France  Female   42       2  \\\n",
       "1     15647311      Hill           608     Spain  Female   41       1   \n",
       "2     15619304      Onio           502    France  Female   42       8   \n",
       "3     15701354      Boni           699    France  Female   39       1   \n",
       "4     15737888  Mitchell           850     Spain  Female   43       2   \n",
       "\n",
       "    balance  num_of_products  has_cr_card  is_active_member  estimated_salary   \n",
       "0       0.0                1            1                 1         101,348.9  \\\n",
       "1  83,807.9                1            0                 1         112,542.6   \n",
       "2 159,660.8                3            1                 0         113,931.6   \n",
       "3       0.0                2            0                 0          93,826.6   \n",
       "4 125,510.8                1            1                 1          79,084.1   \n",
       "\n",
       "   exited  \n",
       "0       1  \n",
       "1       0  \n",
       "2       1  \n",
       "3       0  \n",
       "4       0  \n",
       "\n",
       "[5 rows x 13 columns]"
      ]
     },
     "execution_count": 65,
     "metadata": {},
     "output_type": "execute_result"
    }
   ],
   "source": [
    "# remove row_number column as it doesn't seem to add information\n",
    "df_filter = df_filter.drop(columns=[\"row_number\"])\n",
    "\n",
    "# inspect results dataframe\n",
    "df_filter.head()"
   ]
  },
  {
   "attachments": {},
   "cell_type": "markdown",
   "id": "36158fe8",
   "metadata": {
    "heading_collapsed": true
   },
   "source": [
    "# **5 - EXPLORATORY DATA ANALYSIS**"
   ]
  },
  {
   "attachments": {},
   "cell_type": "markdown",
   "id": "e109374b",
   "metadata": {
    "heading_collapsed": true,
    "hidden": true
   },
   "source": [
    "## 5.1 - Restore Point"
   ]
  },
  {
   "attachments": {},
   "cell_type": "markdown",
   "id": "2b6245ee",
   "metadata": {},
   "source": [
    "*Create a checkpoint of the last dataframe from previous section*"
   ]
  },
  {
   "cell_type": "code",
   "execution_count": 67,
   "id": "9ec1c6c5",
   "metadata": {
    "ExecuteTime": {
     "end_time": "2021-11-22T11:35:18.508075Z",
     "start_time": "2021-11-22T11:35:17.992047Z"
    },
    "hidden": true,
    "scrolled": true
   },
   "outputs": [
    {
     "name": "stdout",
     "output_type": "stream",
     "text": [
      "*************************************************\n",
      "Dataframe size in memory: 2.684 MB \n",
      "\n",
      "-----------------------------\n",
      "Dataframe overview:\n"
     ]
    },
    {
     "data": {
      "text/html": [
       "<style type=\"text/css\">\n",
       "#T_08da9_row0_col1, #T_08da9_row0_col3, #T_08da9_row1_col1, #T_08da9_row1_col3, #T_08da9_row2_col1, #T_08da9_row2_col3, #T_08da9_row3_col1, #T_08da9_row3_col3, #T_08da9_row4_col1, #T_08da9_row4_col3, #T_08da9_row5_col1, #T_08da9_row5_col3, #T_08da9_row6_col1, #T_08da9_row6_col3, #T_08da9_row7_col1, #T_08da9_row7_col3, #T_08da9_row8_col1, #T_08da9_row8_col3, #T_08da9_row9_col1, #T_08da9_row9_col3, #T_08da9_row10_col1, #T_08da9_row10_col3, #T_08da9_row11_col1, #T_08da9_row11_col3, #T_08da9_row12_col1, #T_08da9_row12_col3 {\n",
       "  background-color: Navy;\n",
       "  color: White;\n",
       "}\n",
       "</style>\n",
       "<table id=\"T_08da9\">\n",
       "  <thead>\n",
       "    <tr>\n",
       "      <th class=\"blank level0\" >&nbsp;</th>\n",
       "      <th id=\"T_08da9_level0_col0\" class=\"col_heading level0 col0\" >Num NAs</th>\n",
       "      <th id=\"T_08da9_level0_col1\" class=\"col_heading level0 col1\" >Percent NAs</th>\n",
       "      <th id=\"T_08da9_level0_col2\" class=\"col_heading level0 col2\" >Num unique [include NAs]</th>\n",
       "      <th id=\"T_08da9_level0_col3\" class=\"col_heading level0 col3\" >Data Type</th>\n",
       "    </tr>\n",
       "  </thead>\n",
       "  <tbody>\n",
       "    <tr>\n",
       "      <th id=\"T_08da9_level0_row0\" class=\"row_heading level0 row0\" >customer_id</th>\n",
       "      <td id=\"T_08da9_row0_col0\" class=\"data row0 col0\" >0</td>\n",
       "      <td id=\"T_08da9_row0_col1\" class=\"data row0 col1\" >0</td>\n",
       "      <td id=\"T_08da9_row0_col2\" class=\"data row0 col2\" >10.000</td>\n",
       "      <td id=\"T_08da9_row0_col3\" class=\"data row0 col3\" >int64</td>\n",
       "    </tr>\n",
       "    <tr>\n",
       "      <th id=\"T_08da9_level0_row1\" class=\"row_heading level0 row1\" >surname</th>\n",
       "      <td id=\"T_08da9_row1_col0\" class=\"data row1 col0\" >0</td>\n",
       "      <td id=\"T_08da9_row1_col1\" class=\"data row1 col1\" >0</td>\n",
       "      <td id=\"T_08da9_row1_col2\" class=\"data row1 col2\" >2.932</td>\n",
       "      <td id=\"T_08da9_row1_col3\" class=\"data row1 col3\" >object</td>\n",
       "    </tr>\n",
       "    <tr>\n",
       "      <th id=\"T_08da9_level0_row2\" class=\"row_heading level0 row2\" >credit_score</th>\n",
       "      <td id=\"T_08da9_row2_col0\" class=\"data row2 col0\" >0</td>\n",
       "      <td id=\"T_08da9_row2_col1\" class=\"data row2 col1\" >0</td>\n",
       "      <td id=\"T_08da9_row2_col2\" class=\"data row2 col2\" >460</td>\n",
       "      <td id=\"T_08da9_row2_col3\" class=\"data row2 col3\" >int64</td>\n",
       "    </tr>\n",
       "    <tr>\n",
       "      <th id=\"T_08da9_level0_row3\" class=\"row_heading level0 row3\" >geography</th>\n",
       "      <td id=\"T_08da9_row3_col0\" class=\"data row3 col0\" >0</td>\n",
       "      <td id=\"T_08da9_row3_col1\" class=\"data row3 col1\" >0</td>\n",
       "      <td id=\"T_08da9_row3_col2\" class=\"data row3 col2\" >3</td>\n",
       "      <td id=\"T_08da9_row3_col3\" class=\"data row3 col3\" >object</td>\n",
       "    </tr>\n",
       "    <tr>\n",
       "      <th id=\"T_08da9_level0_row4\" class=\"row_heading level0 row4\" >gender</th>\n",
       "      <td id=\"T_08da9_row4_col0\" class=\"data row4 col0\" >0</td>\n",
       "      <td id=\"T_08da9_row4_col1\" class=\"data row4 col1\" >0</td>\n",
       "      <td id=\"T_08da9_row4_col2\" class=\"data row4 col2\" >2</td>\n",
       "      <td id=\"T_08da9_row4_col3\" class=\"data row4 col3\" >object</td>\n",
       "    </tr>\n",
       "    <tr>\n",
       "      <th id=\"T_08da9_level0_row5\" class=\"row_heading level0 row5\" >age</th>\n",
       "      <td id=\"T_08da9_row5_col0\" class=\"data row5 col0\" >0</td>\n",
       "      <td id=\"T_08da9_row5_col1\" class=\"data row5 col1\" >0</td>\n",
       "      <td id=\"T_08da9_row5_col2\" class=\"data row5 col2\" >70</td>\n",
       "      <td id=\"T_08da9_row5_col3\" class=\"data row5 col3\" >int64</td>\n",
       "    </tr>\n",
       "    <tr>\n",
       "      <th id=\"T_08da9_level0_row6\" class=\"row_heading level0 row6\" >tenure</th>\n",
       "      <td id=\"T_08da9_row6_col0\" class=\"data row6 col0\" >0</td>\n",
       "      <td id=\"T_08da9_row6_col1\" class=\"data row6 col1\" >0</td>\n",
       "      <td id=\"T_08da9_row6_col2\" class=\"data row6 col2\" >11</td>\n",
       "      <td id=\"T_08da9_row6_col3\" class=\"data row6 col3\" >int64</td>\n",
       "    </tr>\n",
       "    <tr>\n",
       "      <th id=\"T_08da9_level0_row7\" class=\"row_heading level0 row7\" >balance</th>\n",
       "      <td id=\"T_08da9_row7_col0\" class=\"data row7 col0\" >0</td>\n",
       "      <td id=\"T_08da9_row7_col1\" class=\"data row7 col1\" >0</td>\n",
       "      <td id=\"T_08da9_row7_col2\" class=\"data row7 col2\" >6.382</td>\n",
       "      <td id=\"T_08da9_row7_col3\" class=\"data row7 col3\" >float64</td>\n",
       "    </tr>\n",
       "    <tr>\n",
       "      <th id=\"T_08da9_level0_row8\" class=\"row_heading level0 row8\" >num_of_products</th>\n",
       "      <td id=\"T_08da9_row8_col0\" class=\"data row8 col0\" >0</td>\n",
       "      <td id=\"T_08da9_row8_col1\" class=\"data row8 col1\" >0</td>\n",
       "      <td id=\"T_08da9_row8_col2\" class=\"data row8 col2\" >4</td>\n",
       "      <td id=\"T_08da9_row8_col3\" class=\"data row8 col3\" >int64</td>\n",
       "    </tr>\n",
       "    <tr>\n",
       "      <th id=\"T_08da9_level0_row9\" class=\"row_heading level0 row9\" >has_cr_card</th>\n",
       "      <td id=\"T_08da9_row9_col0\" class=\"data row9 col0\" >0</td>\n",
       "      <td id=\"T_08da9_row9_col1\" class=\"data row9 col1\" >0</td>\n",
       "      <td id=\"T_08da9_row9_col2\" class=\"data row9 col2\" >2</td>\n",
       "      <td id=\"T_08da9_row9_col3\" class=\"data row9 col3\" >int64</td>\n",
       "    </tr>\n",
       "    <tr>\n",
       "      <th id=\"T_08da9_level0_row10\" class=\"row_heading level0 row10\" >is_active_member</th>\n",
       "      <td id=\"T_08da9_row10_col0\" class=\"data row10 col0\" >0</td>\n",
       "      <td id=\"T_08da9_row10_col1\" class=\"data row10 col1\" >0</td>\n",
       "      <td id=\"T_08da9_row10_col2\" class=\"data row10 col2\" >2</td>\n",
       "      <td id=\"T_08da9_row10_col3\" class=\"data row10 col3\" >int64</td>\n",
       "    </tr>\n",
       "    <tr>\n",
       "      <th id=\"T_08da9_level0_row11\" class=\"row_heading level0 row11\" >estimated_salary</th>\n",
       "      <td id=\"T_08da9_row11_col0\" class=\"data row11 col0\" >0</td>\n",
       "      <td id=\"T_08da9_row11_col1\" class=\"data row11 col1\" >0</td>\n",
       "      <td id=\"T_08da9_row11_col2\" class=\"data row11 col2\" >9.999</td>\n",
       "      <td id=\"T_08da9_row11_col3\" class=\"data row11 col3\" >float64</td>\n",
       "    </tr>\n",
       "    <tr>\n",
       "      <th id=\"T_08da9_level0_row12\" class=\"row_heading level0 row12\" >exited</th>\n",
       "      <td id=\"T_08da9_row12_col0\" class=\"data row12 col0\" >0</td>\n",
       "      <td id=\"T_08da9_row12_col1\" class=\"data row12 col1\" >0</td>\n",
       "      <td id=\"T_08da9_row12_col2\" class=\"data row12 col2\" >2</td>\n",
       "      <td id=\"T_08da9_row12_col3\" class=\"data row12 col3\" >int64</td>\n",
       "    </tr>\n",
       "  </tbody>\n",
       "</table>\n"
      ],
      "text/plain": [
       "<pandas.io.formats.style.Styler at 0x7fcda99f8d30>"
      ]
     },
     "metadata": {},
     "output_type": "display_data"
    },
    {
     "name": "stdout",
     "output_type": "stream",
     "text": [
      "-----------------------------\n",
      "\n",
      " Dataframe shape is (10000, 13) \n",
      "\n",
      "-----------------------------\n",
      "\n",
      "\n",
      "dataframe.sample(5)\n"
     ]
    },
    {
     "data": {
      "text/html": [
       "<div>\n",
       "<style scoped>\n",
       "    .dataframe tbody tr th:only-of-type {\n",
       "        vertical-align: middle;\n",
       "    }\n",
       "\n",
       "    .dataframe tbody tr th {\n",
       "        vertical-align: top;\n",
       "    }\n",
       "\n",
       "    .dataframe thead th {\n",
       "        text-align: right;\n",
       "    }\n",
       "</style>\n",
       "<table border=\"1\" class=\"dataframe\">\n",
       "  <thead>\n",
       "    <tr style=\"text-align: right;\">\n",
       "      <th></th>\n",
       "      <th>customer_id</th>\n",
       "      <th>surname</th>\n",
       "      <th>credit_score</th>\n",
       "      <th>geography</th>\n",
       "      <th>gender</th>\n",
       "      <th>age</th>\n",
       "      <th>tenure</th>\n",
       "      <th>balance</th>\n",
       "      <th>num_of_products</th>\n",
       "      <th>has_cr_card</th>\n",
       "      <th>is_active_member</th>\n",
       "      <th>estimated_salary</th>\n",
       "      <th>exited</th>\n",
       "    </tr>\n",
       "  </thead>\n",
       "  <tbody>\n",
       "    <tr>\n",
       "      <th>4532</th>\n",
       "      <td>15739194</td>\n",
       "      <td>Manfrin</td>\n",
       "      <td>548</td>\n",
       "      <td>Spain</td>\n",
       "      <td>Male</td>\n",
       "      <td>38</td>\n",
       "      <td>0</td>\n",
       "      <td>178,056.5</td>\n",
       "      <td>2</td>\n",
       "      <td>1</td>\n",
       "      <td>0</td>\n",
       "      <td>38,434.7</td>\n",
       "      <td>0</td>\n",
       "    </tr>\n",
       "    <tr>\n",
       "      <th>5189</th>\n",
       "      <td>15721779</td>\n",
       "      <td>Arnold</td>\n",
       "      <td>826</td>\n",
       "      <td>Spain</td>\n",
       "      <td>Male</td>\n",
       "      <td>41</td>\n",
       "      <td>5</td>\n",
       "      <td>146,466.5</td>\n",
       "      <td>2</td>\n",
       "      <td>0</td>\n",
       "      <td>0</td>\n",
       "      <td>180,934.7</td>\n",
       "      <td>0</td>\n",
       "    </tr>\n",
       "    <tr>\n",
       "      <th>559</th>\n",
       "      <td>15571816</td>\n",
       "      <td>Ritchie</td>\n",
       "      <td>850</td>\n",
       "      <td>Spain</td>\n",
       "      <td>Female</td>\n",
       "      <td>70</td>\n",
       "      <td>5</td>\n",
       "      <td>0.0</td>\n",
       "      <td>1</td>\n",
       "      <td>1</td>\n",
       "      <td>1</td>\n",
       "      <td>705.2</td>\n",
       "      <td>0</td>\n",
       "    </tr>\n",
       "    <tr>\n",
       "      <th>4512</th>\n",
       "      <td>15751748</td>\n",
       "      <td>Trevisani</td>\n",
       "      <td>666</td>\n",
       "      <td>France</td>\n",
       "      <td>Male</td>\n",
       "      <td>51</td>\n",
       "      <td>2</td>\n",
       "      <td>148,222.6</td>\n",
       "      <td>1</td>\n",
       "      <td>0</td>\n",
       "      <td>0</td>\n",
       "      <td>156,953.5</td>\n",
       "      <td>1</td>\n",
       "    </tr>\n",
       "    <tr>\n",
       "      <th>3264</th>\n",
       "      <td>15574372</td>\n",
       "      <td>Hoolan</td>\n",
       "      <td>738</td>\n",
       "      <td>France</td>\n",
       "      <td>Male</td>\n",
       "      <td>35</td>\n",
       "      <td>5</td>\n",
       "      <td>161,274.0</td>\n",
       "      <td>2</td>\n",
       "      <td>1</td>\n",
       "      <td>0</td>\n",
       "      <td>181,429.9</td>\n",
       "      <td>0</td>\n",
       "    </tr>\n",
       "  </tbody>\n",
       "</table>\n",
       "<p>5 rows × 13 columns</p>\n",
       "</div>"
      ],
      "text/plain": [
       "      customer_id    surname  credit_score geography  gender  age  tenure   \n",
       "4532     15739194    Manfrin           548     Spain    Male   38       0  \\\n",
       "5189     15721779     Arnold           826     Spain    Male   41       5   \n",
       "559      15571816    Ritchie           850     Spain  Female   70       5   \n",
       "4512     15751748  Trevisani           666    France    Male   51       2   \n",
       "3264     15574372     Hoolan           738    France    Male   35       5   \n",
       "\n",
       "       balance  num_of_products  has_cr_card  is_active_member   \n",
       "4532 178,056.5                2            1                 0  \\\n",
       "5189 146,466.5                2            0                 0   \n",
       "559        0.0                1            1                 1   \n",
       "4512 148,222.6                1            0                 0   \n",
       "3264 161,274.0                2            1                 0   \n",
       "\n",
       "      estimated_salary  exited  \n",
       "4532          38,434.7       0  \n",
       "5189         180,934.7       0  \n",
       "559              705.2       0  \n",
       "4512         156,953.5       1  \n",
       "3264         181,429.9       0  \n",
       "\n",
       "[5 rows x 13 columns]"
      ]
     },
     "metadata": {},
     "output_type": "display_data"
    },
    {
     "name": "stdout",
     "output_type": "stream",
     "text": [
      "*************************************************\n"
     ]
    }
   ],
   "source": [
    "# create a restore point for the previous section dataframe\n",
    "df_eda = df_filter.copy()\n",
    "\n",
    "# check dataframe\n",
    "check_dataframe( df_eda )"
   ]
  },
  {
   "attachments": {},
   "cell_type": "markdown",
   "id": "7ce04da7",
   "metadata": {},
   "source": [
    "## 5.2 - Univariate Analysis"
   ]
  },
  {
   "attachments": {},
   "cell_type": "markdown",
   "id": "251f387b",
   "metadata": {},
   "source": [
    "*Explore variables distributions*"
   ]
  },
  {
   "cell_type": "code",
   "execution_count": 68,
   "id": "3aca4f52",
   "metadata": {},
   "outputs": [],
   "source": [
    "# split dataset into types of features\n",
    "df_eda_num = df_eda.select_dtypes(include=[\"number\", \"bool\"])\n",
    "df_eda_date = df_eda.select_dtypes(include=[\"datetime\"])\n",
    "df_eda_str = df_eda.select_dtypes(include=[\"object\"])\n",
    "\n",
    "# sanity check\n",
    "assert df_eda_num.shape[1] + df_eda_date.shape[1] + df_eda_str.shape[1] == df_eda.shape[1], \"\"\"Revise the previous split, something may be wrong!\"\"\""
   ]
  },
  {
   "attachments": {},
   "cell_type": "markdown",
   "id": "2453e220",
   "metadata": {},
   "source": [
    "### 5.2.1 - Numerical Columns"
   ]
  },
  {
   "cell_type": "code",
   "execution_count": null,
   "id": "06ff8907",
   "metadata": {},
   "outputs": [],
   "source": [
    "# plot numerical columns for base data\n",
    "numerical_plot(df_eda_num, hist=False)"
   ]
  },
  {
   "attachments": {},
   "cell_type": "markdown",
   "id": "fc3d072e",
   "metadata": {},
   "source": [
    "### 5.2.2 - Categorical Columns"
   ]
  },
  {
   "cell_type": "code",
   "execution_count": null,
   "id": "e2107307",
   "metadata": {},
   "outputs": [],
   "source": [
    "# plot categorical columns for base data\n",
    "categorical_plot(df_eda_str)"
   ]
  },
  {
   "attachments": {},
   "cell_type": "markdown",
   "id": "e51d0134",
   "metadata": {},
   "source": [
    "### 5.2.3 Datetime Columns"
   ]
  },
  {
   "cell_type": "code",
   "execution_count": null,
   "id": "8e4ea868",
   "metadata": {},
   "outputs": [],
   "source": [
    "# plot datetime columns for base data\n",
    "datetime_plot(df_eda_date)"
   ]
  },
  {
   "attachments": {},
   "cell_type": "markdown",
   "id": "186dfadf",
   "metadata": {
    "heading_collapsed": true,
    "hidden": true
   },
   "source": [
    "## 5.3 - Bivariate Analysis"
   ]
  },
  {
   "attachments": {},
   "cell_type": "markdown",
   "id": "45447dfc",
   "metadata": {},
   "source": [
    "*Explore relationship between variables (in pairs)*"
   ]
  },
  {
   "attachments": {},
   "cell_type": "markdown",
   "id": "b19f30b0",
   "metadata": {},
   "source": [
    "### 5.3.1 - Initial inspection"
   ]
  },
  {
   "cell_type": "code",
   "execution_count": 77,
   "id": "b09f0af9",
   "metadata": {
    "ExecuteTime": {
     "end_time": "2021-11-22T11:35:39.225076Z",
     "start_time": "2021-11-22T11:35:28.117744Z"
    },
    "hidden": true,
    "scrolled": false
   },
   "outputs": [
    {
     "data": {
      "image/png": "[encoded data removed]",
      "text/plain": [
       "<Figure size 1260x1260 with 56 Axes>"
      ]
     },
     "metadata": {
      "needs_background": "light"
     },
     "output_type": "display_data"
    }
   ],
   "source": [
    "# plot pairplot\n",
    "sns.pairplot( df_eda, diag_kind = \"kde\" );"
   ]
  },
  {
   "attachments": {},
   "cell_type": "markdown",
   "id": "20845368",
   "metadata": {
    "ExecuteTime": {
     "end_time": "2021-11-22T11:35:39.228869Z",
     "start_time": "2021-11-22T11:35:39.226949Z"
    },
    "hidden": true
   },
   "source": [
    "### 5.3.2 - Numerical variables"
   ]
  },
  {
   "cell_type": "code",
   "execution_count": 79,
   "id": "79118ce5",
   "metadata": {
    "ExecuteTime": {
     "end_time": "2021-11-22T11:35:39.939255Z",
     "start_time": "2021-11-22T11:35:39.230647Z"
    },
    "hidden": true
   },
   "outputs": [
    {
     "data": {
      "image/png": "[encoded data removed]",
      "text/plain": [
       "<Figure size 432x432 with 2 Axes>"
      ]
     },
     "metadata": {
      "needs_background": "light"
     },
     "output_type": "display_data"
    }
   ],
   "source": [
    "# calculate pearson correlation coefficient\n",
    "correlation = df_eda_ref.corr( method = 'spearman' )\n",
    "\n",
    "# create figure and ax object\n",
    "fig, ax = plt.subplots( figsize = (6, 6) )\n",
    "\n",
    "# display heatmap of correlation on figure\n",
    "sns.heatmap( correlation, annot = True, ax = ax)\n",
    "plt.yticks( rotation = 0 );"
   ]
  },
  {
   "attachments": {},
   "cell_type": "markdown",
   "id": "c916bafd",
   "metadata": {},
   "source": [
    "### 5.3.3 - Categorical variables"
   ]
  },
  {
   "cell_type": "code",
   "execution_count": null,
   "id": "c17624c7",
   "metadata": {},
   "outputs": [],
   "source": [
    "# TO-DO ---> cramer-v heatmap"
   ]
  },
  {
   "cell_type": "code",
   "execution_count": null,
   "id": "b3bfc9e9",
   "metadata": {},
   "outputs": [],
   "source": [
    "# create a dataframe with cramer-v for every row-column pair\n",
    "cramer_v_corr = create_cramer_v_dataframe( multivar_cat_analysis )\n",
    "\n",
    "# create figure and ax object\n",
    "fig, ax = plt.subplots( figsize = (20, 20) )\n",
    "\n",
    "# display heatmap of correlation on figure\n",
    "sns.heatmap( cramer_v_corr, annot = True, ax = ax);"
   ]
  },
  {
   "attachments": {},
   "cell_type": "markdown",
   "id": "606d451c",
   "metadata": {},
   "source": [
    "## 5.4 - Business Hypothesis"
   ]
  },
  {
   "attachments": {},
   "cell_type": "markdown",
   "id": "0876f828",
   "metadata": {},
   "source": [
    "*Validate all business hypothesis based on available data*"
   ]
  },
  {
   "attachments": {},
   "cell_type": "markdown",
   "id": "1671d285",
   "metadata": {},
   "source": [
    "### **H1. ..**"
   ]
  },
  {
   "cell_type": "code",
   "execution_count": null,
   "id": "cb8e5b11",
   "metadata": {},
   "outputs": [],
   "source": []
  },
  {
   "attachments": {},
   "cell_type": "markdown",
   "id": "8b6006ae",
   "metadata": {},
   "source": [
    "### **H2. ..**"
   ]
  },
  {
   "cell_type": "code",
   "execution_count": null,
   "id": "45e59c75",
   "metadata": {},
   "outputs": [],
   "source": []
  },
  {
   "attachments": {},
   "cell_type": "markdown",
   "id": "b5353cde",
   "metadata": {},
   "source": [
    "### **H3. ..**"
   ]
  },
  {
   "cell_type": "code",
   "execution_count": null,
   "id": "98c59e80",
   "metadata": {},
   "outputs": [],
   "source": []
  },
  {
   "attachments": {},
   "cell_type": "markdown",
   "id": "14a7fae9",
   "metadata": {},
   "source": [
    "### **H4. ..**"
   ]
  },
  {
   "cell_type": "code",
   "execution_count": null,
   "id": "e5078c5e",
   "metadata": {},
   "outputs": [],
   "source": []
  },
  {
   "attachments": {},
   "cell_type": "markdown",
   "id": "e8788e1b",
   "metadata": {},
   "source": [
    "### **H5. ..**"
   ]
  },
  {
   "cell_type": "code",
   "execution_count": null,
   "id": "9a9c15dd",
   "metadata": {},
   "outputs": [],
   "source": []
  },
  {
   "attachments": {},
   "cell_type": "markdown",
   "id": "a83c4df3",
   "metadata": {
    "heading_collapsed": true,
    "hidden": true
   },
   "source": [
    "## 5.5 - Data Space Analysis"
   ]
  },
  {
   "attachments": {},
   "cell_type": "markdown",
   "id": "035779a8",
   "metadata": {},
   "source": [
    "**Initial inspection on dimensionality reduction potential**"
   ]
  },
  {
   "attachments": {},
   "cell_type": "markdown",
   "id": "58d17b6d",
   "metadata": {
    "ExecuteTime": {
     "end_time": "2021-11-12T14:52:05.470744Z",
     "start_time": "2021-11-12T14:52:05.466937Z"
    },
    "heading_collapsed": true,
    "hidden": true
   },
   "source": [
    "### PCA"
   ]
  },
  {
   "cell_type": "code",
   "execution_count": 81,
   "id": "1918b2c1",
   "metadata": {
    "ExecuteTime": {
     "end_time": "2021-11-22T11:35:39.981919Z",
     "start_time": "2021-11-22T11:35:39.955021Z"
    },
    "hidden": true
   },
   "outputs": [],
   "source": [
    "# TO-DO"
   ]
  },
  {
   "attachments": {},
   "cell_type": "markdown",
   "id": "6cfeafc6",
   "metadata": {
    "heading_collapsed": true,
    "hidden": true
   },
   "source": [
    "### UMAP"
   ]
  },
  {
   "cell_type": "code",
   "execution_count": 85,
   "id": "b8b1451b",
   "metadata": {
    "ExecuteTime": {
     "end_time": "2021-11-22T11:36:07.808671Z",
     "start_time": "2021-11-22T11:35:40.592638Z"
    },
    "hidden": true
   },
   "outputs": [],
   "source": [
    "# TO-DO"
   ]
  },
  {
   "attachments": {},
   "cell_type": "markdown",
   "id": "158cdc9e",
   "metadata": {
    "heading_collapsed": true,
    "hidden": true
   },
   "source": [
    "### t-SNE"
   ]
  },
  {
   "cell_type": "code",
   "execution_count": 14,
   "id": "0cb4ccb3",
   "metadata": {
    "ExecuteTime": {
     "end_time": "2021-11-22T11:36:45.325959Z",
     "start_time": "2021-11-22T11:36:08.051724Z"
    },
    "hidden": true,
    "scrolled": true
   },
   "outputs": [],
   "source": [
    "# TO-DO"
   ]
  },
  {
   "attachments": {},
   "cell_type": "markdown",
   "id": "facedc5f",
   "metadata": {
    "heading_collapsed": true,
    "hidden": true
   },
   "source": [
    "### PHATE"
   ]
  },
  {
   "cell_type": "code",
   "execution_count": 89,
   "id": "a1e2ab66",
   "metadata": {
    "ExecuteTime": {
     "end_time": "2021-11-22T11:37:16.617873Z",
     "start_time": "2021-11-22T11:36:45.530058Z"
    },
    "hidden": true
   },
   "outputs": [],
   "source": [
    "# TO-DO"
   ]
  },
  {
   "attachments": {},
   "cell_type": "markdown",
   "id": "bd3b10a4",
   "metadata": {
    "heading_collapsed": true,
    "hidden": true
   },
   "source": [
    "### Tree-Base Embedding"
   ]
  },
  {
   "cell_type": "code",
   "execution_count": 91,
   "id": "1be00715",
   "metadata": {
    "ExecuteTime": {
     "end_time": "2021-11-22T11:37:17.721638Z",
     "start_time": "2021-11-22T11:37:16.881301Z"
    },
    "hidden": true
   },
   "outputs": [
    {
     "data": {
      "text/plain": [
       "RandomForestRegressor(n_jobs=-1, random_state=10)"
      ]
     },
     "execution_count": 91,
     "metadata": {},
     "output_type": "execute_result"
    }
   ],
   "source": [
    "# TO-DO"
   ]
  },
  {
   "attachments": {},
   "cell_type": "markdown",
   "id": "dad2f694",
   "metadata": {
    "heading_collapsed": true,
    "hidden": true
   },
   "source": [
    "### KMeans Embedding"
   ]
  },
  {
   "cell_type": "code",
   "execution_count": 103,
   "id": "156840e8",
   "metadata": {
    "ExecuteTime": {
     "end_time": "2021-11-22T11:37:40.479163Z",
     "start_time": "2021-11-22T11:37:29.524697Z"
    },
    "hidden": true
   },
   "outputs": [],
   "source": [
    "# TO-DO"
   ]
  },
  {
   "attachments": {},
   "cell_type": "markdown",
   "id": "1c42ecba",
   "metadata": {},
   "source": [
    "# **6 - DATA PREPARATION**"
   ]
  },
  {
   "attachments": {},
   "cell_type": "markdown",
   "id": "ec7eabd2",
   "metadata": {},
   "source": [
    "## 6.1 - Restore Point"
   ]
  },
  {
   "attachments": {},
   "cell_type": "markdown",
   "id": "e5eabd39",
   "metadata": {},
   "source": [
    "*Create a checkpoint of the last dataframe from previous section*"
   ]
  },
  {
   "cell_type": "code",
   "execution_count": null,
   "id": "40ff716a",
   "metadata": {},
   "outputs": [],
   "source": [
    "# create a restore point for the previous section dataframe\n",
    "df_prep = df_eda.copy()\n",
    "\n",
    "# check dataframe\n",
    "check_dataframe( df_prep )"
   ]
  },
  {
   "attachments": {},
   "cell_type": "markdown",
   "id": "44c0d35a",
   "metadata": {},
   "source": [
    "## 6.2 - Remove variables that won't be available in the production environment"
   ]
  },
  {
   "attachments": {},
   "cell_type": "markdown",
   "id": "767334b4",
   "metadata": {},
   "source": [
    "*Remove variables that model can use on production to make predictions*"
   ]
  },
  {
   "cell_type": "code",
   "execution_count": null,
   "id": "61fe90a8",
   "metadata": {},
   "outputs": [],
   "source": [
    "# TO-DO"
   ]
  },
  {
   "attachments": {},
   "cell_type": "markdown",
   "id": "3cfe39a4",
   "metadata": {},
   "source": [
    "## 6.3 - Train-Validation-Test split"
   ]
  },
  {
   "attachments": {},
   "cell_type": "markdown",
   "id": "a14a8105",
   "metadata": {},
   "source": [
    "*Split dataframe into training, validation and test dataset*"
   ]
  },
  {
   "cell_type": "code",
   "execution_count": null,
   "id": "dfac0f92",
   "metadata": {},
   "outputs": [],
   "source": [
    "# TO-DO"
   ]
  },
  {
   "attachments": {},
   "cell_type": "markdown",
   "id": "b2f48e31",
   "metadata": {},
   "source": [
    "## 6.4 - Scale numeric features"
   ]
  },
  {
   "attachments": {},
   "cell_type": "markdown",
   "id": "cd93f108",
   "metadata": {},
   "source": [
    "*Scale numeric feature to make modelling \"easier\" for ML models*"
   ]
  },
  {
   "attachments": {},
   "cell_type": "markdown",
   "id": "c58a8f54",
   "metadata": {},
   "source": [
    "### 6.4.1 - Standard Scaler"
   ]
  },
  {
   "cell_type": "code",
   "execution_count": null,
   "id": "44cfe8ab",
   "metadata": {},
   "outputs": [],
   "source": [
    "# TO-DO"
   ]
  },
  {
   "attachments": {},
   "cell_type": "markdown",
   "id": "f40f60b7",
   "metadata": {},
   "source": [
    "### 6.4.2 - Min-Max Scaler"
   ]
  },
  {
   "cell_type": "code",
   "execution_count": null,
   "id": "99d1dcb2",
   "metadata": {},
   "outputs": [],
   "source": [
    "# TO-DO"
   ]
  },
  {
   "attachments": {},
   "cell_type": "markdown",
   "id": "880503b8",
   "metadata": {},
   "source": [
    "### 6.4.3 - Robust Scaler"
   ]
  },
  {
   "cell_type": "code",
   "execution_count": null,
   "id": "51a24aad",
   "metadata": {},
   "outputs": [],
   "source": [
    "# TO-DO"
   ]
  },
  {
   "attachments": {},
   "cell_type": "markdown",
   "id": "22c6163d",
   "metadata": {},
   "source": [
    "### 6.4.4 - Discretization"
   ]
  },
  {
   "cell_type": "code",
   "execution_count": null,
   "id": "18f78a64",
   "metadata": {},
   "outputs": [],
   "source": [
    "# TO-DO"
   ]
  },
  {
   "attachments": {},
   "cell_type": "markdown",
   "id": "bed93774",
   "metadata": {},
   "source": [
    "## 6.5 - Encode categorical features"
   ]
  },
  {
   "attachments": {},
   "cell_type": "markdown",
   "id": "55ac6f45",
   "metadata": {},
   "source": [
    "*Encode categorical feature to make modelling possible for ML models*"
   ]
  },
  {
   "attachments": {},
   "cell_type": "markdown",
   "id": "c0814e8c",
   "metadata": {},
   "source": [
    "### 6.5.1 - One-Hot Encodingm"
   ]
  },
  {
   "cell_type": "code",
   "execution_count": null,
   "id": "7a2486ff",
   "metadata": {},
   "outputs": [],
   "source": [
    "# TO-DO"
   ]
  },
  {
   "attachments": {},
   "cell_type": "markdown",
   "id": "e50dacee",
   "metadata": {},
   "source": [
    "### 6.5.2 - Ordinal Encoding"
   ]
  },
  {
   "cell_type": "code",
   "execution_count": null,
   "id": "f5848643",
   "metadata": {},
   "outputs": [],
   "source": [
    "# TO-DO"
   ]
  },
  {
   "attachments": {},
   "cell_type": "markdown",
   "id": "2d8e7c71",
   "metadata": {},
   "source": [
    "### 6.5.3 - Target Encoding"
   ]
  },
  {
   "cell_type": "code",
   "execution_count": 2,
   "id": "d72d40c7",
   "metadata": {},
   "outputs": [],
   "source": [
    "# TO-DO"
   ]
  },
  {
   "attachments": {},
   "cell_type": "markdown",
   "id": "99e12393",
   "metadata": {},
   "source": [
    "## 6.6 - Response variable transformation"
   ]
  },
  {
   "attachments": {},
   "cell_type": "markdown",
   "id": "6f07db9d",
   "metadata": {},
   "source": [
    "*Transform target variable (e.g. log, sqrt, etc) to make modelling \"easier\" for ML models*"
   ]
  },
  {
   "cell_type": "code",
   "execution_count": null,
   "id": "70d3ee79",
   "metadata": {},
   "outputs": [],
   "source": [
    "# TO-DO"
   ]
  },
  {
   "attachments": {},
   "cell_type": "markdown",
   "id": "20a1fee9",
   "metadata": {},
   "source": [
    "## 6.7 - Cyclic variables transformation"
   ]
  },
  {
   "attachments": {},
   "cell_type": "markdown",
   "id": "f88bdcde",
   "metadata": {},
   "source": [
    "*Transform cyclic variables (e.g. days of week, months in year, etc) with a sin and cos functions*"
   ]
  },
  {
   "cell_type": "code",
   "execution_count": null,
   "id": "aa224055",
   "metadata": {},
   "outputs": [],
   "source": [
    "# TO-DO"
   ]
  },
  {
   "attachments": {},
   "cell_type": "markdown",
   "id": "35474f40",
   "metadata": {},
   "source": [
    "## 6.8 - Double-check preparation"
   ]
  },
  {
   "attachments": {},
   "cell_type": "markdown",
   "id": "ec4faaa7",
   "metadata": {},
   "source": [
    "*Double-check the prepared dataset to make sure it is as expected*"
   ]
  },
  {
   "cell_type": "code",
   "execution_count": null,
   "id": "72f62edb",
   "metadata": {},
   "outputs": [],
   "source": [
    "# TO-DO"
   ]
  },
  {
   "attachments": {},
   "cell_type": "markdown",
   "id": "ee9d757b",
   "metadata": {
    "ExecuteTime": {
     "end_time": "2021-11-09T11:28:02.993277Z",
     "start_time": "2021-11-09T11:28:02.988140Z"
    },
    "heading_collapsed": true
   },
   "source": [
    "# **7 - FEATURE SELECTION**"
   ]
  },
  {
   "attachments": {},
   "cell_type": "markdown",
   "id": "989cfb33",
   "metadata": {
    "heading_collapsed": true,
    "hidden": true
   },
   "source": [
    "## 7.1 - Restore Point"
   ]
  },
  {
   "attachments": {},
   "cell_type": "markdown",
   "id": "dab40a87",
   "metadata": {},
   "source": [
    "*Create a checkpoint of the last dataframe from previous section*"
   ]
  },
  {
   "cell_type": "code",
   "execution_count": null,
   "id": "9e572e68",
   "metadata": {},
   "outputs": [],
   "source": [
    "# create a restore point for the previous section dataframe\n",
    "df_f_selection = df_prep.copy()\n",
    "\n",
    "# check dataframe\n",
    "check_dataframe( df_f_selection )"
   ]
  },
  {
   "attachments": {},
   "cell_type": "markdown",
   "id": "2ed869c5",
   "metadata": {},
   "source": [
    "## 7.2 - Logist regression coefficients"
   ]
  },
  {
   "cell_type": "code",
   "execution_count": null,
   "id": "b109fbf8",
   "metadata": {},
   "outputs": [],
   "source": [
    "# TO-DO"
   ]
  },
  {
   "attachments": {},
   "cell_type": "markdown",
   "id": "18ded795",
   "metadata": {},
   "source": [
    "## 7.3 - Random forest feature importance"
   ]
  },
  {
   "cell_type": "code",
   "execution_count": null,
   "id": "bddb7118",
   "metadata": {},
   "outputs": [],
   "source": [
    "# TO-DO"
   ]
  },
  {
   "attachments": {},
   "cell_type": "markdown",
   "id": "ed578042",
   "metadata": {},
   "source": [
    "## 7.4 - Boruta algorithm"
   ]
  },
  {
   "cell_type": "code",
   "execution_count": null,
   "id": "d9be4e25",
   "metadata": {},
   "outputs": [],
   "source": [
    "# TO-DO"
   ]
  },
  {
   "attachments": {},
   "cell_type": "markdown",
   "id": "593aa50b",
   "metadata": {},
   "source": [
    "## 7.5 - Mutual information"
   ]
  },
  {
   "cell_type": "code",
   "execution_count": null,
   "id": "42990ce9",
   "metadata": {},
   "outputs": [],
   "source": [
    "# TO-DO"
   ]
  },
  {
   "attachments": {},
   "cell_type": "markdown",
   "id": "6cd4a7d0",
   "metadata": {
    "heading_collapsed": true
   },
   "source": [
    "# **8 - ML MODEL TRAINING**"
   ]
  },
  {
   "attachments": {},
   "cell_type": "markdown",
   "id": "0b3baa9b",
   "metadata": {
    "heading_collapsed": true,
    "hidden": true
   },
   "source": [
    "## 8.1 - Restore Point"
   ]
  },
  {
   "attachments": {},
   "cell_type": "markdown",
   "id": "78eb6db9",
   "metadata": {},
   "source": [
    "*Create a checkpoint of the last dataframe from previous section*"
   ]
  },
  {
   "cell_type": "code",
   "execution_count": 134,
   "id": "2711c6a3",
   "metadata": {
    "ExecuteTime": {
     "end_time": "2021-11-22T11:44:02.805951Z",
     "start_time": "2021-11-22T11:44:02.715657Z"
    },
    "hidden": true,
    "scrolled": true
   },
   "outputs": [
    {
     "name": "stdout",
     "output_type": "stream",
     "text": [
      "             Num NAs  Percent NAs  Num unique Data Type\n",
      "Component1         0          0.0        4323   float32\n",
      "Component2         0          0.0        4327   float32\n",
      "Component3         0          0.0        4327   float32\n",
      "Component4         0          0.0        4326   float32\n",
      "Component5         0          0.0        4327   float32\n",
      "Component6         0          0.0        4326   float32\n",
      "Component7         0          0.0        4327   float32\n",
      "Component8         0          0.0        4327   float32\n",
      "Component9         0          0.0        4326   float32\n",
      "Component10        0          0.0        4327   float32 \n",
      "\n",
      "Dataframe shape is (4327, 10) \n",
      "\n",
      "\n",
      "\n",
      "Statistics for Numerical Variables\n"
     ]
    },
    {
     "data": {
      "text/html": [
       "<style type=\"text/css\">\n",
       "#T_e5b6d_row0_col5, #T_e5b6d_row0_col6, #T_e5b6d_row1_col5, #T_e5b6d_row1_col6, #T_e5b6d_row2_col5, #T_e5b6d_row2_col6, #T_e5b6d_row3_col5, #T_e5b6d_row3_col6, #T_e5b6d_row4_col5, #T_e5b6d_row4_col6, #T_e5b6d_row5_col5, #T_e5b6d_row5_col6, #T_e5b6d_row6_col5, #T_e5b6d_row6_col6, #T_e5b6d_row7_col5, #T_e5b6d_row7_col6, #T_e5b6d_row8_col5, #T_e5b6d_row8_col6, #T_e5b6d_row9_col5, #T_e5b6d_row9_col6 {\n",
       "  background-color: Navy;\n",
       "  color: White;\n",
       "}\n",
       "</style>\n",
       "<table id=\"T_e5b6d_\">\n",
       "  <thead>\n",
       "    <tr>\n",
       "      <th class=\"blank level0\" >&nbsp;</th>\n",
       "      <th class=\"col_heading level0 col0\" >attribute</th>\n",
       "      <th class=\"col_heading level0 col1\" >mean</th>\n",
       "      <th class=\"col_heading level0 col2\" >median</th>\n",
       "      <th class=\"col_heading level0 col3\" >std</th>\n",
       "      <th class=\"col_heading level0 col4\" >iqr</th>\n",
       "      <th class=\"col_heading level0 col5\" >min</th>\n",
       "      <th class=\"col_heading level0 col6\" >max</th>\n",
       "      <th class=\"col_heading level0 col7\" >range</th>\n",
       "      <th class=\"col_heading level0 col8\" >skew</th>\n",
       "      <th class=\"col_heading level0 col9\" >kurtosis</th>\n",
       "    </tr>\n",
       "  </thead>\n",
       "  <tbody>\n",
       "    <tr>\n",
       "      <th id=\"T_e5b6d_level0_row0\" class=\"row_heading level0 row0\" >0</th>\n",
       "      <td id=\"T_e5b6d_row0_col0\" class=\"data row0 col0\" >Component1</td>\n",
       "      <td id=\"T_e5b6d_row0_col1\" class=\"data row0 col1\" >8.756845</td>\n",
       "      <td id=\"T_e5b6d_row0_col2\" class=\"data row0 col2\" >8.479357</td>\n",
       "      <td id=\"T_e5b6d_row0_col3\" class=\"data row0 col3\" >3.546270</td>\n",
       "      <td id=\"T_e5b6d_row0_col4\" class=\"data row0 col4\" >3.833632</td>\n",
       "      <td id=\"T_e5b6d_row0_col5\" class=\"data row0 col5\" >-3.838234</td>\n",
       "      <td id=\"T_e5b6d_row0_col6\" class=\"data row0 col6\" >16.950281</td>\n",
       "      <td id=\"T_e5b6d_row0_col7\" class=\"data row0 col7\" >20.788515</td>\n",
       "      <td id=\"T_e5b6d_row0_col8\" class=\"data row0 col8\" >-0.278402</td>\n",
       "      <td id=\"T_e5b6d_row0_col9\" class=\"data row0 col9\" >1.211488</td>\n",
       "    </tr>\n",
       "    <tr>\n",
       "      <th id=\"T_e5b6d_level0_row1\" class=\"row_heading level0 row1\" >1</th>\n",
       "      <td id=\"T_e5b6d_row1_col0\" class=\"data row1 col0\" >Component2</td>\n",
       "      <td id=\"T_e5b6d_row1_col1\" class=\"data row1 col1\" >2.825458</td>\n",
       "      <td id=\"T_e5b6d_row1_col2\" class=\"data row1 col2\" >1.832907</td>\n",
       "      <td id=\"T_e5b6d_row1_col3\" class=\"data row1 col3\" >3.708970</td>\n",
       "      <td id=\"T_e5b6d_row1_col4\" class=\"data row1 col4\" >2.976681</td>\n",
       "      <td id=\"T_e5b6d_row1_col5\" class=\"data row1 col5\" >-1.034768</td>\n",
       "      <td id=\"T_e5b6d_row1_col6\" class=\"data row1 col6\" >16.313740</td>\n",
       "      <td id=\"T_e5b6d_row1_col7\" class=\"data row1 col7\" >17.348509</td>\n",
       "      <td id=\"T_e5b6d_row1_col8\" class=\"data row1 col8\" >1.838738</td>\n",
       "      <td id=\"T_e5b6d_row1_col9\" class=\"data row1 col9\" >2.629627</td>\n",
       "    </tr>\n",
       "    <tr>\n",
       "      <th id=\"T_e5b6d_level0_row2\" class=\"row_heading level0 row2\" >2</th>\n",
       "      <td id=\"T_e5b6d_row2_col0\" class=\"data row2 col0\" >Component3</td>\n",
       "      <td id=\"T_e5b6d_row2_col1\" class=\"data row2 col1\" >5.092844</td>\n",
       "      <td id=\"T_e5b6d_row2_col2\" class=\"data row2 col2\" >5.332636</td>\n",
       "      <td id=\"T_e5b6d_row2_col3\" class=\"data row2 col3\" >3.504130</td>\n",
       "      <td id=\"T_e5b6d_row2_col4\" class=\"data row2 col4\" >4.609176</td>\n",
       "      <td id=\"T_e5b6d_row2_col5\" class=\"data row2 col5\" >-1.127100</td>\n",
       "      <td id=\"T_e5b6d_row2_col6\" class=\"data row2 col6\" >13.576625</td>\n",
       "      <td id=\"T_e5b6d_row2_col7\" class=\"data row2 col7\" >14.703726</td>\n",
       "      <td id=\"T_e5b6d_row2_col8\" class=\"data row2 col8\" >0.088531</td>\n",
       "      <td id=\"T_e5b6d_row2_col9\" class=\"data row2 col9\" >-0.656490</td>\n",
       "    </tr>\n",
       "    <tr>\n",
       "      <th id=\"T_e5b6d_level0_row3\" class=\"row_heading level0 row3\" >3</th>\n",
       "      <td id=\"T_e5b6d_row3_col0\" class=\"data row3 col0\" >Component4</td>\n",
       "      <td id=\"T_e5b6d_row3_col1\" class=\"data row3 col1\" >3.579871</td>\n",
       "      <td id=\"T_e5b6d_row3_col2\" class=\"data row3 col2\" >2.952657</td>\n",
       "      <td id=\"T_e5b6d_row3_col3\" class=\"data row3 col3\" >3.702515</td>\n",
       "      <td id=\"T_e5b6d_row3_col4\" class=\"data row3 col4\" >5.559612</td>\n",
       "      <td id=\"T_e5b6d_row3_col5\" class=\"data row3 col5\" >-2.723633</td>\n",
       "      <td id=\"T_e5b6d_row3_col6\" class=\"data row3 col6\" >10.113575</td>\n",
       "      <td id=\"T_e5b6d_row3_col7\" class=\"data row3 col7\" >12.837208</td>\n",
       "      <td id=\"T_e5b6d_row3_col8\" class=\"data row3 col8\" >0.204436</td>\n",
       "      <td id=\"T_e5b6d_row3_col9\" class=\"data row3 col9\" >-0.895704</td>\n",
       "    </tr>\n",
       "    <tr>\n",
       "      <th id=\"T_e5b6d_level0_row4\" class=\"row_heading level0 row4\" >4</th>\n",
       "      <td id=\"T_e5b6d_row4_col0\" class=\"data row4 col0\" >Component5</td>\n",
       "      <td id=\"T_e5b6d_row4_col1\" class=\"data row4 col1\" >5.428477</td>\n",
       "      <td id=\"T_e5b6d_row4_col2\" class=\"data row4 col2\" >4.670310</td>\n",
       "      <td id=\"T_e5b6d_row4_col3\" class=\"data row4 col3\" >3.523842</td>\n",
       "      <td id=\"T_e5b6d_row4_col4\" class=\"data row4 col4\" >6.102066</td>\n",
       "      <td id=\"T_e5b6d_row4_col5\" class=\"data row4 col5\" >-1.043623</td>\n",
       "      <td id=\"T_e5b6d_row4_col6\" class=\"data row4 col6\" >14.064202</td>\n",
       "      <td id=\"T_e5b6d_row4_col7\" class=\"data row4 col7\" >15.107825</td>\n",
       "      <td id=\"T_e5b6d_row4_col8\" class=\"data row4 col8\" >0.400764</td>\n",
       "      <td id=\"T_e5b6d_row4_col9\" class=\"data row4 col9\" >-0.783078</td>\n",
       "    </tr>\n",
       "    <tr>\n",
       "      <th id=\"T_e5b6d_level0_row5\" class=\"row_heading level0 row5\" >5</th>\n",
       "      <td id=\"T_e5b6d_row5_col0\" class=\"data row5 col0\" >Component6</td>\n",
       "      <td id=\"T_e5b6d_row5_col1\" class=\"data row5 col1\" >5.233913</td>\n",
       "      <td id=\"T_e5b6d_row5_col2\" class=\"data row5 col2\" >5.090982</td>\n",
       "      <td id=\"T_e5b6d_row5_col3\" class=\"data row5 col3\" >3.316130</td>\n",
       "      <td id=\"T_e5b6d_row5_col4\" class=\"data row5 col4\" >5.465777</td>\n",
       "      <td id=\"T_e5b6d_row5_col5\" class=\"data row5 col5\" >-0.940858</td>\n",
       "      <td id=\"T_e5b6d_row5_col6\" class=\"data row5 col6\" >12.595117</td>\n",
       "      <td id=\"T_e5b6d_row5_col7\" class=\"data row5 col7\" >13.535975</td>\n",
       "      <td id=\"T_e5b6d_row5_col8\" class=\"data row5 col8\" >0.088114</td>\n",
       "      <td id=\"T_e5b6d_row5_col9\" class=\"data row5 col9\" >-0.893744</td>\n",
       "    </tr>\n",
       "    <tr>\n",
       "      <th id=\"T_e5b6d_level0_row6\" class=\"row_heading level0 row6\" >6</th>\n",
       "      <td id=\"T_e5b6d_row6_col0\" class=\"data row6 col0\" >Component7</td>\n",
       "      <td id=\"T_e5b6d_row6_col1\" class=\"data row6 col1\" >5.390060</td>\n",
       "      <td id=\"T_e5b6d_row6_col2\" class=\"data row6 col2\" >5.594482</td>\n",
       "      <td id=\"T_e5b6d_row6_col3\" class=\"data row6 col3\" >2.853328</td>\n",
       "      <td id=\"T_e5b6d_row6_col4\" class=\"data row6 col4\" >4.383813</td>\n",
       "      <td id=\"T_e5b6d_row6_col5\" class=\"data row6 col5\" >-3.805825</td>\n",
       "      <td id=\"T_e5b6d_row6_col6\" class=\"data row6 col6\" >11.533351</td>\n",
       "      <td id=\"T_e5b6d_row6_col7\" class=\"data row6 col7\" >15.339176</td>\n",
       "      <td id=\"T_e5b6d_row6_col8\" class=\"data row6 col8\" >-0.552633</td>\n",
       "      <td id=\"T_e5b6d_row6_col9\" class=\"data row6 col9\" >0.428364</td>\n",
       "    </tr>\n",
       "    <tr>\n",
       "      <th id=\"T_e5b6d_level0_row7\" class=\"row_heading level0 row7\" >7</th>\n",
       "      <td id=\"T_e5b6d_row7_col0\" class=\"data row7 col0\" >Component8</td>\n",
       "      <td id=\"T_e5b6d_row7_col1\" class=\"data row7 col1\" >3.818063</td>\n",
       "      <td id=\"T_e5b6d_row7_col2\" class=\"data row7 col2\" >4.095199</td>\n",
       "      <td id=\"T_e5b6d_row7_col3\" class=\"data row7 col3\" >3.141679</td>\n",
       "      <td id=\"T_e5b6d_row7_col4\" class=\"data row7 col4\" >4.218873</td>\n",
       "      <td id=\"T_e5b6d_row7_col5\" class=\"data row7 col5\" >-5.322323</td>\n",
       "      <td id=\"T_e5b6d_row7_col6\" class=\"data row7 col6\" >9.340817</td>\n",
       "      <td id=\"T_e5b6d_row7_col7\" class=\"data row7 col7\" >14.663140</td>\n",
       "      <td id=\"T_e5b6d_row7_col8\" class=\"data row7 col8\" >-0.844103</td>\n",
       "      <td id=\"T_e5b6d_row7_col9\" class=\"data row7 col9\" >0.422412</td>\n",
       "    </tr>\n",
       "    <tr>\n",
       "      <th id=\"T_e5b6d_level0_row8\" class=\"row_heading level0 row8\" >8</th>\n",
       "      <td id=\"T_e5b6d_row8_col0\" class=\"data row8 col0\" >Component9</td>\n",
       "      <td id=\"T_e5b6d_row8_col1\" class=\"data row8 col1\" >6.061561</td>\n",
       "      <td id=\"T_e5b6d_row8_col2\" class=\"data row8 col2\" >6.255309</td>\n",
       "      <td id=\"T_e5b6d_row8_col3\" class=\"data row8 col3\" >3.246112</td>\n",
       "      <td id=\"T_e5b6d_row8_col4\" class=\"data row8 col4\" >3.588314</td>\n",
       "      <td id=\"T_e5b6d_row8_col5\" class=\"data row8 col5\" >-1.899050</td>\n",
       "      <td id=\"T_e5b6d_row8_col6\" class=\"data row8 col6\" >14.328415</td>\n",
       "      <td id=\"T_e5b6d_row8_col7\" class=\"data row8 col7\" >16.227465</td>\n",
       "      <td id=\"T_e5b6d_row8_col8\" class=\"data row8 col8\" >-0.333215</td>\n",
       "      <td id=\"T_e5b6d_row8_col9\" class=\"data row8 col9\" >0.066423</td>\n",
       "    </tr>\n",
       "    <tr>\n",
       "      <th id=\"T_e5b6d_level0_row9\" class=\"row_heading level0 row9\" >9</th>\n",
       "      <td id=\"T_e5b6d_row9_col0\" class=\"data row9 col0\" >Component10</td>\n",
       "      <td id=\"T_e5b6d_row9_col1\" class=\"data row9 col1\" >5.008446</td>\n",
       "      <td id=\"T_e5b6d_row9_col2\" class=\"data row9 col2\" >4.961404</td>\n",
       "      <td id=\"T_e5b6d_row9_col3\" class=\"data row9 col3\" >1.642548</td>\n",
       "      <td id=\"T_e5b6d_row9_col4\" class=\"data row9 col4\" >1.463818</td>\n",
       "      <td id=\"T_e5b6d_row9_col5\" class=\"data row9 col5\" >-2.965120</td>\n",
       "      <td id=\"T_e5b6d_row9_col6\" class=\"data row9 col6\" >11.422644</td>\n",
       "      <td id=\"T_e5b6d_row9_col7\" class=\"data row9 col7\" >14.387764</td>\n",
       "      <td id=\"T_e5b6d_row9_col8\" class=\"data row9 col8\" >-0.970562</td>\n",
       "      <td id=\"T_e5b6d_row9_col9\" class=\"data row9 col9\" >6.876804</td>\n",
       "    </tr>\n",
       "  </tbody>\n",
       "</table>\n"
      ],
      "text/plain": [
       "<pandas.io.formats.style.Styler at 0x7f6df037bdc0>"
      ]
     },
     "metadata": {},
     "output_type": "display_data"
    },
    {
     "name": "stdout",
     "output_type": "stream",
     "text": [
      "\n",
      "\n",
      "Dataframe head:\n"
     ]
    },
    {
     "data": {
      "text/html": [
       "<div>\n",
       "<style scoped>\n",
       "    .dataframe tbody tr th:only-of-type {\n",
       "        vertical-align: middle;\n",
       "    }\n",
       "\n",
       "    .dataframe tbody tr th {\n",
       "        vertical-align: top;\n",
       "    }\n",
       "\n",
       "    .dataframe thead th {\n",
       "        text-align: right;\n",
       "    }\n",
       "</style>\n",
       "<table border=\"1\" class=\"dataframe\">\n",
       "  <thead>\n",
       "    <tr style=\"text-align: right;\">\n",
       "      <th></th>\n",
       "      <th>Component1</th>\n",
       "      <th>Component2</th>\n",
       "      <th>Component3</th>\n",
       "      <th>Component4</th>\n",
       "      <th>Component5</th>\n",
       "      <th>Component6</th>\n",
       "      <th>Component7</th>\n",
       "      <th>Component8</th>\n",
       "      <th>Component9</th>\n",
       "      <th>Component10</th>\n",
       "    </tr>\n",
       "  </thead>\n",
       "  <tbody>\n",
       "    <tr>\n",
       "      <th>0</th>\n",
       "      <td>10.729282</td>\n",
       "      <td>1.516586</td>\n",
       "      <td>6.017461</td>\n",
       "      <td>2.797244</td>\n",
       "      <td>2.446232</td>\n",
       "      <td>7.849475</td>\n",
       "      <td>9.227074</td>\n",
       "      <td>-4.459064</td>\n",
       "      <td>4.341689</td>\n",
       "      <td>7.425992</td>\n",
       "    </tr>\n",
       "    <tr>\n",
       "      <th>1</th>\n",
       "      <td>12.651162</td>\n",
       "      <td>0.271370</td>\n",
       "      <td>6.098459</td>\n",
       "      <td>2.691980</td>\n",
       "      <td>2.584454</td>\n",
       "      <td>6.840669</td>\n",
       "      <td>9.893344</td>\n",
       "      <td>-3.157275</td>\n",
       "      <td>5.149111</td>\n",
       "      <td>5.881454</td>\n",
       "    </tr>\n",
       "    <tr>\n",
       "      <th>2</th>\n",
       "      <td>1.600545</td>\n",
       "      <td>11.027308</td>\n",
       "      <td>4.500133</td>\n",
       "      <td>3.795359</td>\n",
       "      <td>5.698783</td>\n",
       "      <td>5.067203</td>\n",
       "      <td>5.341020</td>\n",
       "      <td>4.118338</td>\n",
       "      <td>5.369469</td>\n",
       "      <td>4.887755</td>\n",
       "    </tr>\n",
       "    <tr>\n",
       "      <th>3</th>\n",
       "      <td>11.126656</td>\n",
       "      <td>3.791825</td>\n",
       "      <td>3.693642</td>\n",
       "      <td>8.212556</td>\n",
       "      <td>11.579227</td>\n",
       "      <td>2.733121</td>\n",
       "      <td>1.542327</td>\n",
       "      <td>1.372199</td>\n",
       "      <td>2.115418</td>\n",
       "      <td>8.648211</td>\n",
       "    </tr>\n",
       "    <tr>\n",
       "      <th>4</th>\n",
       "      <td>9.686758</td>\n",
       "      <td>6.376228</td>\n",
       "      <td>12.486723</td>\n",
       "      <td>-1.112635</td>\n",
       "      <td>2.863656</td>\n",
       "      <td>3.900461</td>\n",
       "      <td>7.999119</td>\n",
       "      <td>7.161775</td>\n",
       "      <td>9.918142</td>\n",
       "      <td>11.194680</td>\n",
       "    </tr>\n",
       "  </tbody>\n",
       "</table>\n",
       "</div>"
      ],
      "text/plain": [
       "   Component1  Component2  Component3  Component4  Component5  Component6  \\\n",
       "0   10.729282    1.516586    6.017461    2.797244    2.446232    7.849475   \n",
       "1   12.651162    0.271370    6.098459    2.691980    2.584454    6.840669   \n",
       "2    1.600545   11.027308    4.500133    3.795359    5.698783    5.067203   \n",
       "3   11.126656    3.791825    3.693642    8.212556   11.579227    2.733121   \n",
       "4    9.686758    6.376228   12.486723   -1.112635    2.863656    3.900461   \n",
       "\n",
       "   Component7  Component8  Component9  Component10  \n",
       "0    9.227074   -4.459064    4.341689     7.425992  \n",
       "1    9.893344   -3.157275    5.149111     5.881454  \n",
       "2    5.341020    4.118338    5.369469     4.887755  \n",
       "3    1.542327    1.372199    2.115418     8.648211  \n",
       "4    7.999119    7.161775    9.918142    11.194680  "
      ]
     },
     "metadata": {},
     "output_type": "display_data"
    }
   ],
   "source": [
    "# create a restore point for the previous section dataframe\n",
    "df_train = df_f_selection.copy()\n",
    "\n",
    "# check dataframe\n",
    "check_dataframe( df_train )"
   ]
  },
  {
   "attachments": {},
   "cell_type": "markdown",
   "id": "dab90bd1",
   "metadata": {},
   "source": [
    "## 8.2 - Metrics"
   ]
  },
  {
   "attachments": {},
   "cell_type": "markdown",
   "id": "a3265dbc",
   "metadata": {},
   "source": [
    "*Define the metric of success and the health metrics*"
   ]
  },
  {
   "cell_type": "code",
   "execution_count": null,
   "id": "088c6cce",
   "metadata": {},
   "outputs": [],
   "source": [
    "# TO-DO"
   ]
  },
  {
   "attachments": {},
   "cell_type": "markdown",
   "id": "611df983",
   "metadata": {},
   "source": [
    "## 8.3 - Baseline model"
   ]
  },
  {
   "attachments": {},
   "cell_type": "markdown",
   "id": "e1cba9e3",
   "metadata": {},
   "source": [
    "*Check the performance metrics with a dummy model to get the baseline metric*"
   ]
  },
  {
   "cell_type": "code",
   "execution_count": null,
   "id": "74687ece",
   "metadata": {},
   "outputs": [],
   "source": [
    "# TO-DO"
   ]
  },
  {
   "attachments": {},
   "cell_type": "markdown",
   "id": "ca3fc080",
   "metadata": {},
   "source": [
    "## 8.4 - ML models"
   ]
  },
  {
   "attachments": {},
   "cell_type": "markdown",
   "id": "0d1afd08",
   "metadata": {},
   "source": [
    "*Get performance metrics of ML model with cross-validation*"
   ]
  },
  {
   "cell_type": "code",
   "execution_count": null,
   "id": "b5bc1860",
   "metadata": {},
   "outputs": [],
   "source": [
    "# TO-DO"
   ]
  },
  {
   "attachments": {},
   "cell_type": "markdown",
   "id": "5d3c3c07",
   "metadata": {},
   "source": [
    "## 8.5 - Final modelling comparison"
   ]
  },
  {
   "attachments": {},
   "cell_type": "markdown",
   "id": "dd70b6db",
   "metadata": {},
   "source": [
    "*Compare all models and decide what one is the best (and will be fine-tuned)*"
   ]
  },
  {
   "cell_type": "code",
   "execution_count": null,
   "id": "c4712c7a",
   "metadata": {},
   "outputs": [],
   "source": [
    "# TO-DO"
   ]
  },
  {
   "attachments": {},
   "cell_type": "markdown",
   "id": "575611fe",
   "metadata": {},
   "source": [
    "# **9 - HYPERPARAMETER TUNNING**"
   ]
  },
  {
   "attachments": {},
   "cell_type": "markdown",
   "id": "e2edc6bc",
   "metadata": {},
   "source": [
    "## 9.1 - Restore Point"
   ]
  },
  {
   "attachments": {},
   "cell_type": "markdown",
   "id": "bc71366d",
   "metadata": {},
   "source": [
    "*Create a checkpoint of the last dataframe from previous section*"
   ]
  },
  {
   "cell_type": "code",
   "execution_count": null,
   "id": "08d3467a",
   "metadata": {},
   "outputs": [],
   "source": [
    "# create a restore point for the previous section dataframe\n",
    "df_tune = df_train.copy()\n",
    "\n",
    "# check dataframe\n",
    "check_dataframe( df_tune )"
   ]
  },
  {
   "attachments": {},
   "cell_type": "markdown",
   "id": "de10e50a",
   "metadata": {},
   "source": [
    "## 9.2 - Hypertune the best ML model"
   ]
  },
  {
   "attachments": {},
   "cell_type": "markdown",
   "id": "9e6ac096",
   "metadata": {},
   "source": [
    "*Check the best hyperparams for the best ML model*"
   ]
  },
  {
   "attachments": {},
   "cell_type": "markdown",
   "id": "8f4cd59d",
   "metadata": {},
   "source": [
    "### 9.2.1 - Grid Search"
   ]
  },
  {
   "cell_type": "code",
   "execution_count": null,
   "id": "191d670f",
   "metadata": {},
   "outputs": [],
   "source": [
    "# TO-DO"
   ]
  },
  {
   "attachments": {},
   "cell_type": "markdown",
   "id": "3ca5e074",
   "metadata": {},
   "source": [
    "### 9.2.2 - Random Search"
   ]
  },
  {
   "cell_type": "code",
   "execution_count": null,
   "id": "3ba96cf2",
   "metadata": {},
   "outputs": [],
   "source": [
    "# TO-DO"
   ]
  },
  {
   "attachments": {},
   "cell_type": "markdown",
   "id": "1099906e",
   "metadata": {},
   "source": [
    "### 9.2.3 - Bayesian Search"
   ]
  },
  {
   "cell_type": "code",
   "execution_count": null,
   "id": "b9d6a0a3",
   "metadata": {},
   "outputs": [],
   "source": [
    "# TO-DO"
   ]
  },
  {
   "attachments": {},
   "cell_type": "markdown",
   "id": "cc85ea29",
   "metadata": {},
   "source": [
    "## 9.3 - Define best hyperparameters"
   ]
  },
  {
   "attachments": {},
   "cell_type": "markdown",
   "id": "56530fc0",
   "metadata": {},
   "source": [
    "*Explicitly define best hyper parameters*"
   ]
  },
  {
   "cell_type": "code",
   "execution_count": null,
   "id": "29a0941a",
   "metadata": {},
   "outputs": [],
   "source": [
    "# TO-DO"
   ]
  },
  {
   "attachments": {},
   "cell_type": "markdown",
   "id": "118a044d",
   "metadata": {},
   "source": [
    "# **10 - PERFORMANCE EVALUATION AND INTERPRETATION**"
   ]
  },
  {
   "attachments": {},
   "cell_type": "markdown",
   "id": "9beb0f5e",
   "metadata": {},
   "source": [
    "## 10.1 - Restore Point"
   ]
  },
  {
   "attachments": {},
   "cell_type": "markdown",
   "id": "06063ebc",
   "metadata": {},
   "source": [
    "*Create a checkpoint of the last dataframe from previous section*"
   ]
  },
  {
   "cell_type": "code",
   "execution_count": null,
   "id": "ca048da1",
   "metadata": {},
   "outputs": [],
   "source": [
    "# create a restore point for the previous section dataframe\n",
    "df_perform = df_tune.copy()\n",
    "\n",
    "# check dataframe\n",
    "check_dataframe( df_perform )"
   ]
  },
  {
   "attachments": {},
   "cell_type": "markdown",
   "id": "bd259a95",
   "metadata": {},
   "source": [
    "## 10.2 - Training Performance"
   ]
  },
  {
   "attachments": {},
   "cell_type": "markdown",
   "id": "61597c50",
   "metadata": {},
   "source": [
    "*Get final model performance on training data*"
   ]
  },
  {
   "cell_type": "code",
   "execution_count": null,
   "id": "de669b2b",
   "metadata": {},
   "outputs": [],
   "source": [
    "# TO-DO"
   ]
  },
  {
   "attachments": {},
   "cell_type": "markdown",
   "id": "ad7b1738",
   "metadata": {},
   "source": [
    "## 10.3 - Generalization performance"
   ]
  },
  {
   "attachments": {},
   "cell_type": "markdown",
   "id": "86cbc993",
   "metadata": {},
   "source": [
    "### 10.3.1 - Final model training"
   ]
  },
  {
   "attachments": {},
   "cell_type": "markdown",
   "id": "e68bfaed",
   "metadata": {},
   "source": [
    "*Get final model performance on validation data*"
   ]
  },
  {
   "cell_type": "code",
   "execution_count": null,
   "id": "51f346c4",
   "metadata": {},
   "outputs": [],
   "source": [
    "# TO-DO"
   ]
  },
  {
   "attachments": {},
   "cell_type": "markdown",
   "id": "56ad9401",
   "metadata": {},
   "source": [
    "### 10.3.2 - Error analysis"
   ]
  },
  {
   "attachments": {},
   "cell_type": "markdown",
   "id": "30f53834",
   "metadata": {},
   "source": [
    "*Perform error analysis on final model to make sure it is ready for production*"
   ]
  },
  {
   "cell_type": "code",
   "execution_count": null,
   "id": "08faa83e",
   "metadata": {},
   "outputs": [],
   "source": [
    "# TO-DO"
   ]
  },
  {
   "attachments": {},
   "cell_type": "markdown",
   "id": "227e866b",
   "metadata": {},
   "source": [
    "## 10.4 - Define prodution model"
   ]
  },
  {
   "attachments": {},
   "cell_type": "markdown",
   "id": "d3babf23",
   "metadata": {},
   "source": [
    "*Train ML on \"training + validation\" data*"
   ]
  },
  {
   "cell_type": "code",
   "execution_count": null,
   "id": "4c8d89a9",
   "metadata": {},
   "outputs": [],
   "source": [
    "# TO-DO"
   ]
  },
  {
   "attachments": {},
   "cell_type": "markdown",
   "id": "5b33acde",
   "metadata": {},
   "source": [
    "## 10.5 - Testing performance"
   ]
  },
  {
   "attachments": {},
   "cell_type": "markdown",
   "id": "fb1220a9",
   "metadata": {},
   "source": [
    "*Get production model performance on testing data*"
   ]
  },
  {
   "cell_type": "code",
   "execution_count": null,
   "id": "6e52f764",
   "metadata": {},
   "outputs": [],
   "source": [
    "# TO-DO"
   ]
  },
  {
   "attachments": {},
   "cell_type": "markdown",
   "id": "1d2e70d7",
   "metadata": {},
   "source": [
    "## 10.6 - Business performance"
   ]
  },
  {
   "attachments": {},
   "cell_type": "markdown",
   "id": "a294eeac",
   "metadata": {},
   "source": [
    "*Translate testing performance into business results*"
   ]
  },
  {
   "cell_type": "code",
   "execution_count": null,
   "id": "36f80bff",
   "metadata": {},
   "outputs": [],
   "source": [
    "# TO-DO"
   ]
  },
  {
   "attachments": {},
   "cell_type": "markdown",
   "id": "855aae5f",
   "metadata": {},
   "source": [
    "# **11 - DEPLOYMENT**"
   ]
  },
  {
   "attachments": {},
   "cell_type": "markdown",
   "id": "ee8e3824",
   "metadata": {},
   "source": [
    "![Deployment architecture](../img/....jpg)"
   ]
  },
  {
   "attachments": {},
   "cell_type": "markdown",
   "id": "c8ebea41",
   "metadata": {},
   "source": [
    "## 11.1 - API creation"
   ]
  },
  {
   "attachments": {},
   "cell_type": "markdown",
   "id": "33ea6360",
   "metadata": {},
   "source": [
    "*Code to create API for ML predictions*"
   ]
  },
  {
   "cell_type": "code",
   "execution_count": null,
   "id": "c1352323",
   "metadata": {},
   "outputs": [],
   "source": [
    "# TO-DO"
   ]
  },
  {
   "attachments": {},
   "cell_type": "markdown",
   "id": "60bbaa2e",
   "metadata": {},
   "source": [
    "## 11.2 - Docker container"
   ]
  },
  {
   "attachments": {},
   "cell_type": "markdown",
   "id": "4e1b9c1e",
   "metadata": {},
   "source": [
    "*Code to create a Docker container and deploy ML model*"
   ]
  },
  {
   "cell_type": "code",
   "execution_count": 1,
   "id": "73bb3659",
   "metadata": {},
   "outputs": [],
   "source": [
    "# TO-DO"
   ]
  },
  {
   "cell_type": "code",
   "execution_count": null,
   "id": "c0333fb1",
   "metadata": {},
   "outputs": [],
   "source": []
  }
 ],
 "metadata": {
  "kernelspec": {
   "display_name": "indicium_case",
   "language": "python",
   "name": "python3"
  },
  "language_info": {
   "codemirror_mode": {
    "name": "ipython",
    "version": 3
   },
   "file_extension": ".py",
   "mimetype": "text/x-python",
   "name": "python",
   "nbconvert_exporter": "python",
   "pygments_lexer": "ipython3",
   "version": "3.10.6"
  },
  "toc": {
   "base_numbering": 1,
   "nav_menu": {},
   "number_sections": false,
   "sideBar": true,
   "skip_h1_title": false,
   "title_cell": "Table of Contents",
   "title_sidebar": "Contents",
   "toc_cell": false,
   "toc_position": {},
   "toc_section_display": true,
   "toc_window_display": false
  },
  "varInspector": {
   "cols": {
    "lenName": 16,
    "lenType": 16,
    "lenVar": 40
   },
   "kernels_config": {
    "python": {
     "delete_cmd_postfix": "",
     "delete_cmd_prefix": "del ",
     "library": "var_list.py",
     "varRefreshCmd": "print(var_dic_list())"
    },
    "r": {
     "delete_cmd_postfix": ") ",
     "delete_cmd_prefix": "rm(",
     "library": "var_list.r",
     "varRefreshCmd": "cat(var_dic_list()) "
    }
   },
   "types_to_exclude": [
    "module",
    "function",
    "builtin_function_or_method",
    "instance",
    "_Feature"
   ],
   "window_display": false
  }
 },
 "nbformat": 4,
 "nbformat_minor": 5
}
